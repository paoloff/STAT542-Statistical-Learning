{
 "cells": [
  {
   "cell_type": "code",
   "execution_count": 177,
   "id": "26e276eb-0a08-4d9c-9063-a50687f021b8",
   "metadata": {},
   "outputs": [],
   "source": [
    "import numpy as np\n",
    "import pandas as pd\n",
    "from sklearn.linear_model import LinearRegression as lr\n",
    "import matplotlib.pyplot as plt"
   ]
  },
  {
   "cell_type": "markdown",
   "id": "dbbd4250-f67f-41e2-9f82-43e3ad3dc6eb",
   "metadata": {},
   "source": [
    "# Reading and cleaning data"
   ]
  },
  {
   "cell_type": "code",
   "execution_count": 53,
   "id": "7dab4267-3912-4cdc-b109-19590ec58429",
   "metadata": {},
   "outputs": [],
   "source": [
    "# Reading train file:\n",
    "df = pd.read_csv(\"train.csv\")\n",
    "\n",
    "# Transforming dates to months since 8/1/2019:\n",
    "time = []\n",
    "\n",
    "for date in df['first_day_of_month']:\n",
    "\tyear, month, day = date.split('-')\n",
    "\ttime.append((int(month) - 8 + 12*(int(year) - 2019)))\n",
    "\n",
    "# Calculating number of months and number of different counties:\n",
    "n_months = max(time) + 1\n",
    "n_counties = int(len(time)/n_months)\n",
    "\n",
    "# Defining the predictor variable X and response variable Y:\n",
    "X = np.zeros((n_months,1))\n",
    "for n in range(n_months):\n",
    "\tX[n] = [n+1]\n",
    "\n",
    "\n",
    "# Cleaning the data -- remove counties with missing information\n",
    "Yraw = np.zeros((n_counties, n_months))\n",
    "\n",
    "for c in range(n_counties):\n",
    "\tYraw[c,:] = df['microbusiness_density'][n_months*c:n_months*(c+1)]\n",
    "\n",
    "Y = []\n",
    "deleted_indices = []\n",
    "for c in range(n_counties):\n",
    "\tif 0 in Yraw[c,:]:\n",
    "\t\tdeleted_indices.append(c)\n",
    "\t\tpass\n",
    "\telse:\n",
    "\t\tY.append(Yraw[c,:])\n",
    "\n",
    "n_counties = len(Y)\n",
    "Y = np.array(Y)"
   ]
  },
  {
   "cell_type": "code",
   "execution_count": 73,
   "id": "461ec792-8506-4c8e-82a6-6e747f808532",
   "metadata": {},
   "outputs": [],
   "source": [
    "# Fitting Y to a linear regression model on X:\n",
    "coeffs_m1 = np.zeros((n_counties,2))\n",
    "coeffs_m2 = np.zeros((n_counties,2))\n",
    "coeffs_m3 = np.zeros((n_counties,2))\n"
   ]
  },
  {
   "cell_type": "markdown",
   "id": "e18ea554-f1a7-4069-852e-b66e2272cfd5",
   "metadata": {},
   "source": [
    "# Model Baseline 1: Linear Regression over all months"
   ]
  },
  {
   "cell_type": "code",
   "execution_count": 74,
   "id": "e8df40a8-f8da-4874-9e25-544237925720",
   "metadata": {},
   "outputs": [],
   "source": [
    "for n in range(n_counties):\n",
    "\treg = lr().fit(X, Y[n,:])\n",
    "\tcoeffs_m1[n,0] = reg.coef_\n",
    "\tcoeffs_m1[n,1] = reg.intercept_"
   ]
  },
  {
   "cell_type": "markdown",
   "id": "3472748b-40ab-4536-b337-3c9863f9d480",
   "metadata": {},
   "source": [
    "# Model Baseline 2: Linear Regression over last 12 months"
   ]
  },
  {
   "cell_type": "code",
   "execution_count": 75,
   "id": "8a8ddf78-4878-414a-a5e0-895bb573c2e7",
   "metadata": {},
   "outputs": [],
   "source": [
    "N2 = 12\n",
    "for n in range(n_counties):\n",
    "\t\treg = lr().fit(X[-N2:], Y[n,-N2:])\n",
    "\t\tcoeffs_m2[n,0] = reg.coef_\n",
    "\t\tcoeffs_m2[n,1] = reg.intercept_\n",
    "\n"
   ]
  },
  {
   "cell_type": "markdown",
   "id": "995344b8-e39e-4a79-a7dd-24e726990d58",
   "metadata": {},
   "source": [
    "# Model 3: Linear regression over selected data"
   ]
  },
  {
   "cell_type": "code",
   "execution_count": 76,
   "id": "a316c5b8-b739-4e1b-98f5-bb446ff900fe",
   "metadata": {},
   "outputs": [],
   "source": [
    "n_min = 6\n",
    "max_dev = 3\n",
    "Nmonth = n_months*np.ones(n_counties, dtype = np.int8)\n",
    "\n",
    "for n in range(n_counties):\n",
    "\tfor N in range(n_min,n_months):\n",
    "\t\treg = lr().fit(X[-N:], Y[n,-N:])\n",
    "\t\tcoeffs_m3[n,0] = reg.coef_\n",
    "\t\tcoeffs_m3[n,1] = reg.intercept_\n",
    "\t\tresiduals = (Y[n,-N:].reshape(N,1)- X[-N:]*coeffs_m3[n,0] - coeffs_m3[n,1])\n",
    "\t\tstd = np.std(residuals)\n",
    "\t\tnew_residual = abs(Y[n,-N-1]- X[-N-1]*coeffs_m3[n,0] - coeffs_m3[n,1])\n",
    "\t\tif new_residual > max_dev*std:\n",
    "\t\t\tNmonth[n] = int(N)\n",
    "\t\t\tbreak\n",
    "            "
   ]
  },
  {
   "cell_type": "markdown",
   "id": "5c9e19f0-9feb-43e8-8e82-b95b6b36402c",
   "metadata": {},
   "source": [
    "# Computing standard error of the train data for each model:"
   ]
  },
  {
   "cell_type": "code",
   "execution_count": 161,
   "id": "8f87b736-207b-4a52-820f-b2b2567b481a",
   "metadata": {},
   "outputs": [
    {
     "name": "stdout",
     "output_type": "stream",
     "text": [
      "0.04552844437085259 0.015360244406760586 0.011176985013977223\n",
      "0.026407058199239827 0.009153593064664432 0.006650828788040583\n",
      "3.5392394454307046 1.6471254346994728 1.943835687516089\n"
     ]
    }
   ],
   "source": [
    "# Computing the standard errors of prediction for each County:\n",
    "se1 = []\n",
    "se2 = []\n",
    "se3 = []\n",
    "\n",
    "for n in range(n_counties):\n",
    "\tY_pred_m1 = X*coeffs_m1[n,0] + coeffs_m1[n,1]\n",
    "\tY_pred_m2 = X[-N2:]*coeffs_m2[n,0] + coeffs_m2[n,1]\n",
    "\tY_pred_m3 = X[-Nmonth[n]:]*coeffs_m3[n,0] + coeffs_m3[n,1]\n",
    "\tif 0 in Y[n,:]:\n",
    "\t\tpass\n",
    "\telse:\n",
    "\t\tse1.append(np.sum((abs(Y[n,:]-Y_pred_m1.T))/Y[n,:])/n_months)\n",
    "\t\tse2.append(np.sum((abs(Y[n,-N2:]-Y_pred_m2.T))/Y[n,-N2:])/N2)\n",
    "\t\tse3.append(np.sum((abs(Y[n,-Nmonth[n]:]-Y_pred_m3.T))/Y[n,-Nmonth[n]:])/Nmonth[n])\n"
   ]
  },
  {
   "cell_type": "markdown",
   "id": "bd9ef79d-5e86-4d1a-b4c9-a254018d9f5c",
   "metadata": {},
   "source": [
    "## Output 1: mean errors for train data"
   ]
  },
  {
   "cell_type": "code",
   "execution_count": 180,
   "id": "01bdffd2-9e3a-4c30-afec-85ef600d638c",
   "metadata": {},
   "outputs": [
    {
     "name": "stdout",
     "output_type": "stream",
     "text": [
      "0.04552844437085259 0.015360244406760586 0.011176985013977223\n",
      "0.026407058199239827 0.009153593064664432 0.006650828788040583\n",
      "3.5392394454307046 1.6471254346994728 1.943835687516089\n"
     ]
    }
   ],
   "source": [
    "        \n",
    "print(np.mean(se1),np.mean(se2),np.mean(se3))\n",
    "print(np.median(se1),np.median(se2),np.median(se3))\n",
    "print(np.max(se1),np.max(se2),np.max(se3))"
   ]
  },
  {
   "cell_type": "markdown",
   "id": "f35ad642-c6a7-421d-b4b4-f809f716e8cf",
   "metadata": {},
   "source": [
    "# Evaluating error in test data:"
   ]
  },
  {
   "cell_type": "code",
   "execution_count": 80,
   "id": "e705c769-7114-4389-9a37-b21e334a475b",
   "metadata": {},
   "outputs": [],
   "source": [
    "# Reading the test file:\n",
    "df2 = pd.read_csv(\"revealed_test.csv\")\n",
    "\n",
    "# Computing X_test and Y_test:\n",
    "n_months_test = 2\n",
    "\n",
    "X_test = []\n",
    "\n",
    "for date in df2['first_day_of_month'][0:n_months_test]:\n",
    "\tyear, month, day = date.split('-')\n",
    "\ttime = ((int(month) - 8 + 12*(int(year) - 2019)))\n",
    "\tX_test.append([time])\n",
    "\n",
    "X_test = np.array(X_test)\n",
    "Y_test = []\n",
    "\n",
    "for c in range(n_counties+len(deleted_indices)):\n",
    "\tif c in deleted_indices:\n",
    "\t\tpass\n",
    "\telse:\n",
    "\t\tY_test.append(df2['microbusiness_density'][n_months_test*c:n_months_test*(c+1)])\n",
    "    \n",
    "Y_test = np.array(Y_test)\n",
    "\n",
    "Y_test.shape\n",
    "\n",
    "se_test1 = []\n",
    "se_test2 = []\n",
    "se_test3 = []\n",
    "\n",
    "for n in range(n_counties):\n",
    "\tY_pred_test_m1 = X_test*coeffs_m1[n,0] + coeffs_m1[n,1]\n",
    "\tY_pred_test_m2 = X_test*coeffs_m2[n,0] + coeffs_m2[n,1]\n",
    "\tY_pred_test_m3 = X_test*coeffs_m3[n,0] + coeffs_m3[n,1]\n",
    "\tse_test1.append(np.sum((abs(Y_test[n,:]-Y_pred_test_m1.T))/Y_test[n,:])/n_months_test)\n",
    "\tse_test2.append(np.sum((abs(Y_test[n,:]-Y_pred_test_m2.T))/Y_test[n,:])/n_months_test)\n",
    "\tse_test3.append(np.sum((abs(Y_test[n,:]-Y_pred_test_m3.T))/Y_test[n,:])/n_months_test)"
   ]
  },
  {
   "cell_type": "markdown",
   "id": "5e2dabf5-7d98-4efe-ab66-178c8ea9f2a4",
   "metadata": {},
   "source": [
    "## Output 2: mean errors for test data"
   ]
  },
  {
   "cell_type": "code",
   "execution_count": 178,
   "id": "44f3de06-0fc5-47ba-8564-fef2a4863a51",
   "metadata": {},
   "outputs": [
    {
     "name": "stdout",
     "output_type": "stream",
     "text": [
      "0.06708537412222045 0.027611896321677393 0.027614518780614418\n",
      "0.034589751906966504 0.012638897013648296 0.011659280627290443\n",
      "14.446930749306366 3.0452154390544885 5.552370074209941\n"
     ]
    }
   ],
   "source": [
    "print(np.mean(se_test1),np.mean(se_test2),np.mean(se_test3))\n",
    "print(np.median(se_test1),np.median(se_test2),np.median(se_test3))\n",
    "print(np.max(se_test1),np.max(se_test2),np.max(se_test3))"
   ]
  },
  {
   "cell_type": "markdown",
   "id": "1337872e-47f0-4a14-b13d-9b4ad08489bf",
   "metadata": {},
   "source": [
    "# Analysis - tuning lambda\n"
   ]
  },
  {
   "cell_type": "code",
   "execution_count": 157,
   "id": "4401d002-f988-4a49-af06-9b6c62a04e34",
   "metadata": {},
   "outputs": [
    {
     "name": "stdout",
     "output_type": "stream",
     "text": [
      "[0.010370775729483212, 0.010261081958558866, 0.012157803240149156, 0.015875345103973745, 0.01979046549261085, 0.023059862502616102, 0.025188426659647725, 0.026588029298505025, 0.02786818869126414, 0.028921298595061744] [0.02271675420750567, 0.02510591288223175, 0.027614518780614418, 0.034734574873631914, 0.03935437808924475, 0.04352895826771346, 0.04625518175273745, 0.0478423225396263, 0.04933933508521539, 0.05064938930455502]\n"
     ]
    }
   ],
   "source": [
    "n_min = 6\n",
    "max_devs = [1,2,3,4,5,6,7,8,9,10]\n",
    "Nmonth2 = n_months*np.ones(n_counties, dtype = np.int8)\n",
    "coeffs_m32 = np.zeros((n_counties,2))\n",
    "se_test32_mean = []\n",
    "se3_mean = []\n",
    "\n",
    "\n",
    "for max_dev in max_devs:\n",
    "    se_test32 = []\n",
    "    se3 = []\n",
    "\n",
    "    for n in range(n_counties):\n",
    "        for N in range(n_min,n_months):\n",
    "            reg = lr().fit(X[-N:], Y[n,-N:])\n",
    "            coeffs_m32[n,0] = reg.coef_\n",
    "            coeffs_m32[n,1] = reg.intercept_\n",
    "            residuals = (Y[n,-N:].reshape(N,1)- X[-N:]*coeffs_m32[n,0] - coeffs_m32[n,1])\n",
    "            std = np.std(residuals)\n",
    "            new_residual = abs(Y[n,-N-1]- X[-N-1]*coeffs_m32[n,0] - coeffs_m32[n,1])\n",
    "            if new_residual > max_dev*std:\n",
    "                Nmonth2[n] = int(N)\n",
    "                break\n",
    "\n",
    "    # Computing the standard errors of prediction for each County:\n",
    "    \n",
    "\n",
    "    for n in range(n_counties):\n",
    "        Y_pred_m32 = X[-Nmonth2[n]:]*coeffs_m32[n,0] + coeffs_m32[n,1]\n",
    "        if 0 in Y[n,:]:\n",
    "            pass\n",
    "        else:\n",
    "            se3.append(np.sum((abs(Y[n,-Nmonth2[n]:]-Y_pred_m32.T))/Y[n,-Nmonth2[n]:])/Nmonth2[n])\n",
    "\n",
    "    \n",
    "\n",
    "    for n in range(n_counties):\n",
    "        Y_pred_test_m32 = X_test*coeffs_m32[n,0] + coeffs_m32[n,1]\n",
    "        se_test32.append(np.sum((abs(Y_test[n,:]-Y_pred_test_m32.T))/Y_test[n,:])/n_months_test)\n",
    "\n",
    "    se3_mean.append(np.mean(se3))\n",
    "    se_test32_mean.append(np.mean(se_test32))\n",
    "\n"
   ]
  },
  {
   "cell_type": "markdown",
   "id": "f11c9f9f-4143-4937-8fd5-a731f53a1492",
   "metadata": {},
   "source": [
    "## Output 3: mean errors under different lambdas"
   ]
  },
  {
   "cell_type": "code",
   "execution_count": 179,
   "id": "add2e31d-d37c-4c81-9f9e-26fa23602c18",
   "metadata": {},
   "outputs": [
    {
     "name": "stdout",
     "output_type": "stream",
     "text": [
      "[0.010370775729483212, 0.010261081958558866, 0.012157803240149156, 0.015875345103973745, 0.01979046549261085, 0.023059862502616102, 0.025188426659647725, 0.026588029298505025, 0.02786818869126414, 0.028921298595061744] [0.02271675420750567, 0.02510591288223175, 0.027614518780614418, 0.034734574873631914, 0.03935437808924475, 0.04352895826771346, 0.04625518175273745, 0.0478423225396263, 0.04933933508521539, 0.05064938930455502]\n"
     ]
    }
   ],
   "source": [
    "print(se3_mean, se_test32_mean)"
   ]
  },
  {
   "cell_type": "code",
   "execution_count": null,
   "id": "c19fe45a-ffa3-48f6-975c-42af71e0640f",
   "metadata": {},
   "outputs": [],
   "source": []
  }
 ],
 "metadata": {
  "kernelspec": {
   "display_name": "Python 3 (ipykernel)",
   "language": "python",
   "name": "python3"
  },
  "language_info": {
   "codemirror_mode": {
    "name": "ipython",
    "version": 3
   },
   "file_extension": ".py",
   "mimetype": "text/x-python",
   "name": "python",
   "nbconvert_exporter": "python",
   "pygments_lexer": "ipython3",
   "version": "3.9.7"
  }
 },
 "nbformat": 4,
 "nbformat_minor": 5
}
