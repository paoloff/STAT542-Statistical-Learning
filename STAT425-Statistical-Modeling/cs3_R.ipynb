{
 "cells": [
  {
   "cell_type": "markdown",
   "id": "2e73aeb7",
   "metadata": {},
   "source": [
    "## <center>Title: Case Study 3<center>\n",
    "## <center>Author: Paolo Ferrari<center>\n",
    "## <center>Date: 2023-05-08<center>\n",
    "    \n",
    "---"
   ]
  },
  {
   "cell_type": "markdown",
   "id": "bf33d19d",
   "metadata": {},
   "source": [
    "###  Introduction"
   ]
  },
  {
   "cell_type": "markdown",
   "id": "7a27b140",
   "metadata": {},
   "source": [
    "Nosocomial infections are infections acquired during hospitalization in a health-care facility. Various types of\n",
    "bacteria, viruses and fungi can cause nosocomial infections. These can be transmitted through contaminated\n",
    "equipment, personal contact with other patients or health-care professionals, or even through the air ventilation.\n",
    "Negative consequences of nosocomial infections are various: increased patient morbidity, increased risk of death,\n",
    "increased length-of-stay and increased cost of treatment. Thus, it is important to make hospitals and clinics safe of\n",
    "such infections.\n",
    "\n",
    "In an effort to identify the impacts of control measures in the rate of nosocomial infections on hospitals in the\n",
    "US, the Study on the Efficacy of Nosocomial Infection Control (SENIC) Project conducted data analysis of patient stays\n",
    "across 338 hospitals during the years 1975-1976. One of the specific goals of the SENIC was to identify if the lengthof-stay of patients in hospitals depended on a number of different variables.\n",
    "\n",
    "### Objective\n",
    "\n",
    "In this Case Study, we analyze the dependence of the length-of-stay versus 3 factor variables:(i) the geographical\n",
    "region of the hospital, (ii) a factor representing the age of the patient and (iii) a factor representing the availability\n",
    "of facilities and services offered by the hospital. The analyzed data is a sample of the original SENIC data containing\n",
    "113 records.\n",
    "\n",
    "For the purpose of the analysis, we split this Case Study into three parts. Starting from Part A, each subsequent part adds an extra variable to our analysis as follows:\n",
    "\n",
    "- In Part A, we look into the **effect of the geographical region of a hospital on its average length-of-stay.**\n",
    "- In Part B, we investigate the influence of the **geographical region and age of patient on the average length-of-stay**, including if the combination between these two variables has a significant effect.\n",
    "- In Part C, we investigate the influence of **geographical region, age and availability of services and facilities have on the average length-of-stay**, including their combined action.\n",
    "\n",
    "To achieve these goals, we fit various ANOVA models of the different factor variables and test the statistical\n",
    "significance of each. \n",
    "\n",
    "Next, we apply diagnostic and remedial measures to check the validity of the ANOVA\n",
    "assumptions. \n",
    "\n",
    "Finally, we report the results of the models encountered for each of the cases A, B and C.\n",
    "\n",
    "---\n"
   ]
  },
  {
   "cell_type": "code",
   "execution_count": 1,
   "id": "2505e370",
   "metadata": {},
   "outputs": [
    {
     "name": "stderr",
     "output_type": "stream",
     "text": [
      "Warning message:\n",
      "\"package 'repr' was built under R version 4.2.3\"\n"
     ]
    }
   ],
   "source": [
    "# Importing libraries\n",
    "\n",
    "library(MASS)\n",
    "library(ggplot2)\n",
    "library(repr)"
   ]
  },
  {
   "cell_type": "markdown",
   "id": "444dc623",
   "metadata": {},
   "source": [
    "## Part A \n",
    "\n",
    "\n",
    "### A.0) Data transformation and visualization"
   ]
  },
  {
   "cell_type": "markdown",
   "id": "3db95662",
   "metadata": {},
   "source": [
    "In this first part, we test whether the length-of-stay depends on the geographical region.\n",
    "\n",
    "So, first, let's import and transform the data."
   ]
  },
  {
   "cell_type": "code",
   "execution_count": 2,
   "id": "5600588e",
   "metadata": {},
   "outputs": [
    {
     "data": {
      "text/html": [
       "<table class=\"dataframe\">\n",
       "<caption>A data.frame: 6 × 12</caption>\n",
       "<thead>\n",
       "\t<tr><th></th><th scope=col>V1</th><th scope=col>V2</th><th scope=col>V3</th><th scope=col>V4</th><th scope=col>V5</th><th scope=col>V6</th><th scope=col>V7</th><th scope=col>V8</th><th scope=col>V9</th><th scope=col>V10</th><th scope=col>V11</th><th scope=col>V12</th></tr>\n",
       "\t<tr><th></th><th scope=col>&lt;int&gt;</th><th scope=col>&lt;dbl&gt;</th><th scope=col>&lt;dbl&gt;</th><th scope=col>&lt;dbl&gt;</th><th scope=col>&lt;dbl&gt;</th><th scope=col>&lt;dbl&gt;</th><th scope=col>&lt;int&gt;</th><th scope=col>&lt;int&gt;</th><th scope=col>&lt;fct&gt;</th><th scope=col>&lt;int&gt;</th><th scope=col>&lt;int&gt;</th><th scope=col>&lt;dbl&gt;</th></tr>\n",
       "</thead>\n",
       "<tbody>\n",
       "\t<tr><th scope=row>1</th><td>1</td><td> 7.13</td><td>55.7</td><td>4.1</td><td> 9.0</td><td> 39.6</td><td>279</td><td>2</td><td>4</td><td>207</td><td>241</td><td>60</td></tr>\n",
       "\t<tr><th scope=row>2</th><td>2</td><td> 8.82</td><td>58.2</td><td>1.6</td><td> 3.8</td><td> 51.7</td><td> 80</td><td>2</td><td>2</td><td> 51</td><td> 52</td><td>40</td></tr>\n",
       "\t<tr><th scope=row>3</th><td>3</td><td> 8.34</td><td>56.9</td><td>2.7</td><td> 8.1</td><td> 74.0</td><td>107</td><td>2</td><td>3</td><td> 82</td><td> 54</td><td>20</td></tr>\n",
       "\t<tr><th scope=row>4</th><td>4</td><td> 8.95</td><td>53.7</td><td>5.6</td><td>18.9</td><td>122.8</td><td>147</td><td>2</td><td>4</td><td> 53</td><td>148</td><td>40</td></tr>\n",
       "\t<tr><th scope=row>5</th><td>5</td><td>11.20</td><td>56.5</td><td>5.7</td><td>34.5</td><td> 88.9</td><td>180</td><td>2</td><td>1</td><td>134</td><td>151</td><td>40</td></tr>\n",
       "\t<tr><th scope=row>6</th><td>6</td><td> 9.76</td><td>50.9</td><td>5.1</td><td>21.9</td><td> 97.0</td><td>150</td><td>2</td><td>2</td><td>147</td><td>106</td><td>40</td></tr>\n",
       "</tbody>\n",
       "</table>\n"
      ],
      "text/latex": [
       "A data.frame: 6 × 12\n",
       "\\begin{tabular}{r|llllllllllll}\n",
       "  & V1 & V2 & V3 & V4 & V5 & V6 & V7 & V8 & V9 & V10 & V11 & V12\\\\\n",
       "  & <int> & <dbl> & <dbl> & <dbl> & <dbl> & <dbl> & <int> & <int> & <fct> & <int> & <int> & <dbl>\\\\\n",
       "\\hline\n",
       "\t1 & 1 &  7.13 & 55.7 & 4.1 &  9.0 &  39.6 & 279 & 2 & 4 & 207 & 241 & 60\\\\\n",
       "\t2 & 2 &  8.82 & 58.2 & 1.6 &  3.8 &  51.7 &  80 & 2 & 2 &  51 &  52 & 40\\\\\n",
       "\t3 & 3 &  8.34 & 56.9 & 2.7 &  8.1 &  74.0 & 107 & 2 & 3 &  82 &  54 & 20\\\\\n",
       "\t4 & 4 &  8.95 & 53.7 & 5.6 & 18.9 & 122.8 & 147 & 2 & 4 &  53 & 148 & 40\\\\\n",
       "\t5 & 5 & 11.20 & 56.5 & 5.7 & 34.5 &  88.9 & 180 & 2 & 1 & 134 & 151 & 40\\\\\n",
       "\t6 & 6 &  9.76 & 50.9 & 5.1 & 21.9 &  97.0 & 150 & 2 & 2 & 147 & 106 & 40\\\\\n",
       "\\end{tabular}\n"
      ],
      "text/markdown": [
       "\n",
       "A data.frame: 6 × 12\n",
       "\n",
       "| <!--/--> | V1 &lt;int&gt; | V2 &lt;dbl&gt; | V3 &lt;dbl&gt; | V4 &lt;dbl&gt; | V5 &lt;dbl&gt; | V6 &lt;dbl&gt; | V7 &lt;int&gt; | V8 &lt;int&gt; | V9 &lt;fct&gt; | V10 &lt;int&gt; | V11 &lt;int&gt; | V12 &lt;dbl&gt; |\n",
       "|---|---|---|---|---|---|---|---|---|---|---|---|---|\n",
       "| 1 | 1 |  7.13 | 55.7 | 4.1 |  9.0 |  39.6 | 279 | 2 | 4 | 207 | 241 | 60 |\n",
       "| 2 | 2 |  8.82 | 58.2 | 1.6 |  3.8 |  51.7 |  80 | 2 | 2 |  51 |  52 | 40 |\n",
       "| 3 | 3 |  8.34 | 56.9 | 2.7 |  8.1 |  74.0 | 107 | 2 | 3 |  82 |  54 | 20 |\n",
       "| 4 | 4 |  8.95 | 53.7 | 5.6 | 18.9 | 122.8 | 147 | 2 | 4 |  53 | 148 | 40 |\n",
       "| 5 | 5 | 11.20 | 56.5 | 5.7 | 34.5 |  88.9 | 180 | 2 | 1 | 134 | 151 | 40 |\n",
       "| 6 | 6 |  9.76 | 50.9 | 5.1 | 21.9 |  97.0 | 150 | 2 | 2 | 147 | 106 | 40 |\n",
       "\n"
      ],
      "text/plain": [
       "  V1 V2    V3   V4  V5   V6    V7  V8 V9 V10 V11 V12\n",
       "1 1   7.13 55.7 4.1  9.0  39.6 279 2  4  207 241 60 \n",
       "2 2   8.82 58.2 1.6  3.8  51.7  80 2  2   51  52 40 \n",
       "3 3   8.34 56.9 2.7  8.1  74.0 107 2  3   82  54 20 \n",
       "4 4   8.95 53.7 5.6 18.9 122.8 147 2  4   53 148 40 \n",
       "5 5  11.20 56.5 5.7 34.5  88.9 180 2  1  134 151 40 \n",
       "6 6   9.76 50.9 5.1 21.9  97.0 150 2  2  147 106 40 "
      ]
     },
     "metadata": {},
     "output_type": "display_data"
    }
   ],
   "source": [
    "data = read.table(\"senic.txt\")\n",
    "\n",
    "# Transform Region (V9) to a factor variable:\n",
    "data$V9 = as.factor(data$V9)\n",
    "\n",
    "head(data)"
   ]
  },
  {
   "cell_type": "markdown",
   "id": "4a851839",
   "metadata": {},
   "source": [
    "The next figure shows a boxplot of these two variables, with the Region variable taking 4 possible values.\n"
   ]
  },
  {
   "cell_type": "code",
   "execution_count": 46,
   "id": "c635d03a",
   "metadata": {},
   "outputs": [
    {
     "data": {
      "image/png": "[encoded data removed]",
      "text/plain": [
       "plot without title"
      ]
     },
     "metadata": {
      "image/png": {
       "height": 300,
       "width": 420
      }
     },
     "output_type": "display_data"
    }
   ],
   "source": [
    "scale = 1.5\n",
    "boxplot(V2 ~ V9, data= data, outline = FALSE, xlab= \"Region\", ylab= \"Length-of-stay\",cex.lab=scale, cex.axis = scale)\n",
    "stripchart(V2 ~ V9, data=data, method=\"jitter\",\n",
    "           col=\"blue\", vertical=TRUE, add=TRUE)\n",
    "\n",
    "fig <- function(width, heigth){\n",
    " options(repr.plot.width = width, repr.plot.height = heigth)\n",
    " }\n",
    "\n",
    "fig(7,5)\n",
    "fig.align = 'center'"
   ]
  },
  {
   "cell_type": "markdown",
   "id": "1e1f57d0",
   "metadata": {},
   "source": [
    "Even though the boxes overlap significantly, **the plot seems to indicate that the 4 geographical regions have different mean lengths-of-stay.**\n",
    "\n",
    "### A.1) ANOVA model:"
   ]
  },
  {
   "cell_type": "markdown",
   "id": "304ecc7b",
   "metadata": {},
   "source": [
    "We run a full ANOVA model on the dataset:"
   ]
  },
  {
   "cell_type": "code",
   "execution_count": 4,
   "id": "7257b8da",
   "metadata": {},
   "outputs": [
    {
     "data": {
      "text/plain": [
       "\n",
       "Call:\n",
       "lm(formula = V2 ~ V9, data = data)\n",
       "\n",
       "Residuals:\n",
       "    Min      1Q  Median      3Q     Max \n",
       "-3.0589 -1.0314 -0.0234  0.6811  8.4711 \n",
       "\n",
       "Coefficients:\n",
       "            Estimate Std. Error t value Pr(>|t|)    \n",
       "(Intercept)  11.0889     0.3165  35.040  < 2e-16 ***\n",
       "V92          -1.4055     0.4333  -3.243  0.00157 ** \n",
       "V93          -1.8976     0.4194  -4.524 1.55e-05 ***\n",
       "V94          -2.9752     0.5248  -5.669 1.19e-07 ***\n",
       "---\n",
       "Signif. codes:  0 '***' 0.001 '**' 0.01 '*' 0.05 '.' 0.1 ' ' 1\n",
       "\n",
       "Residual standard error: 1.675 on 109 degrees of freedom\n",
       "Multiple R-squared:  0.2531,\tAdjusted R-squared:  0.2325 \n",
       "F-statistic: 12.31 on 3 and 109 DF,  p-value: 5.376e-07\n"
      ]
     },
     "metadata": {},
     "output_type": "display_data"
    }
   ],
   "source": [
    "a.full = lm(V2 ~ V9, data = data)\n",
    "summary(a.full)"
   ]
  },
  {
   "cell_type": "markdown",
   "id": "71e79c27",
   "metadata": {},
   "source": [
    "**Since all predictors have p-values less than 0.05, they are all statistically significant by using a significance of 95%.**\n",
    "\n",
    "\n",
    "### A.2) Diagnostics and remedial measures\n",
    "\n",
    "We start the diagnosis with a visual inspection for normality of the residuals by using a (1) a QQ plot and (2) a residuals vs fitted values plot:"
   ]
  },
  {
   "cell_type": "code",
   "execution_count": 48,
   "id": "48c2ebf9",
   "metadata": {},
   "outputs": [
    {
     "data": {
      "image/png": "[encoded data removed]",
      "text/plain": [
       "Plot with title \"Normal Q-Q Plot\""
      ]
     },
     "metadata": {
      "image/png": {
       "height": 300,
       "width": 900
      }
     },
     "output_type": "display_data"
    }
   ],
   "source": [
    "scale = 1.5\n",
    "par(mfrow=c(1,2))\n",
    "qqnorm(a.full$res,cex.lab=scale, cex.axis = scale)\n",
    "plot(a.full$fitted, a.full$res, xlab=\"Fitted\", ylab=\"Residuals\",cex.lab=scale, cex.axis = scale)\n",
    "fig(15,5)"
   ]
  },
  {
   "cell_type": "markdown",
   "id": "3448f997",
   "metadata": {},
   "source": [
    "This figure indicate: \n",
    "\n",
    "(i) From the QQ plot, that **there exists two potential outliers**\n",
    "\n",
    "(ii) From the residuals plot, that **the residuals do not have equal variance.**"
   ]
  },
  {
   "cell_type": "markdown",
   "id": "5fddf4d2",
   "metadata": {},
   "source": [
    "Because of conclusion (i), we will check for unusual observations using three methods: \n",
    "\n",
    "1 - A test for high leverage\n",
    "\n",
    "2 - A test for outliers using studentized residuals\n",
    "\n",
    "3 - A test for high influence\n",
    "\n",
    "\n",
    "-   First, we look for high leverage points:"
   ]
  },
  {
   "cell_type": "code",
   "execution_count": 6,
   "id": "228eacd9",
   "metadata": {},
   "outputs": [
    {
     "data": {
      "text/html": [
       "<style>\n",
       ".dl-inline {width: auto; margin:0; padding: 0}\n",
       ".dl-inline>dt, .dl-inline>dd {float: none; width: auto; display: inline-block}\n",
       ".dl-inline>dt::after {content: \":\\0020\"; padding-right: .5ex}\n",
       ".dl-inline>dt:not(:first-of-type) {padding-left: .5ex}\n",
       "</style><dl class=dl-inline><dt>1</dt><dd>0.0625</dd><dt>2</dt><dd>0.03125</dd><dt>3</dt><dd>0.027027027027027</dd><dt>4</dt><dd>0.0625</dd><dt>5</dt><dd>0.0357142857142857</dd><dt>6</dt><dd>0.03125</dd></dl>\n"
      ],
      "text/latex": [
       "\\begin{description*}\n",
       "\\item[1] 0.0625\n",
       "\\item[2] 0.03125\n",
       "\\item[3] 0.027027027027027\n",
       "\\item[4] 0.0625\n",
       "\\item[5] 0.0357142857142857\n",
       "\\item[6] 0.03125\n",
       "\\end{description*}\n"
      ],
      "text/markdown": [
       "1\n",
       ":   0.06252\n",
       ":   0.031253\n",
       ":   0.0270270270270274\n",
       ":   0.06255\n",
       ":   0.03571428571428576\n",
       ":   0.03125\n",
       "\n"
      ],
      "text/plain": [
       "         1          2          3          4          5          6 \n",
       "0.06250000 0.03125000 0.02702703 0.06250000 0.03571429 0.03125000 "
      ]
     },
     "metadata": {},
     "output_type": "display_data"
    }
   ],
   "source": [
    "a.leverages = lm.influence(a.full)$hat\n",
    "head(a.leverages)"
   ]
  },
  {
   "cell_type": "code",
   "execution_count": 7,
   "id": "f0971f23",
   "metadata": {},
   "outputs": [
    {
     "data": {
      "text/html": [
       "0"
      ],
      "text/latex": [
       "0"
      ],
      "text/markdown": [
       "0"
      ],
      "text/plain": [
       "[1] 0"
      ]
     },
     "metadata": {},
     "output_type": "display_data"
    }
   ],
   "source": [
    "n = dim(data)[1]\n",
    "p  = length(variable.names(a.full))\n",
    "length(a.leverages[a.leverages>2*p/n])"
   ]
  },
  {
   "cell_type": "markdown",
   "id": "45f7e746",
   "metadata": {},
   "source": [
    "Thus, no high-leverage points found.\n",
    "\n",
    "-   Second, look for outliers:"
   ]
  },
  {
   "cell_type": "code",
   "execution_count": 8,
   "id": "afffd538",
   "metadata": {},
   "outputs": [
    {
     "data": {
      "text/html": [
       "<style>\n",
       ".dl-inline {width: auto; margin:0; padding: 0}\n",
       ".dl-inline>dt, .dl-inline>dd {float: none; width: auto; display: inline-block}\n",
       ".dl-inline>dt::after {content: \":\\0020\"; padding-right: .5ex}\n",
       ".dl-inline>dt:not(:first-of-type) {padding-left: .5ex}\n",
       "</style><dl class=dl-inline><dt>47</dt><dd>5.89544286753374</dd><dt>112</dt><dd>4.52290363269166</dd></dl>\n"
      ],
      "text/latex": [
       "\\begin{description*}\n",
       "\\item[47] 5.89544286753374\n",
       "\\item[112] 4.52290363269166\n",
       "\\end{description*}\n"
      ],
      "text/markdown": [
       "47\n",
       ":   5.89544286753374112\n",
       ":   4.52290363269166\n",
       "\n"
      ],
      "text/plain": [
       "      47      112 \n",
       "5.895443 4.522904 "
      ]
     },
     "metadata": {},
     "output_type": "display_data"
    }
   ],
   "source": [
    "a.resid = rstudent(a.full)\n",
    "bonferroni = abs(qt(.05/(2*n), n-p-1))\n",
    "a.resid[a.resid > bonferroni]\n"
   ]
  },
  {
   "cell_type": "markdown",
   "id": "0544e8e7",
   "metadata": {},
   "source": [
    "Thus, observations 47 and 112 are potential outliers. Indeed, they have significantly larger lengths-of-stay if compared to their region average:"
   ]
  },
  {
   "cell_type": "code",
   "execution_count": 9,
   "id": "229352c6",
   "metadata": {},
   "outputs": [
    {
     "data": {
      "text/html": [
       "<strong>(Intercept):</strong> 11.0889285714286"
      ],
      "text/latex": [
       "\\textbf{(Intercept):} 11.0889285714286"
      ],
      "text/markdown": [
       "**(Intercept):** 11.0889285714286"
      ],
      "text/plain": [
       "(Intercept) \n",
       "   11.08893 "
      ]
     },
     "metadata": {},
     "output_type": "display_data"
    },
    {
     "data": {
      "text/html": [
       "19.56"
      ],
      "text/latex": [
       "19.56"
      ],
      "text/markdown": [
       "19.56"
      ],
      "text/plain": [
       "[1] 19.56"
      ]
     },
     "metadata": {},
     "output_type": "display_data"
    },
    {
     "data": {
      "text/html": [
       "<strong>(Intercept):</strong> 11.0889285714286"
      ],
      "text/latex": [
       "\\textbf{(Intercept):} 11.0889285714286"
      ],
      "text/markdown": [
       "**(Intercept):** 11.0889285714286"
      ],
      "text/plain": [
       "(Intercept) \n",
       "   11.08893 "
      ]
     },
     "metadata": {},
     "output_type": "display_data"
    },
    {
     "data": {
      "text/html": [
       "17.94"
      ],
      "text/latex": [
       "17.94"
      ],
      "text/markdown": [
       "17.94"
      ],
      "text/plain": [
       "[1] 17.94"
      ]
     },
     "metadata": {},
     "output_type": "display_data"
    }
   ],
   "source": [
    "a.full$coefficients[data[47,]$V9]\n",
    "data[47,]$V2\n",
    "\n",
    "a.full$coefficients[data[112,]$V9]\n",
    "data[112,]$V2"
   ]
  },
  {
   "cell_type": "markdown",
   "id": "143b9f91",
   "metadata": {},
   "source": [
    "-   Finally, let's consider high influential points"
   ]
  },
  {
   "cell_type": "code",
   "execution_count": 10,
   "id": "5efe4284",
   "metadata": {},
   "outputs": [
    {
     "data": {
      "text/html": [
       "<style>\n",
       ".dl-inline {width: auto; margin:0; padding: 0}\n",
       ".dl-inline>dt, .dl-inline>dd {float: none; width: auto; display: inline-block}\n",
       ".dl-inline>dt::after {content: \":\\0020\"; padding-right: .5ex}\n",
       ".dl-inline>dt:not(:first-of-type) {padding-left: .5ex}\n",
       "</style><dl class=dl-inline><dt>47</dt><dd>0.245719991502445</dd><dt>112</dt><dd>0.160724023203931</dd><dt>70</dt><dd>0.0320407354422922</dd><dt>28</dt><dd>0.0287765571498628</dd></dl>\n"
      ],
      "text/latex": [
       "\\begin{description*}\n",
       "\\item[47] 0.245719991502445\n",
       "\\item[112] 0.160724023203931\n",
       "\\item[70] 0.0320407354422922\n",
       "\\item[28] 0.0287765571498628\n",
       "\\end{description*}\n"
      ],
      "text/markdown": [
       "47\n",
       ":   0.245719991502445112\n",
       ":   0.16072402320393170\n",
       ":   0.032040735442292228\n",
       ":   0.0287765571498628\n",
       "\n"
      ],
      "text/plain": [
       "        47        112         70         28 \n",
       "0.24571999 0.16072402 0.03204074 0.02877656 "
      ]
     },
     "metadata": {},
     "output_type": "display_data"
    }
   ],
   "source": [
    "a.cooks = cooks.distance(a.full)\n",
    "sort(a.cooks, decreasing = TRUE)[1:4]"
   ]
  },
  {
   "cell_type": "markdown",
   "id": "dd311860",
   "metadata": {},
   "source": [
    "Since no data point has a Cook's distance more than 1, there are no highly-influential points.\n",
    "\n",
    "As a remedial measure, let's delete the two outliers and re-fit the model:"
   ]
  },
  {
   "cell_type": "code",
   "execution_count": 11,
   "id": "e205d380",
   "metadata": {},
   "outputs": [
    {
     "data": {
      "text/plain": [
       "\n",
       "Call:\n",
       "lm(formula = V2 ~ V9, data = data_new)\n",
       "\n",
       "Residuals:\n",
       "    Min      1Q  Median      3Q     Max \n",
       "-2.4696 -0.9738 -0.0234  0.8114  3.4504 \n",
       "\n",
       "Coefficients:\n",
       "            Estimate Std. Error t value Pr(>|t|)    \n",
       "(Intercept)  10.4996     0.2529  41.517  < 2e-16 ***\n",
       "V92          -0.8162     0.3405  -2.397 0.018256 *  \n",
       "V93          -1.3083     0.3300  -3.964 0.000133 ***\n",
       "V94          -2.3859     0.4097  -5.823 6.14e-08 ***\n",
       "---\n",
       "Signif. codes:  0 '***' 0.001 '**' 0.01 '*' 0.05 '.' 0.1 ' ' 1\n",
       "\n",
       "Residual standard error: 1.29 on 107 degrees of freedom\n",
       "Multiple R-squared:  0.2562,\tAdjusted R-squared:  0.2354 \n",
       "F-statistic: 12.29 on 3 and 107 DF,  p-value: 5.711e-07\n"
      ]
     },
     "metadata": {},
     "output_type": "display_data"
    }
   ],
   "source": [
    "data_new = data[-c(47,112),]\n",
    "a.full.new = lm(V2 ~V9, data = data_new)\n",
    "summary(a.full.new)"
   ]
  },
  {
   "cell_type": "code",
   "execution_count": 12,
   "id": "d8e1c000",
   "metadata": {},
   "outputs": [
    {
     "data": {
      "image/png": "[encoded data removed]",
      "text/plain": [
       "Plot with title \"Normal Q-Q Plot\""
      ]
     },
     "metadata": {
      "image/png": {
       "height": 300,
       "width": 900
      }
     },
     "output_type": "display_data"
    }
   ],
   "source": [
    "par(mfrow=c(1,2))\n",
    "qqnorm(a.full.new$res,cex.lab=scale, cex.axis = scale)\n",
    "plot(a.full.new$fitted, a.full.new$res, xlab=\"Fitted\", ylab=\"Residuals\",cex.lab=scale, cex.axis = scale)\n",
    "fig(15,5)"
   ]
  },
  {
   "cell_type": "markdown",
   "id": "a8098447",
   "metadata": {},
   "source": [
    "The residuals are now well centered at 0 and no outliers seem to be present. On the other hand, the residual's variance is still far from constant.\n",
    "\n",
    "Let's do a Box-Cox transformation to remedy that:"
   ]
  },
  {
   "cell_type": "code",
   "execution_count": 50,
   "id": "197df15e",
   "metadata": {},
   "outputs": [
    {
     "data": {
      "image/png": "[encoded data removed]",
      "text/plain": [
       "plot without title"
      ]
     },
     "metadata": {
      "image/png": {
       "height": 300,
       "width": 420
      }
     },
     "output_type": "display_data"
    }
   ],
   "source": [
    "boxcox(a.full.new)\n",
    "fig(7,5)"
   ]
  },
  {
   "cell_type": "markdown",
   "id": "da453483",
   "metadata": {},
   "source": [
    "Let's do the transformation with $\\lambda$ = -1:"
   ]
  },
  {
   "cell_type": "code",
   "execution_count": 52,
   "id": "69c65051",
   "metadata": {},
   "outputs": [
    {
     "data": {
      "image/png": "[encoded data removed]",
      "text/plain": [
       "Plot with title \"Normal Q-Q Plot\""
      ]
     },
     "metadata": {
      "image/png": {
       "height": 300,
       "width": 900
      }
     },
     "output_type": "display_data"
    }
   ],
   "source": [
    "a.boxcox = lm(1/V2 ~ V9, data = data_new)\n",
    "par(mfrow=c(1,2))\n",
    "qqnorm(a.boxcox$res,cex.lab=scale, cex.axis = scale)\n",
    "plot(a.boxcox$fitted, a.boxcox$res, xlab=\"Fitted\", ylab=\"Residuals\",cex.lab=scale, cex.axis = scale)\n",
    "fig(15,5)"
   ]
  },
  {
   "cell_type": "markdown",
   "id": "8271fc72",
   "metadata": {},
   "source": [
    "Residuals and QQ plot look very close to ideal now. Finally, check the p-value and coefficients of the transformed model:"
   ]
  },
  {
   "cell_type": "code",
   "execution_count": 15,
   "id": "8e176add",
   "metadata": {},
   "outputs": [
    {
     "data": {
      "text/plain": [
       "\n",
       "Call:\n",
       "lm(formula = 1/V2 ~ V9, data = data_new)\n",
       "\n",
       "Residuals:\n",
       "      Min        1Q    Median        3Q       Max \n",
       "-0.026511 -0.010591 -0.001409  0.009639  0.030581 \n",
       "\n",
       "Coefficients:\n",
       "            Estimate Std. Error t value Pr(>|t|)    \n",
       "(Intercept) 0.097379   0.002801  34.762  < 2e-16 ***\n",
       "V92         0.007480   0.003771   1.983  0.04988 *  \n",
       "V93         0.013284   0.003655   3.634  0.00043 ***\n",
       "V94         0.027558   0.004539   6.072 1.96e-08 ***\n",
       "---\n",
       "Signif. codes:  0 '***' 0.001 '**' 0.01 '*' 0.05 '.' 0.1 ' ' 1\n",
       "\n",
       "Residual standard error: 0.01428 on 107 degrees of freedom\n",
       "Multiple R-squared:  0.2706,\tAdjusted R-squared:  0.2502 \n",
       "F-statistic: 13.23 on 3 and 107 DF,  p-value: 2.061e-07\n"
      ]
     },
     "metadata": {},
     "output_type": "display_data"
    }
   ],
   "source": [
    "summary(a.boxcox)"
   ]
  },
  {
   "cell_type": "markdown",
   "id": "7cc64c58",
   "metadata": {},
   "source": [
    "Thus, the overall p-value is less than 0.05.\n",
    "\n",
    "Finally, lets perform a Tukey test to check the significance of the differences between each region:"
   ]
  },
  {
   "cell_type": "code",
   "execution_count": 16,
   "id": "e9f8153b",
   "metadata": {},
   "outputs": [
    {
     "data": {
      "text/plain": [
       "  Tukey multiple comparisons of means\n",
       "    95% family-wise confidence level\n",
       "\n",
       "Fit: aov(formula = 1/V2 ~ V9, data = data_new)\n",
       "\n",
       "$V9\n",
       "           diff          lwr        upr     p adj\n",
       "2-1 0.007480272 -0.002362514 0.01732306 0.2006919\n",
       "3-1 0.013283815  0.003743813 0.02282382 0.0023985\n",
       "4-1 0.027557890  0.015712655 0.03940313 0.0000001\n",
       "3-2 0.005803543 -0.003195875 0.01480296 0.3376593\n",
       "4-2 0.020077619  0.008663264 0.03149197 0.0000707\n",
       "4-3 0.014274076  0.003119763 0.02542839 0.0062590\n"
      ]
     },
     "metadata": {},
     "output_type": "display_data"
    }
   ],
   "source": [
    "tukey.a = TukeyHSD(aov(1/V2 ~ V9, data=data_new))\n",
    "tukey.a"
   ]
  },
  {
   "cell_type": "markdown",
   "id": "7ac37e2f",
   "metadata": {},
   "source": [
    "Thus, when comparing regions 1 vs 2 and 2 vs 3 we cannot say that they have statistically different means.\n",
    "\n",
    "However, using a 95% significance level, we can say that:\n",
    "\n",
    "-   **Regions 1 and 3 have different means.**\n",
    "\n",
    "-   **Region 4 has different mean than the others.**"
   ]
  },
  {
   "cell_type": "code",
   "execution_count": 54,
   "id": "002fd46b",
   "metadata": {},
   "outputs": [
    {
     "data": {
      "image/png": "[encoded data removed]",
      "text/plain": [
       "Plot with title \"95% family-wise confidence level\n",
       "\""
      ]
     },
     "metadata": {
      "image/png": {
       "height": 300,
       "width": 420
      }
     },
     "output_type": "display_data"
    }
   ],
   "source": [
    "plot(tukey.a,cex.lab=scale, cex.axis = scale)\n",
    "fig(7,5)"
   ]
  },
  {
   "cell_type": "markdown",
   "id": "3c31dd93",
   "metadata": {},
   "source": [
    "Let's check if these conclusions hold using Bonferroni corrections:"
   ]
  },
  {
   "cell_type": "code",
   "execution_count": 18,
   "id": "aa60770d",
   "metadata": {},
   "outputs": [
    {
     "data": {
      "text/plain": [
       "\n",
       "\tPairwise comparisons using t tests with pooled SD \n",
       "\n",
       "data:  data_new$V2 and data_new$V9 \n",
       "\n",
       "  1       2       3      \n",
       "2 0.10953 -       -      \n",
       "3 0.00080 0.70134 -      \n",
       "4 3.7e-07 0.00077 0.03714\n",
       "\n",
       "P value adjustment method: bonferroni "
      ]
     },
     "metadata": {},
     "output_type": "display_data"
    }
   ],
   "source": [
    "pairwise.t.test(data_new$V2, data_new$V9, p.adjust.method = \"bonferroni\")"
   ]
  },
  {
   "cell_type": "markdown",
   "id": "1e2c544b",
   "metadata": {},
   "source": [
    "**Thus both Tukey and Bonferroni tests agree.**"
   ]
  },
  {
   "cell_type": "markdown",
   "id": "f2e91a9a",
   "metadata": {},
   "source": [
    "## Part B \n",
    "\n",
    "### B.0) Data transformation and visualization:\n",
    "\n",
    "In Part B, we test whether the age of the patients is statistically significant factor in the length-of-stay for a\n",
    "provided sub-set of the data. To see the effect of Age, we partitioned the patients into two groups: (i) Patients aged\n",
    "54 years or more and (ii) patients aged 53.9 years or less. "
   ]
  },
  {
   "cell_type": "code",
   "execution_count": 19,
   "id": "0828a6f6",
   "metadata": {},
   "outputs": [],
   "source": [
    "index_b = c(1:44,  46, 48, 51, 53 ,57, 58, 60, 63, 66 ,74 ,76, 79 ,80 ,83 ,84, 88, 94, 101 ,103, 111)\n",
    "data_b = data[index_b,]\n",
    "data_b$V13 = factor(data_b$V3 <=54, labels = c(\"Older\", \"Younger\"))\n"
   ]
  },
  {
   "cell_type": "markdown",
   "id": "50151bf7",
   "metadata": {},
   "source": [
    "The next figure shows the mean length-of-stay for each of these groups and for each Region of the study"
   ]
  },
  {
   "cell_type": "code",
   "execution_count": 20,
   "id": "22bb4dca",
   "metadata": {},
   "outputs": [
    {
     "data": {
      "image/png": "[encoded data removed]",
      "text/plain": [
       "plot without title"
      ]
     },
     "metadata": {
      "image/png": {
       "height": 300,
       "width": 420
      }
     },
     "output_type": "display_data"
    }
   ],
   "source": [
    "interaction.plot(data_b$V9, data_b$V13, data_b$V2, \n",
    "                 xlab = \"Region\", ylab = \"Mean length-of-stay\",\n",
    "                 cex.lab=scale, cex.axis = scale)\n",
    "fig(7,5)"
   ]
  },
  {
   "cell_type": "markdown",
   "id": "3e843e6e",
   "metadata": {},
   "source": [
    "Since the lines are intersecting, it is possible that Age Factor and Region have interaction terms.\n",
    "\n",
    "### B.1) ANOVA models:\n",
    "\n",
    "Try the full model first:"
   ]
  },
  {
   "cell_type": "code",
   "execution_count": 21,
   "id": "d98ab9d2",
   "metadata": {},
   "outputs": [
    {
     "name": "stdout",
     "output_type": "stream",
     "text": [
      "Analysis of Variance Table\n",
      "\n",
      "Response: V2\n",
      "          Df Sum Sq Mean Sq F value    Pr(>F)    \n",
      "V9         3 56.744 18.9147 12.9323 1.575e-06 ***\n",
      "V13        1  0.004  0.0041  0.0028    0.9578    \n",
      "V9:V13     3  2.462  0.8207  0.5611    0.6429    \n",
      "Residuals 56 81.905  1.4626                      \n",
      "---\n",
      "Signif. codes:  0 '***' 0.001 '**' 0.01 '*' 0.05 '.' 0.1 ' ' 1\n"
     ]
    }
   ],
   "source": [
    "b.full = lm(V2 ~ V9*V13, data = data_b)\n",
    "print(anova(b.full))"
   ]
  },
  {
   "cell_type": "markdown",
   "id": "afe6d1ce",
   "metadata": {},
   "source": [
    "We observe that the interactions terms and Age Factor variable are not statistically significant.\n",
    "\n",
    "In fact, let's check the p-value of the model with only Age Factor included:"
   ]
  },
  {
   "cell_type": "code",
   "execution_count": 22,
   "id": "7025cdb3",
   "metadata": {},
   "outputs": [
    {
     "name": "stdout",
     "output_type": "stream",
     "text": [
      "Analysis of Variance Table\n",
      "\n",
      "Response: V2\n",
      "          Df  Sum Sq Mean Sq F value Pr(>F)\n",
      "V13        1   0.057 0.05706  0.0251 0.8747\n",
      "Residuals 62 141.058 2.27513               \n"
     ]
    }
   ],
   "source": [
    "print(anova(lm(V2 ~ V13, data = data_b)))"
   ]
  },
  {
   "cell_type": "markdown",
   "id": "413f3183",
   "metadata": {},
   "source": [
    "**Since the p-value of this model is much bigger than 0.05, we discard the influence of Age Factor in the mean length-of-stay for the patients of Problem B.**\n",
    "\n",
    "### B.2) Diagnostics and remedial measures:\n",
    "\n",
    "On the analysis of the patients in Part B, we perform a similar analysis done in Part A, with **only the Regions factor included on the model**:"
   ]
  },
  {
   "cell_type": "code",
   "execution_count": 23,
   "id": "93a387e3",
   "metadata": {},
   "outputs": [],
   "source": [
    "b.res = lm(V2 ~V9, data = data_b)"
   ]
  },
  {
   "cell_type": "code",
   "execution_count": 56,
   "id": "fbbda3e1",
   "metadata": {},
   "outputs": [
    {
     "data": {
      "image/png": "[encoded data removed]",
      "text/plain": [
       "plot without title"
      ]
     },
     "metadata": {
      "image/png": {
       "height": 300,
       "width": 420
      }
     },
     "output_type": "display_data"
    }
   ],
   "source": [
    "boxplot(V2 ~ V9, data= data_b, outline = FALSE, xlab= \"Region\", ylab= \"Length-of-stay\", cex.lab=scale, cex.axis = scale)\n",
    "stripchart(V2 ~ V9, data=data, method=\"jitter\",\n",
    "           col=\"blue\", vertical=TRUE, add=TRUE)\n",
    "\n",
    "fig(7,5)"
   ]
  },
  {
   "cell_type": "markdown",
   "id": "566dae26",
   "metadata": {},
   "source": [
    "QQ and residuals plot:"
   ]
  },
  {
   "cell_type": "code",
   "execution_count": 58,
   "id": "635e855c",
   "metadata": {},
   "outputs": [
    {
     "data": {
      "image/png": "[encoded data removed]",
      "text/plain": [
       "Plot with title \"Normal Q-Q Plot\""
      ]
     },
     "metadata": {
      "image/png": {
       "height": 300,
       "width": 900
      }
     },
     "output_type": "display_data"
    }
   ],
   "source": [
    "par(mfrow=c(1,2))\n",
    "qqnorm(b.res$res, cex.lab=scale, cex.axis = scale)\n",
    "plot(b.res$fitted, b.res$res, xlab=\"Fitted\", ylab=\"Residuals\", cex.lab=scale, cex.axis = scale)\n",
    "\n",
    "fig(15,5)"
   ]
  },
  {
   "cell_type": "markdown",
   "id": "32c7274e",
   "metadata": {},
   "source": [
    "**No outlier is apparent in this dataset. However, the variance does not seem to be constant across the 4 regions.** Thus, we will perform a Box-Cox transformation to enhance the quality of the fit regression"
   ]
  },
  {
   "cell_type": "code",
   "execution_count": 60,
   "id": "9a47e584",
   "metadata": {},
   "outputs": [
    {
     "data": {
      "image/png": "[encoded data removed]",
      "text/plain": [
       "plot without title"
      ]
     },
     "metadata": {
      "image/png": {
       "height": 300,
       "width": 420
      }
     },
     "output_type": "display_data"
    }
   ],
   "source": [
    "boxcox(b.res)\n",
    "fig(7,5)"
   ]
  },
  {
   "cell_type": "markdown",
   "id": "447bb27e",
   "metadata": {},
   "source": [
    "Again we do the transformation with $\\lambda$ = -1:"
   ]
  },
  {
   "cell_type": "code",
   "execution_count": 62,
   "id": "6294d804",
   "metadata": {},
   "outputs": [
    {
     "data": {
      "image/png": "[encoded data removed]",
      "text/plain": [
       "Plot with title \"Normal Q-Q Plot\""
      ]
     },
     "metadata": {
      "image/png": {
       "height": 300,
       "width": 900
      }
     },
     "output_type": "display_data"
    }
   ],
   "source": [
    "b.boxcox = lm(1/(V2) ~ V9, data = data_b)\n",
    "par(mfrow=c(1,2))\n",
    "qqnorm(b.boxcox$res, cex.lab=scale, cex.axis = scale)\n",
    "plot(b.boxcox$fitted, b.boxcox$res, xlab=\"Fitted\", ylab=\"Residuals\", cex.lab=scale, cex.axis = scale)\n",
    "\n",
    "fig(15,5)\n"
   ]
  },
  {
   "cell_type": "markdown",
   "id": "33335e9d",
   "metadata": {},
   "source": [
    "We check the summary of the transformed model"
   ]
  },
  {
   "cell_type": "code",
   "execution_count": 28,
   "id": "3c408620",
   "metadata": {},
   "outputs": [
    {
     "data": {
      "text/plain": [
       "\n",
       "Call:\n",
       "lm(formula = 1/(V2) ~ V9, data = data_b)\n",
       "\n",
       "Residuals:\n",
       "      Min        1Q    Median        3Q       Max \n",
       "-0.026511 -0.008598 -0.002334  0.009368  0.027868 \n",
       "\n",
       "Coefficients:\n",
       "            Estimate Std. Error t value Pr(>|t|)    \n",
       "(Intercept) 0.094589   0.003309  28.582  < 2e-16 ***\n",
       "V92         0.009469   0.004680   2.023   0.0475 *  \n",
       "V93         0.011241   0.004680   2.402   0.0194 *  \n",
       "V94         0.030347   0.004680   6.484 1.88e-08 ***\n",
       "---\n",
       "Signif. codes:  0 '***' 0.001 '**' 0.01 '*' 0.05 '.' 0.1 ' ' 1\n",
       "\n",
       "Residual standard error: 0.01324 on 60 degrees of freedom\n",
       "Multiple R-squared:  0.4248,\tAdjusted R-squared:  0.396 \n",
       "F-statistic: 14.77 on 3 and 60 DF,  p-value: 2.598e-07\n"
      ]
     },
     "metadata": {},
     "output_type": "display_data"
    }
   ],
   "source": [
    "summary(b.boxcox)"
   ]
  },
  {
   "cell_type": "markdown",
   "id": "ddd8e10d",
   "metadata": {},
   "source": [
    "Tukey test for differences:"
   ]
  },
  {
   "cell_type": "code",
   "execution_count": 29,
   "id": "e7ca896e",
   "metadata": {},
   "outputs": [
    {
     "data": {
      "text/plain": [
       "  Tukey multiple comparisons of means\n",
       "    95% family-wise confidence level\n",
       "\n",
       "Fit: aov(formula = 1/V2 ~ V9, data = data_b)\n",
       "\n",
       "$V9\n",
       "           diff          lwr        upr     p adj\n",
       "2-1 0.009468551 -0.002899034 0.02183614 0.1910460\n",
       "3-1 0.011241146 -0.001126439 0.02360873 0.0876232\n",
       "4-1 0.030347351  0.017979766 0.04271494 0.0000001\n",
       "3-2 0.001772595 -0.010594990 0.01414018 0.9813212\n",
       "4-2 0.020878800  0.008511215 0.03324638 0.0002093\n",
       "4-3 0.019106205  0.006738620 0.03147379 0.0007551\n"
      ]
     },
     "metadata": {},
     "output_type": "display_data"
    }
   ],
   "source": [
    "tukey.b = TukeyHSD(aov(1/V2 ~ V9, data=data_b))\n",
    "tukey.b"
   ]
  },
  {
   "cell_type": "markdown",
   "id": "af8b5d06",
   "metadata": {},
   "source": [
    "**Thus, when comparing any of the regions 1, 2 and 3 together, we cannot say that they have statistically different means.**\n",
    "\n",
    "**However, with a significance level of 95%, we can say that Region 4 has different mean than the others.**\n",
    "\n",
    "The next figure illustrates that, showing that all confidence intervals for the differences between Regions 1, 2 and 3 instersect the line x=0. On the other hand, the confidence intervals for the differences w.r.t. Region 4 never instersect 0."
   ]
  },
  {
   "cell_type": "code",
   "execution_count": 64,
   "id": "bd14f94f",
   "metadata": {},
   "outputs": [
    {
     "data": {
      "image/png": "[encoded data removed]",
      "text/plain": [
       "Plot with title \"95% family-wise confidence level\n",
       "\""
      ]
     },
     "metadata": {
      "image/png": {
       "height": 300,
       "width": 420
      }
     },
     "output_type": "display_data"
    }
   ],
   "source": [
    "plot(tukey.b, cex.lab=scale, cex.axis = scale)\n",
    "\n",
    "fig(7,5)"
   ]
  },
  {
   "cell_type": "markdown",
   "id": "9cdb514f",
   "metadata": {},
   "source": [
    "Final check with Bonferroni correction:"
   ]
  },
  {
   "cell_type": "code",
   "execution_count": 31,
   "id": "aef39fe3",
   "metadata": {},
   "outputs": [
    {
     "data": {
      "text/plain": [
       "\n",
       "\tPairwise comparisons using t tests with pooled SD \n",
       "\n",
       "data:  data_b$V2 and data_b$V9 \n",
       "\n",
       "  1       2      3     \n",
       "2 0.0897  -      -     \n",
       "3 0.0469  1.0000 -     \n",
       "4 2.3e-07 0.0021 0.0045\n",
       "\n",
       "P value adjustment method: bonferroni "
      ]
     },
     "metadata": {},
     "output_type": "display_data"
    }
   ],
   "source": [
    "pairwise.t.test(data_b$V2, data_b$V9, p.adjust.method = \"bonferroni\")"
   ]
  },
  {
   "cell_type": "markdown",
   "id": "5df7896b",
   "metadata": {},
   "source": [
    "Here, the **Bonferroni test indicates that Regions 1 and 3 have statistically different means. However, since the p-value is very close to 0.05 (0.0469), we will adopt the results of the Tukey method and conclude thay they do not have statistically different means.**\n",
    "\n",
    "## Part C \n",
    "\n",
    "### C.0) Data transformation and visualization:\n",
    "\n",
    "In this final part, we evaluated the impact of Region, Age and Availability factors on the mean lengths-of-stay.\n",
    "This time, the patients are grouped by older or younger than 53 years (Age Factor). Also, the hospitals are grouped\n",
    "if their potential facilities and services are larger or smaller than 40.2% of the total 35 types specified by the SENIC\n",
    "project (Availability Factor).\n",
    "\n",
    "Let's first select the patient numbers and define a two columns which encodes the Age Factor variable (defined by the condition \"age larger or equal than 53\") and the Availability Factor (defined by the condition \"available facilities larger or equal to 40.2%\")."
   ]
  },
  {
   "cell_type": "code",
   "execution_count": 32,
   "id": "d308ad5c",
   "metadata": {},
   "outputs": [],
   "source": [
    "index_c = c(1:14, 16:28, 31,32 ,34, 35, 37:39, 41, 44, 46 ,50 ,52, 53 ,57 ,58, 63, 66, 76, 77, 83, 111)\n",
    "data_c = data[index_c,]\n",
    "data_c$V13 = factor(data_c$V3 <=53, labels = c(\"Older\", \"Younger\"))\n",
    "data_c$V14 = factor(data_c$V12 <=40.2, labels = c(\"More\", \"Less\"))"
   ]
  },
  {
   "cell_type": "markdown",
   "id": "8f60a28f",
   "metadata": {},
   "source": [
    "Interaction plot between Region and Age Factor:"
   ]
  },
  {
   "cell_type": "code",
   "execution_count": 33,
   "id": "312aab35",
   "metadata": {},
   "outputs": [
    {
     "data": {
      "image/png": "[encoded data removed]",
      "text/plain": [
       "plot without title"
      ]
     },
     "metadata": {
      "image/png": {
       "height": 300,
       "width": 420
      }
     },
     "output_type": "display_data"
    }
   ],
   "source": [
    "interaction.plot(data_c$V9, data_c$V13, data_c$V2, xlab = \"Region\", ylab = \"Mean length-of-stay\")\n"
   ]
  },
  {
   "cell_type": "markdown",
   "id": "13589b50",
   "metadata": {},
   "source": [
    "Interaction plot between Region and Availability Factor:"
   ]
  },
  {
   "cell_type": "code",
   "execution_count": 34,
   "id": "2d8e4b8d",
   "metadata": {},
   "outputs": [
    {
     "data": {
      "image/png": "[encoded data removed]",
      "text/plain": [
       "plot without title"
      ]
     },
     "metadata": {
      "image/png": {
       "height": 300,
       "width": 420
      }
     },
     "output_type": "display_data"
    }
   ],
   "source": [
    "interaction.plot(data_c$V9, data_c$V14, data_c$V2, xlab = \"Region\", ylab = \"Mean length-of-stay\")\n"
   ]
  },
  {
   "cell_type": "markdown",
   "id": "afa00302",
   "metadata": {},
   "source": [
    "From the plots, it looks like Age is again not statistically significant, similar to item B. On the other hand, there does seem to be a difference in the mean length-of-stays for patients with different Availability Factors.\n",
    "\n",
    "### C.1) ANOVA models:\n",
    "\n",
    "Try the full model first:"
   ]
  },
  {
   "cell_type": "code",
   "execution_count": 35,
   "id": "06aa9123",
   "metadata": {},
   "outputs": [
    {
     "name": "stdout",
     "output_type": "stream",
     "text": [
      "Analysis of Variance Table\n",
      "\n",
      "Response: V2\n",
      "           Df Sum Sq Mean Sq F value    Pr(>F)    \n",
      "V9          3 37.435 12.4783 11.6773 2.493e-05 ***\n",
      "V13         1  4.325  4.3251  4.0474  0.052722 .  \n",
      "V14         1 13.927 13.9268 13.0328  0.001033 ** \n",
      "V9:V13      3  8.668  2.8894  2.7039  0.061837 .  \n",
      "V9:V14      3  3.490  1.1633  1.0886  0.367997    \n",
      "V13:V14     1  0.339  0.3393  0.3175  0.577027    \n",
      "V9:V13:V14  3  1.439  0.4796  0.4488  0.719848    \n",
      "Residuals  32 34.195  1.0686                      \n",
      "---\n",
      "Signif. codes:  0 '***' 0.001 '**' 0.01 '*' 0.05 '.' 0.1 ' ' 1\n"
     ]
    }
   ],
   "source": [
    "c.full = lm(V2 ~ V9*V13*V14, data = data_c)\n",
    "print(anova(c.full))"
   ]
  },
  {
   "cell_type": "markdown",
   "id": "19166f8d",
   "metadata": {},
   "source": [
    "**Similar to Item b, the Age factor is not statistically significant. Thus, we exclude it from the ANOVA.** The reduced model is shown below:"
   ]
  },
  {
   "cell_type": "code",
   "execution_count": 36,
   "id": "4fce4b91",
   "metadata": {},
   "outputs": [
    {
     "name": "stdout",
     "output_type": "stream",
     "text": [
      "Analysis of Variance Table\n",
      "\n",
      "Response: V2\n",
      "          Df Sum Sq Mean Sq F value    Pr(>F)    \n",
      "V9         3 37.435 12.4783 10.0354 4.642e-05 ***\n",
      "V14        1 13.262 13.2615 10.6653  0.002243 ** \n",
      "V9:V14     3  3.384  1.1281  0.9072  0.446128    \n",
      "Residuals 40 49.737  1.2434                      \n",
      "---\n",
      "Signif. codes:  0 '***' 0.001 '**' 0.01 '*' 0.05 '.' 0.1 ' ' 1\n"
     ]
    }
   ],
   "source": [
    "c.res = lm(V2 ~ V9*V14, data = data_c)\n",
    "print(anova(c.res))"
   ]
  },
  {
   "cell_type": "markdown",
   "id": "1facb59f",
   "metadata": {},
   "source": [
    "**From the p-values of the ANOVA models, we see that both the Region and Availability Factors are statistically significant, but NOT their interaction.**\n",
    "\n",
    "Thus, we consider the additive model:"
   ]
  },
  {
   "cell_type": "code",
   "execution_count": 37,
   "id": "379225bf",
   "metadata": {},
   "outputs": [
    {
     "data": {
      "text/plain": [
       "\n",
       "Call:\n",
       "lm(formula = V2 ~ V9 + V14, data = data_c)\n",
       "\n",
       "Residuals:\n",
       "    Min      1Q  Median      3Q     Max \n",
       "-1.7619 -0.8381 -0.1527  0.8225  2.5869 \n",
       "\n",
       "Coefficients:\n",
       "            Estimate Std. Error t value Pr(>|t|)    \n",
       "(Intercept)  11.0031     0.3587  30.673  < 2e-16 ***\n",
       "V92          -0.9633     0.4538  -2.123  0.03955 *  \n",
       "V93          -1.1450     0.4538  -2.523  0.01540 *  \n",
       "V94          -2.4775     0.4538  -5.460 2.22e-06 ***\n",
       "V14Less      -1.0513     0.3209  -3.276  0.00208 ** \n",
       "---\n",
       "Signif. codes:  0 '***' 0.001 '**' 0.01 '*' 0.05 '.' 0.1 ' ' 1\n",
       "\n",
       "Residual standard error: 1.111 on 43 degrees of freedom\n",
       "Multiple R-squared:  0.4883,\tAdjusted R-squared:  0.4407 \n",
       "F-statistic: 10.26 on 4 and 43 DF,  p-value: 6.37e-06\n"
      ]
     },
     "metadata": {},
     "output_type": "display_data"
    }
   ],
   "source": [
    "c.add = lm(V2 ~ V9 + V14, data = data_c)\n",
    "summary(c.add)"
   ]
  },
  {
   "cell_type": "markdown",
   "id": "5b4db08b",
   "metadata": {},
   "source": [
    "**Since all p-values are less than 0.05, we can proceed the analysis.**\n",
    "\n",
    "### C.1) Diagnostics and remedial measures:"
   ]
  },
  {
   "cell_type": "markdown",
   "id": "b2b602f3",
   "metadata": {},
   "source": [
    "Again we perform the usual diagnostics using QQ and residual plots"
   ]
  },
  {
   "cell_type": "code",
   "execution_count": 66,
   "id": "f6b2019f",
   "metadata": {},
   "outputs": [
    {
     "data": {
      "image/png": "[encoded data removed]",
      "text/plain": [
       "Plot with title \"Normal Q-Q Plot\""
      ]
     },
     "metadata": {
      "image/png": {
       "height": 300,
       "width": 900
      }
     },
     "output_type": "display_data"
    }
   ],
   "source": [
    "par(mfrow=c(1,2))\n",
    "qqnorm(c.add$res, cex.lab=scale, cex.axis = scale)\n",
    "plot(c.add$fitted, c.add$res, xlab=\"Fitted\", ylab=\"Residuals\", cex.lab=scale, cex.axis = scale)\n",
    "\n",
    "fig(15,5)"
   ]
  },
  {
   "cell_type": "markdown",
   "id": "1ef22670",
   "metadata": {},
   "source": [
    "No clear outliers are visible in the QQ plot. However, again the residual dispersion is trumpet--shaped. So, we check the Box-Cox transformation as in Parts B and C:"
   ]
  },
  {
   "cell_type": "code",
   "execution_count": 71,
   "id": "7e947697",
   "metadata": {},
   "outputs": [
    {
     "data": {
      "image/png": "[encoded data removed]",
      "text/plain": [
       "plot without title"
      ]
     },
     "metadata": {
      "image/png": {
       "height": 300,
       "width": 420
      }
     },
     "output_type": "display_data"
    }
   ],
   "source": [
    "boxcox(c.add)\n",
    "\n",
    "fig(7,5)"
   ]
  },
  {
   "cell_type": "markdown",
   "id": "45bcfa82",
   "metadata": {},
   "source": [
    "We then fit the transformed model with $\\lambda=-1$:"
   ]
  },
  {
   "cell_type": "code",
   "execution_count": 40,
   "id": "bcbfefa8",
   "metadata": {},
   "outputs": [
    {
     "data": {
      "text/plain": [
       "\n",
       "Call:\n",
       "lm(formula = 1/V2 ~ V9 + V14, data = data_c)\n",
       "\n",
       "Residuals:\n",
       "      Min        1Q    Median        3Q       Max \n",
       "-0.022488 -0.011172  0.001113  0.009187  0.020300 \n",
       "\n",
       "Coefficients:\n",
       "            Estimate Std. Error t value Pr(>|t|)    \n",
       "(Intercept) 0.091899   0.003965  23.178  < 2e-16 ***\n",
       "V92         0.008574   0.005015   1.710  0.09454 .  \n",
       "V93         0.010903   0.005015   2.174  0.03526 *  \n",
       "V94         0.029014   0.005015   5.785  7.5e-07 ***\n",
       "V14Less     0.011464   0.003546   3.233  0.00236 ** \n",
       "---\n",
       "Signif. codes:  0 '***' 0.001 '**' 0.01 '*' 0.05 '.' 0.1 ' ' 1\n",
       "\n",
       "Residual standard error: 0.01228 on 43 degrees of freedom\n",
       "Multiple R-squared:  0.5165,\tAdjusted R-squared:  0.4716 \n",
       "F-statistic: 11.49 on 4 and 43 DF,  p-value: 1.98e-06\n"
      ]
     },
     "metadata": {},
     "output_type": "display_data"
    }
   ],
   "source": [
    "c.add2 = lm(1/V2 ~ V9 + V14, data = data_c)\n",
    "summary(c.add2)"
   ]
  },
  {
   "cell_type": "markdown",
   "id": "bd6bf785",
   "metadata": {},
   "source": [
    "We check the diagnostic plots of the transformed model"
   ]
  },
  {
   "cell_type": "code",
   "execution_count": 73,
   "id": "c2fe890f",
   "metadata": {},
   "outputs": [
    {
     "data": {
      "image/png": "[encoded data removed]",
      "text/plain": [
       "Plot with title \"Normal Q-Q Plot\""
      ]
     },
     "metadata": {
      "image/png": {
       "height": 300,
       "width": 900
      }
     },
     "output_type": "display_data"
    }
   ],
   "source": [
    "par(mfrow=c(1,2))\n",
    "qqnorm(c.add2$res, cex.lab=scale, cex.axis = scale)\n",
    "plot(c.add2$fitted, c.add$res, xlab=\"Fitted\", ylab=\"Residuals\", cex.lab=scale, cex.axis = scale)\n",
    "\n",
    "fig(15,5)"
   ]
  },
  {
   "cell_type": "markdown",
   "id": "f793e1c6",
   "metadata": {},
   "source": [
    "Finally, the Tukey test for differences:"
   ]
  },
  {
   "cell_type": "code",
   "execution_count": 42,
   "id": "6a1559b3",
   "metadata": {},
   "outputs": [
    {
     "data": {
      "text/plain": [
       "  Tukey multiple comparisons of means\n",
       "    95% family-wise confidence level\n",
       "\n",
       "Fit: aov(formula = 1/V2 ~ V9 + V14, data = data_c)\n",
       "\n",
       "$V9\n",
       "           diff          lwr        upr     p adj\n",
       "2-1 0.008574374 -0.004828433 0.02197718 0.3312730\n",
       "3-1 0.010903045 -0.002499762 0.02430585 0.1468560\n",
       "4-1 0.029014429  0.015611622 0.04241724 0.0000044\n",
       "3-2 0.002328670 -0.011074136 0.01573148 0.9664195\n",
       "4-2 0.020440055  0.007037248 0.03384286 0.0010771\n",
       "4-3 0.018111384  0.004708578 0.03151419 0.0042460\n",
       "\n",
       "$V14\n",
       "                diff        lwr        upr     p adj\n",
       "Less-More 0.01146404 0.00431224 0.01861584 0.0023569\n"
      ]
     },
     "metadata": {},
     "output_type": "display_data"
    }
   ],
   "source": [
    "tukey.c = TukeyHSD(aov(1/V2 ~ V9 + V14, data=data_c))\n",
    "tukey.c"
   ]
  },
  {
   "cell_type": "markdown",
   "id": "6e6edca6",
   "metadata": {},
   "source": [
    "**Thus, when comparing any of the regions 1, 2 and 3 together, we cannot say that they have statistically different means.**\n",
    "\n",
    "Similarly to the conclusions of Part A and B, we can say with 95% significance level that:\n",
    "\n",
    "-   **Region 4 has different mean than the others.**\n",
    "\n",
    "-   **The availability factor has a non-zero effect on the mean length-of-stay.**"
   ]
  },
  {
   "cell_type": "markdown",
   "id": "aaf52135",
   "metadata": {},
   "source": [
    "For completeness, we show the graphical results of the Tukey test:"
   ]
  },
  {
   "cell_type": "code",
   "execution_count": 75,
   "id": "7a7b9414",
   "metadata": {},
   "outputs": [
    {
     "data": {
      "image/png": "[encoded data removed]",
      "text/plain": [
       "Plot with title \"95% family-wise confidence level\n",
       "\""
      ]
     },
     "metadata": {
      "image/png": {
       "height": 300,
       "width": 420
      }
     },
     "output_type": "display_data"
    },
    {
     "data": {
      "image/png": "[encoded data removed]",
      "text/plain": [
       "Plot with title \"95% family-wise confidence level\n",
       "\""
      ]
     },
     "metadata": {
      "image/png": {
       "height": 300,
       "width": 420
      }
     },
     "output_type": "display_data"
    }
   ],
   "source": [
    "plot(tukey.c, cex.lab=scale, cex.axis = scale)\n",
    "\n",
    "fig(7,5)"
   ]
  },
  {
   "cell_type": "markdown",
   "id": "a6551a77",
   "metadata": {},
   "source": [
    "Finally, let's check these conclusions with a Bonferroni test:"
   ]
  },
  {
   "cell_type": "code",
   "execution_count": 44,
   "id": "261e320e",
   "metadata": {},
   "outputs": [
    {
     "data": {
      "text/plain": [
       "\n",
       "\tPairwise comparisons using t tests with pooled SD \n",
       "\n",
       "data:  data_c$V2 and data_c$V9 \n",
       "\n",
       "  1     2     3    \n",
       "2 0.367 -     -    \n",
       "3 0.164 1.000 -    \n",
       "4 7e-05 0.025 0.066\n",
       "\n",
       "P value adjustment method: bonferroni "
      ]
     },
     "metadata": {},
     "output_type": "display_data"
    }
   ],
   "source": [
    "pairwise.t.test(data_c$V2, data_c$V9, p.adjust.method = \"bonferroni\")"
   ]
  },
  {
   "cell_type": "code",
   "execution_count": 45,
   "id": "41953c3e",
   "metadata": {},
   "outputs": [
    {
     "data": {
      "text/plain": [
       "\n",
       "\tPairwise comparisons using t tests with pooled SD \n",
       "\n",
       "data:  data_c$V2 and data_c$V14 \n",
       "\n",
       "     More \n",
       "Less 0.013\n",
       "\n",
       "P value adjustment method: bonferroni "
      ]
     },
     "metadata": {},
     "output_type": "display_data"
    }
   ],
   "source": [
    "pairwise.t.test(data_c$V2, data_c$V14, p.adjust.method = \"bonferroni\")"
   ]
  },
  {
   "cell_type": "markdown",
   "id": "f9abbb7b",
   "metadata": {},
   "source": [
    "**Thus both Tukey and Bonferroni tests agree.**"
   ]
  },
  {
   "cell_type": "markdown",
   "id": "728e2e00",
   "metadata": {},
   "source": [
    "### Conclusions"
   ]
  },
  {
   "cell_type": "markdown",
   "id": "ab270e67",
   "metadata": {},
   "source": [
    "In this study, we analyzed the length-of-stay for patients treated across 118 hospitals in the years 1975 to 1976.\n",
    "We compared the length-of-stay for patients hospitalized in different Regions, with different Ages and with different\n",
    "availabilities of services and facilities. In general terms, it was found that: \n",
    "\n",
    "(i) The North Region have different length-of-stay compared to South, Northwest and North-central Regions; \n",
    "\n",
    "(ii) Patients younger or older than 53 or 54 years have the same length of stay on average;\n",
    "\n",
    "(iii) The average length of stay is larger for hospitals with available facilities which are 40.2% or more of the total 35 potential facilities/services of US hospitals.\n"
   ]
  },
  {
   "cell_type": "code",
   "execution_count": null,
   "id": "a785340f",
   "metadata": {},
   "outputs": [],
   "source": []
  }
 ],
 "metadata": {
  "jupytext": {
   "cell_metadata_filter": "-all",
   "main_language": "R",
   "notebook_metadata_filter": "-all"
  },
  "kernelspec": {
   "display_name": "R",
   "language": "R",
   "name": "ir"
  },
  "language_info": {
   "codemirror_mode": "r",
   "file_extension": ".r",
   "mimetype": "text/x-r-source",
   "name": "R",
   "pygments_lexer": "r",
   "version": "4.2.2"
  }
 },
 "nbformat": 4,
 "nbformat_minor": 5
}
