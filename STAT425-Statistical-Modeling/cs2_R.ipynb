{
 "cells": [
  {
   "cell_type": "markdown",
   "id": "e162faa4",
   "metadata": {},
   "source": [
    "## <center>Title: Case Study 2<center>\n",
    "## <center>Author: Paolo Ferrari<center>\n",
    "## <center>Date: 2023-05-03<center>\n",
    "    \n",
    "---"
   ]
  },
  {
   "cell_type": "markdown",
   "id": "67bf4c77",
   "metadata": {},
   "source": [
    "### 1. Introduction"
   ]
  },
  {
   "cell_type": "markdown",
   "id": "80767643",
   "metadata": {},
   "source": [
    "Combining geographical and social information with criminal data is an important component in predicting,\n",
    "diagnosing, and explaining criminal activity in communities, cities or even states. Thus, the statistical analysis of\n",
    "combined geographical-criminal datasets is a valuable tool for designing social policies. \n",
    "\n",
    "In this Case Study, we analyzed the geographical data of the year 1960 for 47 different states in the USA to try to predict their Crime Rates (number of offenses per 100,000 inhabitants) using Multivariate Linear Regression. \n",
    "\n",
    "To achieve this goal, we have fitted and compared the performance of 4 different models using different variable selection criteria: with AIC criterion, with BIC criterion, PCA regression and Lasso regression.\n",
    "\n",
    "---"
   ]
  },
  {
   "cell_type": "markdown",
   "id": "37cea96c",
   "metadata": {},
   "source": [
    "### 2. Data Overview\n",
    "\n"
   ]
  },
  {
   "cell_type": "markdown",
   "id": "887079dc",
   "metadata": {},
   "source": [
    "First, let's import the R libraries as well as the data and take a first look at it:"
   ]
  },
  {
   "cell_type": "code",
   "execution_count": 1,
   "id": "989b2677",
   "metadata": {},
   "outputs": [
    {
     "name": "stderr",
     "output_type": "stream",
     "text": [
      "\n",
      "Attaching package: 'pls'\n",
      "\n",
      "\n",
      "The following object is masked from 'package:stats':\n",
      "\n",
      "    loadings\n",
      "\n",
      "\n",
      "Loading required package: Matrix\n",
      "\n",
      "Loaded glmnet 4.1-4\n",
      "\n",
      "Warning message:\n",
      "\"package 'repr' was built under R version 4.2.3\"\n"
     ]
    },
    {
     "data": {
      "text/html": [
       "<table class=\"dataframe\">\n",
       "<caption>A data.frame: 6 × 16</caption>\n",
       "<thead>\n",
       "\t<tr><th></th><th scope=col>M</th><th scope=col>So</th><th scope=col>Ed</th><th scope=col>Po1</th><th scope=col>Po2</th><th scope=col>LF</th><th scope=col>M.F</th><th scope=col>Pop</th><th scope=col>NW</th><th scope=col>U1</th><th scope=col>U2</th><th scope=col>Wealth</th><th scope=col>Ineq</th><th scope=col>Prob</th><th scope=col>Time</th><th scope=col>Crime</th></tr>\n",
       "\t<tr><th></th><th scope=col>&lt;dbl&gt;</th><th scope=col>&lt;dbl&gt;</th><th scope=col>&lt;dbl&gt;</th><th scope=col>&lt;dbl&gt;</th><th scope=col>&lt;dbl&gt;</th><th scope=col>&lt;dbl&gt;</th><th scope=col>&lt;dbl&gt;</th><th scope=col>&lt;dbl&gt;</th><th scope=col>&lt;dbl&gt;</th><th scope=col>&lt;dbl&gt;</th><th scope=col>&lt;dbl&gt;</th><th scope=col>&lt;dbl&gt;</th><th scope=col>&lt;dbl&gt;</th><th scope=col>&lt;dbl&gt;</th><th scope=col>&lt;dbl&gt;</th><th scope=col>&lt;dbl&gt;</th></tr>\n",
       "</thead>\n",
       "<tbody>\n",
       "\t<tr><th scope=row>2</th><td>15.1</td><td>1</td><td> 9.1</td><td> 5.8</td><td> 5.6</td><td>0.510</td><td> 95.0</td><td> 33</td><td>30.1</td><td>0.108</td><td>4.1</td><td>3940</td><td>26.1</td><td>0.084602</td><td>26.2011</td><td> 791</td></tr>\n",
       "\t<tr><th scope=row>3</th><td>14.3</td><td>0</td><td>11.3</td><td>10.3</td><td> 9.5</td><td>0.583</td><td>101.2</td><td> 13</td><td>10.2</td><td>0.096</td><td>3.6</td><td>5570</td><td>19.4</td><td>0.029599</td><td>25.2999</td><td>1635</td></tr>\n",
       "\t<tr><th scope=row>4</th><td>14.2</td><td>1</td><td> 8.9</td><td> 4.5</td><td> 4.4</td><td>0.533</td><td> 96.9</td><td> 18</td><td>21.9</td><td>0.094</td><td>3.3</td><td>3180</td><td>25.0</td><td>0.083401</td><td>24.3006</td><td> 578</td></tr>\n",
       "\t<tr><th scope=row>5</th><td>13.6</td><td>0</td><td>12.1</td><td>14.9</td><td>14.1</td><td>0.577</td><td> 99.4</td><td>157</td><td> 8.0</td><td>0.102</td><td>3.9</td><td>6730</td><td>16.7</td><td>0.015801</td><td>29.9012</td><td>1969</td></tr>\n",
       "\t<tr><th scope=row>6</th><td>14.1</td><td>0</td><td>12.1</td><td>10.9</td><td>10.1</td><td>0.591</td><td> 98.5</td><td> 18</td><td> 3.0</td><td>0.091</td><td>2.0</td><td>5780</td><td>17.4</td><td>0.041399</td><td>21.2998</td><td>1234</td></tr>\n",
       "\t<tr><th scope=row>7</th><td>12.1</td><td>0</td><td>11.0</td><td>11.8</td><td>11.5</td><td>0.547</td><td> 96.4</td><td> 25</td><td> 4.4</td><td>0.084</td><td>2.9</td><td>6890</td><td>12.6</td><td>0.034201</td><td>20.9995</td><td> 682</td></tr>\n",
       "</tbody>\n",
       "</table>\n"
      ],
      "text/latex": [
       "A data.frame: 6 × 16\n",
       "\\begin{tabular}{r|llllllllllllllll}\n",
       "  & M & So & Ed & Po1 & Po2 & LF & M.F & Pop & NW & U1 & U2 & Wealth & Ineq & Prob & Time & Crime\\\\\n",
       "  & <dbl> & <dbl> & <dbl> & <dbl> & <dbl> & <dbl> & <dbl> & <dbl> & <dbl> & <dbl> & <dbl> & <dbl> & <dbl> & <dbl> & <dbl> & <dbl>\\\\\n",
       "\\hline\n",
       "\t2 & 15.1 & 1 &  9.1 &  5.8 &  5.6 & 0.510 &  95.0 &  33 & 30.1 & 0.108 & 4.1 & 3940 & 26.1 & 0.084602 & 26.2011 &  791\\\\\n",
       "\t3 & 14.3 & 0 & 11.3 & 10.3 &  9.5 & 0.583 & 101.2 &  13 & 10.2 & 0.096 & 3.6 & 5570 & 19.4 & 0.029599 & 25.2999 & 1635\\\\\n",
       "\t4 & 14.2 & 1 &  8.9 &  4.5 &  4.4 & 0.533 &  96.9 &  18 & 21.9 & 0.094 & 3.3 & 3180 & 25.0 & 0.083401 & 24.3006 &  578\\\\\n",
       "\t5 & 13.6 & 0 & 12.1 & 14.9 & 14.1 & 0.577 &  99.4 & 157 &  8.0 & 0.102 & 3.9 & 6730 & 16.7 & 0.015801 & 29.9012 & 1969\\\\\n",
       "\t6 & 14.1 & 0 & 12.1 & 10.9 & 10.1 & 0.591 &  98.5 &  18 &  3.0 & 0.091 & 2.0 & 5780 & 17.4 & 0.041399 & 21.2998 & 1234\\\\\n",
       "\t7 & 12.1 & 0 & 11.0 & 11.8 & 11.5 & 0.547 &  96.4 &  25 &  4.4 & 0.084 & 2.9 & 6890 & 12.6 & 0.034201 & 20.9995 &  682\\\\\n",
       "\\end{tabular}\n"
      ],
      "text/markdown": [
       "\n",
       "A data.frame: 6 × 16\n",
       "\n",
       "| <!--/--> | M &lt;dbl&gt; | So &lt;dbl&gt; | Ed &lt;dbl&gt; | Po1 &lt;dbl&gt; | Po2 &lt;dbl&gt; | LF &lt;dbl&gt; | M.F &lt;dbl&gt; | Pop &lt;dbl&gt; | NW &lt;dbl&gt; | U1 &lt;dbl&gt; | U2 &lt;dbl&gt; | Wealth &lt;dbl&gt; | Ineq &lt;dbl&gt; | Prob &lt;dbl&gt; | Time &lt;dbl&gt; | Crime &lt;dbl&gt; |\n",
       "|---|---|---|---|---|---|---|---|---|---|---|---|---|---|---|---|---|\n",
       "| 2 | 15.1 | 1 |  9.1 |  5.8 |  5.6 | 0.510 |  95.0 |  33 | 30.1 | 0.108 | 4.1 | 3940 | 26.1 | 0.084602 | 26.2011 |  791 |\n",
       "| 3 | 14.3 | 0 | 11.3 | 10.3 |  9.5 | 0.583 | 101.2 |  13 | 10.2 | 0.096 | 3.6 | 5570 | 19.4 | 0.029599 | 25.2999 | 1635 |\n",
       "| 4 | 14.2 | 1 |  8.9 |  4.5 |  4.4 | 0.533 |  96.9 |  18 | 21.9 | 0.094 | 3.3 | 3180 | 25.0 | 0.083401 | 24.3006 |  578 |\n",
       "| 5 | 13.6 | 0 | 12.1 | 14.9 | 14.1 | 0.577 |  99.4 | 157 |  8.0 | 0.102 | 3.9 | 6730 | 16.7 | 0.015801 | 29.9012 | 1969 |\n",
       "| 6 | 14.1 | 0 | 12.1 | 10.9 | 10.1 | 0.591 |  98.5 |  18 |  3.0 | 0.091 | 2.0 | 5780 | 17.4 | 0.041399 | 21.2998 | 1234 |\n",
       "| 7 | 12.1 | 0 | 11.0 | 11.8 | 11.5 | 0.547 |  96.4 |  25 |  4.4 | 0.084 | 2.9 | 6890 | 12.6 | 0.034201 | 20.9995 |  682 |\n",
       "\n"
      ],
      "text/plain": [
       "  M    So Ed   Po1  Po2  LF    M.F   Pop NW   U1    U2  Wealth Ineq Prob    \n",
       "2 15.1 1   9.1  5.8  5.6 0.510  95.0  33 30.1 0.108 4.1 3940   26.1 0.084602\n",
       "3 14.3 0  11.3 10.3  9.5 0.583 101.2  13 10.2 0.096 3.6 5570   19.4 0.029599\n",
       "4 14.2 1   8.9  4.5  4.4 0.533  96.9  18 21.9 0.094 3.3 3180   25.0 0.083401\n",
       "5 13.6 0  12.1 14.9 14.1 0.577  99.4 157  8.0 0.102 3.9 6730   16.7 0.015801\n",
       "6 14.1 0  12.1 10.9 10.1 0.591  98.5  18  3.0 0.091 2.0 5780   17.4 0.041399\n",
       "7 12.1 0  11.0 11.8 11.5 0.547  96.4  25  4.4 0.084 2.9 6890   12.6 0.034201\n",
       "  Time    Crime\n",
       "2 26.2011  791 \n",
       "3 25.2999 1635 \n",
       "4 24.3006  578 \n",
       "5 29.9012 1969 \n",
       "6 21.2998 1234 \n",
       "7 20.9995  682 "
      ]
     },
     "metadata": {},
     "output_type": "display_data"
    }
   ],
   "source": [
    "# Import libraries\n",
    "library(leaps)\n",
    "library(pls)\n",
    "library(glmnet)\n",
    "library(repr)\n",
    "library(ggplot2)\n",
    "\n",
    "# Read data into dataframe and transform it to numetic\n",
    "data = read.table(\"uscrime.txt\")\n",
    "colnames(data) = c(data[1,])\n",
    "data = data[-1,]\n",
    "data[] = lapply(data, as.numeric)\n",
    "\n",
    "head(data)"
   ]
  },
  {
   "cell_type": "markdown",
   "id": "ef678a60",
   "metadata": {},
   "source": [
    "The dataset has 47 rows and 16 columns, each row corresponding to a state in the US for the year of 1960. The last column, named Crime, is the variable we are trying to predict using the other 15. To get an initial picture of how\n",
    "the data looks like, we plot in the next figure the scatter plots of the Crime Rate versus each of the other variables. \n"
   ]
  },
  {
   "cell_type": "code",
   "execution_count": 3,
   "id": "e0ae6b62",
   "metadata": {},
   "outputs": [
    {
     "data": {
      "image/png": "[encoded data removed]",
      "text/plain": [
       "plot without title"
      ]
     },
     "metadata": {
      "image/png": {
       "height": 600,
       "width": 1320
      }
     },
     "output_type": "display_data"
    }
   ],
   "source": [
    "scale = 2\n",
    "\n",
    "layout(matrix(c(1:15), nrow = 3, ncol = 5, byrow = TRUE))\n",
    "plot(data$Crime, data$M,  xlab = \"Male Percentage 14-24\", ylab = \"Crime Rate\",cex.lab=scale, cex.axis = scale)\n",
    "plot(data$Crime, data$So, xlab = \"Southern State Indicator\", ylab = \"\", cex.lab=scale, cex.axis = scale)\n",
    "plot(data$Crime, data$Ed, xlab = \"Education\", ylab = \"\",cex.lab=scale, cex.axis = scale)\n",
    "plot(data$Crime, data$Po1, xlab = \"Police Expenditure in 1960\", ylab = \"\", cex.lab=scale, cex.axis = scale)\n",
    "plot(data$Crime, data$Po2, xlab = \"Police Expenditure in 1959\", ylab = \"\", cex.lab=scale, cex.axis = scale)\n",
    "plot(data$Crime, data$LF, xlab = \"Labour Force\", ylab = \"Crime Rate\",cex.lab=scale, cex.axis = scale)\n",
    "plot(data$Crime, data$M.F, xlab = \"Total Male Percentage\", ylab = \"\", cex.lab=scale, cex.axis = scale)\n",
    "plot(data$Crime, data$Pop, xlab = \"State Population\", ylab = \"\", cex.lab=scale, cex.axis = scale)\n",
    "plot(data$Crime, data$NW, xlab = \"Non-white Percentage\", ylab = \"\", cex.lab=scale, cex.axis = scale)\n",
    "plot(data$Crime, data$U1, xlab = \"Unemployment Rate 14-24\", ylab = \"\", cex.lab=scale, cex.axis = scale)\n",
    "plot(data$Crime, data$U2, xlab = \"Unemployment Rate 25-30\", ylab = \"Crime Rate\", cex.lab=scale, cex.axis = scale)\n",
    "plot(data$Crime, data$Wealth, xlab = \"Wealth\", ylab = \"\",cex.lab=scale, cex.axis = scale)\n",
    "plot(data$Crime, data$Ineq, xlab = \"Inequality Index\", ylab = \"\", cex.lab=scale, cex.axis = scale)\n",
    "plot(data$Crime, data$Prob, xlab = \"Imprisonment Probability\", ylab = \"\", cex.lab=scale, cex.axis = scale)\n",
    "plot(data$Crime, data$Time, xlab = \"Average Time in Prison\", ylab = \"\", cex.lab=scale, cex.axis = scale)\n",
    "\n",
    "fig <- function(width, heigth){\n",
    " options(repr.plot.width = width, repr.plot.height = heigth)\n",
    " }\n",
    "\n",
    "fig(22,10)"
   ]
  },
  {
   "cell_type": "markdown",
   "id": "0f251331",
   "metadata": {},
   "source": [
    "First, we can see that there is a lot of variation in most of the scatterplots and that it is difficult to see a trend in most cases. Overall, the correlations with Crime Rate seem to be positive, although very weak. However, it is in fact possible\n",
    "to see a good correlation with some of the variables, notably the Police Expenditures in 1960 and 1959, the\n",
    "Unemployment Rates (classified between age group in years) and the Wealth (representing the median value of\n",
    "transferable assets or family income). While these conclusions are mostly visual, they offer a hint to the number of\n",
    "variables that should be included in the model selection algorithms tested next: roughly, we expect that only half of\n",
    "the variables or less will be relevant.\n",
    "\n",
    "---"
   ]
  },
  {
   "cell_type": "markdown",
   "id": "e2861b75",
   "metadata": {},
   "source": [
    "### 3. Data Analysis"
   ]
  },
  {
   "cell_type": "markdown",
   "id": "b27ba1f1",
   "metadata": {},
   "source": [
    "To fit and evaluate the different models used in this Case Study, we first split the data roughly as 75% for training\n",
    "and 25% for testing. Since the total number of entries is 47, that amounts to 36 samples for training and 11 samples\n",
    "for testing. We use the command “set.seed(1)” before splitting the data for reproducibility.\n"
   ]
  },
  {
   "cell_type": "code",
   "execution_count": 4,
   "id": "7f005c53",
   "metadata": {},
   "outputs": [],
   "source": [
    "# Set the seed for random splitting of the data\n",
    "set.seed(1)\n",
    "\n",
    "# Split data into 11 samples (~25%) for testing and 36 samples for training (~75%)\n",
    "N_test = 11\n",
    "N_train = dim(data)[1] - N_test\n",
    "test_indices = sample(c(1:dim(data)[1]),N_test)\n",
    "test_data = data[test_indices,]\n",
    "train_data = data[-test_indices,]"
   ]
  },
  {
   "cell_type": "markdown",
   "id": "a641051a",
   "metadata": {},
   "source": [
    "After preparing the data, we fit 4 different models using the train data according to different selection criteria:\n",
    "AIC, BIC, PCA and Lasso. After the 4 models are found, we compare their performance on the test data.\n"
   ]
  },
  {
   "cell_type": "markdown",
   "id": "20feee6b",
   "metadata": {},
   "source": [
    "**3.1 AIC and BIC** **models**\n",
    "\n",
    "The first 2 models are found using the AIC and BIC criteria for variable selection from the full Multiple Linear\n",
    "Regression model. For that, we use the Leaps and Bounds algorithm to detect which of the predictors should be included. \n"
   ]
  },
  {
   "cell_type": "code",
   "execution_count": 7,
   "id": "de1cc64b",
   "metadata": {},
   "outputs": [
    {
     "data": {
      "text/plain": [
       "Subset selection object\n",
       "Call: regsubsets.formula(Crime ~ ., data = train_data, nvmax = 12)\n",
       "15 Variables  (and intercept)\n",
       "       Forced in Forced out\n",
       "M          FALSE      FALSE\n",
       "So         FALSE      FALSE\n",
       "Ed         FALSE      FALSE\n",
       "Po1        FALSE      FALSE\n",
       "Po2        FALSE      FALSE\n",
       "LF         FALSE      FALSE\n",
       "M.F        FALSE      FALSE\n",
       "Pop        FALSE      FALSE\n",
       "NW         FALSE      FALSE\n",
       "U1         FALSE      FALSE\n",
       "U2         FALSE      FALSE\n",
       "Wealth     FALSE      FALSE\n",
       "Ineq       FALSE      FALSE\n",
       "Prob       FALSE      FALSE\n",
       "Time       FALSE      FALSE\n",
       "1 subsets of each size up to 12\n",
       "Selection Algorithm: exhaustive\n",
       "          M   So  Ed  Po1 Po2 LF  M.F Pop NW  U1  U2  Wealth Ineq Prob Time\n",
       "1  ( 1 )  \" \" \" \" \" \" \"*\" \" \" \" \" \" \" \" \" \" \" \" \" \" \" \" \"    \" \"  \" \"  \" \" \n",
       "2  ( 1 )  \" \" \" \" \" \" \"*\" \" \" \" \" \" \" \" \" \" \" \" \" \" \" \" \"    \"*\"  \" \"  \" \" \n",
       "3  ( 1 )  \" \" \" \" \" \" \"*\" \" \" \" \" \"*\" \" \" \" \" \" \" \" \" \" \"    \"*\"  \" \"  \" \" \n",
       "4  ( 1 )  \" \" \"*\" \" \" \"*\" \"*\" \" \" \"*\" \" \" \" \" \" \" \" \" \" \"    \" \"  \" \"  \" \" \n",
       "5  ( 1 )  \"*\" \"*\" \" \" \"*\" \"*\" \" \" \"*\" \" \" \" \" \" \" \" \" \" \"    \" \"  \" \"  \" \" \n",
       "6  ( 1 )  \"*\" \" \" \" \" \"*\" \"*\" \" \" \"*\" \" \" \" \" \" \" \" \" \"*\"    \"*\"  \" \"  \" \" \n",
       "7  ( 1 )  \"*\" \" \" \"*\" \"*\" \" \" \" \" \"*\" \" \" \" \" \"*\" \"*\" \" \"    \"*\"  \" \"  \" \" \n",
       "8  ( 1 )  \"*\" \" \" \"*\" \"*\" \" \" \" \" \"*\" \" \" \" \" \"*\" \"*\" \" \"    \"*\"  \"*\"  \" \" \n",
       "9  ( 1 )  \"*\" \" \" \"*\" \"*\" \"*\" \" \" \"*\" \" \" \" \" \"*\" \"*\" \" \"    \"*\"  \"*\"  \" \" \n",
       "10  ( 1 ) \"*\" \" \" \"*\" \"*\" \"*\" \" \" \"*\" \" \" \"*\" \"*\" \"*\" \" \"    \"*\"  \"*\"  \" \" \n",
       "11  ( 1 ) \"*\" \" \" \"*\" \"*\" \"*\" \" \" \"*\" \" \" \"*\" \"*\" \"*\" \" \"    \"*\"  \"*\"  \"*\" \n",
       "12  ( 1 ) \"*\" \" \" \"*\" \"*\" \"*\" \" \" \"*\" \"*\" \"*\" \"*\" \"*\" \" \"    \"*\"  \"*\"  \"*\" "
      ]
     },
     "metadata": {},
     "output_type": "display_data"
    }
   ],
   "source": [
    "# Define models and check their summary\n",
    "model.part1 = regsubsets(Crime~., data = train_data, nvmax = 12)\n",
    "summ.part1 = summary(model.part1)\n",
    "summ.part1"
   ]
  },
  {
   "cell_type": "markdown",
   "id": "f962f6b3",
   "metadata": {},
   "source": [
    "Check the AIC's and BIC's of the 12 selected models"
   ]
  },
  {
   "cell_type": "code",
   "execution_count": 8,
   "id": "8789d6eb",
   "metadata": {},
   "outputs": [
    {
     "name": "stderr",
     "output_type": "stream",
     "text": [
      "Warning message in N_train * log(summ.part1$rss/N_train) + 2 * sizes:\n",
      "\"longer object length is not a multiple of shorter object length\"\n",
      "Warning message in N_train * log(summ.part1$rss/N_train) + sizes * log(N_train):\n",
      "\"longer object length is not a multiple of shorter object length\"\n"
     ]
    },
    {
     "name": "stdout",
     "output_type": "stream",
     "text": [
      "[1] \"AICs\"\n"
     ]
    },
    {
     "data": {
      "text/html": [
       "<style>\n",
       ".list-inline {list-style: none; margin:0; padding: 0}\n",
       ".list-inline>li {display: inline-block}\n",
       ".list-inline>li:not(:last-child)::after {content: \"\\00b7\"; padding: 0 .5ex}\n",
       "</style>\n",
       "<ol class=list-inline><li>405.702402446613</li><li>400.660023672152</li><li>393.298282401334</li><li>392.165325467622</li><li>391.365080204111</li><li>391.140591678119</li><li>390.492613075091</li><li>389.284132825488</li><li>389.225207373935</li><li>390.108781466926</li><li>390.873392798996</li><li>392.164197514809</li><li>429.702402446613</li><li>424.660023672152</li><li>417.298282401334</li></ol>\n"
      ],
      "text/latex": [
       "\\begin{enumerate*}\n",
       "\\item 405.702402446613\n",
       "\\item 400.660023672152\n",
       "\\item 393.298282401334\n",
       "\\item 392.165325467622\n",
       "\\item 391.365080204111\n",
       "\\item 391.140591678119\n",
       "\\item 390.492613075091\n",
       "\\item 389.284132825488\n",
       "\\item 389.225207373935\n",
       "\\item 390.108781466926\n",
       "\\item 390.873392798996\n",
       "\\item 392.164197514809\n",
       "\\item 429.702402446613\n",
       "\\item 424.660023672152\n",
       "\\item 417.298282401334\n",
       "\\end{enumerate*}\n"
      ],
      "text/markdown": [
       "1. 405.702402446613\n",
       "2. 400.660023672152\n",
       "3. 393.298282401334\n",
       "4. 392.165325467622\n",
       "5. 391.365080204111\n",
       "6. 391.140591678119\n",
       "7. 390.492613075091\n",
       "8. 389.284132825488\n",
       "9. 389.225207373935\n",
       "10. 390.108781466926\n",
       "11. 390.873392798996\n",
       "12. 392.164197514809\n",
       "13. 429.702402446613\n",
       "14. 424.660023672152\n",
       "15. 417.298282401334\n",
       "\n",
       "\n"
      ],
      "text/plain": [
       " [1] 405.7024 400.6600 393.2983 392.1653 391.3651 391.1406 390.4926 389.2841\n",
       " [9] 389.2252 390.1088 390.8734 392.1642 429.7024 424.6600 417.2983"
      ]
     },
     "metadata": {},
     "output_type": "display_data"
    },
    {
     "name": "stdout",
     "output_type": "stream",
     "text": [
      "[1] \"BICs\"\n"
     ]
    },
    {
     "data": {
      "text/html": [
       "<style>\n",
       ".list-inline {list-style: none; margin:0; padding: 0}\n",
       ".list-inline>li {display: inline-block}\n",
       ".list-inline>li:not(:last-child)::after {content: \"\\00b7\"; padding: 0 .5ex}\n",
       "</style>\n",
       "<ol class=list-inline><li>407.28592138507</li><li>403.827061549064</li><li>398.048839216703</li><li>398.499401221446</li><li>399.282674896392</li><li>400.641705308856</li><li>401.577245644284</li><li>401.952284333137</li><li>403.47687782004</li><li>405.943970851487</li><li>408.292101122013</li><li>411.166424776283</li><li>450.288148646543</li><li>446.829288810538</li><li>441.051066478176</li></ol>\n"
      ],
      "text/latex": [
       "\\begin{enumerate*}\n",
       "\\item 407.28592138507\n",
       "\\item 403.827061549064\n",
       "\\item 398.048839216703\n",
       "\\item 398.499401221446\n",
       "\\item 399.282674896392\n",
       "\\item 400.641705308856\n",
       "\\item 401.577245644284\n",
       "\\item 401.952284333137\n",
       "\\item 403.47687782004\n",
       "\\item 405.943970851487\n",
       "\\item 408.292101122013\n",
       "\\item 411.166424776283\n",
       "\\item 450.288148646543\n",
       "\\item 446.829288810538\n",
       "\\item 441.051066478176\n",
       "\\end{enumerate*}\n"
      ],
      "text/markdown": [
       "1. 407.28592138507\n",
       "2. 403.827061549064\n",
       "3. 398.048839216703\n",
       "4. 398.499401221446\n",
       "5. 399.282674896392\n",
       "6. 400.641705308856\n",
       "7. 401.577245644284\n",
       "8. 401.952284333137\n",
       "9. 403.47687782004\n",
       "10. 405.943970851487\n",
       "11. 408.292101122013\n",
       "12. 411.166424776283\n",
       "13. 450.288148646543\n",
       "14. 446.829288810538\n",
       "15. 441.051066478176\n",
       "\n",
       "\n"
      ],
      "text/plain": [
       " [1] 407.2859 403.8271 398.0488 398.4994 399.2827 400.6417 401.5772 401.9523\n",
       " [9] 403.4769 405.9440 408.2921 411.1664 450.2881 446.8293 441.0511"
      ]
     },
     "metadata": {},
     "output_type": "display_data"
    },
    {
     "name": "stdout",
     "output_type": "stream",
     "text": [
      "Model with lowest AIC: 9 \n",
      "Model with lowest BIC: 3"
     ]
    }
   ],
   "source": [
    "sizes = 1:15\n",
    "\n",
    "# Manual computation for AICs and BICs\n",
    "AICs = N_train*log(summ.part1$rss/N_train) + 2*sizes\n",
    "BICs = N_train*log(summ.part1$rss/N_train) + sizes*log(N_train)\n",
    "\n",
    "# Show AIC and BIC values\n",
    "print(\"AICs\")\n",
    "AICs\n",
    "print(\"BICs\")\n",
    "BICs\n",
    "\n",
    "# Find minimum AIC and BIC\n",
    "cat(\"Model with lowest AIC:\",which.min(AICs), \"\\n\")\n",
    "cat(\"Model with lowest BIC:\",which.min(BICs))"
   ]
  },
  {
   "cell_type": "markdown",
   "id": "8666c4e1",
   "metadata": {},
   "source": [
    "**Thus, the best AIC model is the model with 9 predictors (Model 9); whereas the best model according to BIC is the one with 3 predictors (Model 3).**\n",
    "\n",
    "From the Table a couple cells above, we can see what are the variables included in Model 9 and 3. Below, we construct these 2 models:"
   ]
  },
  {
   "cell_type": "code",
   "execution_count": 9,
   "id": "56e61f0d",
   "metadata": {},
   "outputs": [],
   "source": [
    "# Define final AIC model\n",
    "model.aic = lm(Crime ~ M + Ed + Po1 + M.F + U1 + U2 + Ineq + Prob, data = train_data )\n",
    "\n",
    "# Similarly for final BIC model\n",
    "model.bic = lm(Crime ~Po1 + M.F + Ineq, data = train_data )"
   ]
  },
  {
   "cell_type": "markdown",
   "id": "d22cbf75",
   "metadata": {},
   "source": [
    "**3.2: PCA model**\n",
    "\n",
    "PCA, or PCR, refers to transforming the predictors from their original format to their principal components, followed\n",
    "by a Multilinear Regression of the response variable with respect to these principal components. The idea is to try\n",
    "to explain the variation of the response from combined variations of multiple predictor variables, thus avoid\n",
    "collinearity issues.\n",
    "\n",
    "In order to select how many principal components should be considered for the model, we have performed a crossvalidation (CV) of the train data and have chosen the number of components with minimum mean squared prediction\n",
    "error across all folds. The number of folds for CV was 6, meaning that the train data (with 36 entries) was sliced in 6\n",
    "parts, thus with 6 entries each. At each iteration, the model is trained in 5 of the 6 parts and the prediction error is\n",
    "computed on the remaining one."
   ]
  },
  {
   "cell_type": "code",
   "execution_count": 10,
   "id": "df6b1716",
   "metadata": {},
   "outputs": [
    {
     "data": {
      "text/html": [
       "8"
      ],
      "text/latex": [
       "8"
      ],
      "text/markdown": [
       "8"
      ],
      "text/plain": [
       "[1] 8"
      ]
     },
     "metadata": {},
     "output_type": "display_data"
    }
   ],
   "source": [
    "# Compute models using CV with 6 folds\n",
    "model.pca = pcr(Crime~., data = train_data, validation = \"CV\", ncomp = 15, nfolds = 6)\n",
    "\n",
    "# Compute mean validation error\n",
    "PCA_error = RMSEP(model.pca, estimate = \"CV\")\n",
    "\n",
    "# Check number of components with smallest error\n",
    "N_PCA = which.min(PCA_error$val) - 1\n",
    "\n",
    "N_PCA"
   ]
  },
  {
   "cell_type": "markdown",
   "id": "65af5c77",
   "metadata": {},
   "source": [
    "**Thus, the model with minimum cross-validation prediction error has 8 components (+ the intercept).**\n",
    "\n",
    "**3.3: Lasso model**\n",
    "\n",
    "Lasso is a regularization technique which penalizes Linear Regression Models with large coefficients by adding a term proportional to the $L^1$ norm of the coefficients vector to the cost function. In order to fit a Lasso model, the proportionality constant $\\lambda$ needs to be specified. In general, the value of $\\lambda$ is obtained through\n",
    "cross-validation.\n",
    "\n",
    "In R, we use the “glmnet” package to fit a Lasso regression while also performing a cross-validation. Just like for PCA,\n",
    "we use a 6-fold CV procedure to find the optimal λ."
   ]
  },
  {
   "cell_type": "code",
   "execution_count": 11,
   "id": "190e18a3",
   "metadata": {},
   "outputs": [
    {
     "data": {
      "text/html": [
       "31.9164237991132"
      ],
      "text/latex": [
       "31.9164237991132"
      ],
      "text/markdown": [
       "31.9164237991132"
      ],
      "text/plain": [
       "[1] 31.91642"
      ]
     },
     "metadata": {},
     "output_type": "display_data"
    }
   ],
   "source": [
    "\n",
    "# Prepare data for the Lasso algorithm\n",
    "X = as.matrix(train_data[,-16])\n",
    "Y = as.vector(train_data[,16])\n",
    "\n",
    "# Compute Lasso models with 6-fold CV\n",
    "model.lasso = cv.glmnet(X, Y, alpha = 1, nfolds = 6)\n",
    "\n",
    "# Find the lambda of the model with minimum CV prediction error\n",
    "lambda = model.lasso$lambda.min\n",
    "\n",
    "lambda"
   ]
  },
  {
   "cell_type": "markdown",
   "id": "62aa7d3b",
   "metadata": {},
   "source": [
    "**Thus, the model with minimum cross-validation prediction error has a lambda of 31.9.** As an illustration, the next plot shows the Mean Squared Errors and their standard deviations from the 6 folds of the CV for each value of $log(\\lambda)$. The minimum happens at $log(\\lambda) \\approx 3.45$ or $\\lambda \\approx 32$."
   ]
  },
  {
   "cell_type": "code",
   "execution_count": 13,
   "id": "02f8f408",
   "metadata": {},
   "outputs": [
    {
     "data": {
      "image/png": "[encoded data removed]",
      "text/plain": [
       "plot without title"
      ]
     },
     "metadata": {
      "image/png": {
       "height": 300,
       "width": 480
      }
     },
     "output_type": "display_data"
    }
   ],
   "source": [
    "plot(model.lasso,cex.lab=1.5, cex.axis =1.5)\n",
    "fig(8,5)"
   ]
  },
  {
   "cell_type": "markdown",
   "id": "8fb1be3b",
   "metadata": {},
   "source": [
    "\n",
    "**Part 5: Predictions for the test data**"
   ]
  },
  {
   "cell_type": "markdown",
   "id": "8bbad366",
   "metadata": {},
   "source": [
    "Finally, to select the best model out of the 4, we computed the MSE for each one using the test data. The next cell's output shows the results."
   ]
  },
  {
   "cell_type": "code",
   "execution_count": 14,
   "id": "3343e0f2",
   "metadata": {},
   "outputs": [
    {
     "name": "stdout",
     "output_type": "stream",
     "text": [
      "  ModelCriterion  TestMSE\n",
      "1            AIC 33804.57\n",
      "2            BIC 71578.96\n",
      "3            PCA 67222.03\n",
      "4          Lasso 83333.46\n"
     ]
    }
   ],
   "source": [
    "# Compute predictions of each model\n",
    "pred_AIC = predict(model.aic, test_data[,-16])\n",
    "pred_BIC = predict(model.bic, test_data[,-16])\n",
    "pred_PCA = predict(model.pca, test_data[,-16], ncomp= N_PCA)\n",
    "pred_lasso = predict(model.lasso, newx = as.matrix(test_data[,-16]), s = lambda)\n",
    "\n",
    "# Compute mean square prediction error of the test data\n",
    "TestMSE = c(sum((pred_AIC-test_data[,16])^2)/N_test,\n",
    "           sum((pred_BIC-test_data[,16])^2)/N_test,\n",
    "           sum((pred_PCA-test_data[,16])^2)/N_test,\n",
    "           sum((pred_lasso-test_data[,16])^2)/N_test)\n",
    "\n",
    "ModelCriterion = c('AIC', \"BIC\", \"PCA\", \"Lasso\")\n",
    "df = data.frame(ModelCriterion, TestMSE)\n",
    "print(df)"
   ]
  },
  {
   "cell_type": "markdown",
   "id": "d89c5bd1",
   "metadata": {},
   "source": [
    "**Based on this table, we conclude that the model chosen from the AIC critetion has considerably lower error than\n",
    "the others and thus is the model of choice of our analysis.**"
   ]
  },
  {
   "cell_type": "markdown",
   "id": "67b1369f",
   "metadata": {},
   "source": [
    "For sake of clarity, we write here the final model:\n",
    "\n",
    "$$\n",
    "y = \\beta_0 + \\sum_{i=1}^9 \\beta_1 X_i\n",
    "$$\n",
    "\n",
    "Where y is the Crime Rate (number of offenses per 100,000 inhabitants) and predictors $X_i$ from $i=1$ to 9 are\n",
    "\n",
    "(1) Percentage of Males aged 14- 24\n",
    "\n",
    "(2) Mean Years of Schooling\n",
    "\n",
    "(3) Police Expenditure in 1960\n",
    "\n",
    "(4) Police Expenditure in 1959\n",
    "\n",
    "(5) Number of Males per 100 Females\n",
    "\n",
    "(6) Unemployment Rate for Males aged 14-24\n",
    "\n",
    "(7) Unemployment Rate for Males aged 35-39\n",
    "\n",
    "(8) Income Inequality\n",
    "\n",
    "(9) Probability of Imprisonment.\n"
   ]
  },
  {
   "cell_type": "markdown",
   "id": "075a6af9",
   "metadata": {},
   "source": [
    "### Conclusion\n"
   ]
  },
  {
   "cell_type": "markdown",
   "id": "71b9381a",
   "metadata": {},
   "source": [
    "In this study, we combined criminal and geographical data of 47 states in the US of the year 1960. We\n",
    "concluded that the Crime Rates in that year (number of offenses per 100,000 inhabitants) are mostly related to 9 different\n",
    "factors. In basic terms, these factors reflect the percentage of young males in the population, the mean years of\n",
    "schooling of the population, the ratio between males and females, the expenditures with police, the unemployment\n",
    "rate, the inequality of income and the ratio of prison commitments to offenses.\n"
   ]
  },
  {
   "cell_type": "code",
   "execution_count": null,
   "id": "d43b0692",
   "metadata": {},
   "outputs": [],
   "source": []
  }
 ],
 "metadata": {
  "jupytext": {
   "cell_metadata_filter": "-all",
   "main_language": "R",
   "notebook_metadata_filter": "-all"
  },
  "kernelspec": {
   "display_name": "R",
   "language": "R",
   "name": "ir"
  },
  "language_info": {
   "codemirror_mode": "r",
   "file_extension": ".r",
   "mimetype": "text/x-r-source",
   "name": "R",
   "pygments_lexer": "r",
   "version": "4.2.2"
  }
 },
 "nbformat": 4,
 "nbformat_minor": 5
}
