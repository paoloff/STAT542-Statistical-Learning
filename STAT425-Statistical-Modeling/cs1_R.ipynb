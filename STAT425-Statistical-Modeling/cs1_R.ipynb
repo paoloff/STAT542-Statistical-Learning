{
 "cells": [
  {
   "cell_type": "markdown",
   "id": "f2ec4d52",
   "metadata": {},
   "source": [
    "## <center>Title: Case Study 1<center>\n",
    "## <center>Author: Paolo Ferrari<center>\n",
    "## <center>Date: 2023-03-29<center>\n",
    "    \n",
    "---"
   ]
  },
  {
   "cell_type": "markdown",
   "id": "154b1f46",
   "metadata": {},
   "source": [
    "### 1. Introduction"
   ]
  },
  {
   "cell_type": "markdown",
   "id": "f80e90cd",
   "metadata": {},
   "source": [
    "In this Case Study, we analyze the grades of multiple assignments in four semesters of the UIUC Course Stat 452. \n",
    "\n",
    "The goal here is to predict the grades of the second exam of the course as a function of the grades of other assignments and also of the semester of the course.  \n",
    "\n",
    "To achieve that, we test multiple linear regression models with different numbers of predictors. We then use different metrics to test the models and select the best one. \n",
    "\n",
    "Finally, we conclude by analyzing the performance of the selected model against the real data.\n",
    "\n",
    "So, let's get started!\n",
    "\n",
    "---"
   ]
  },
  {
   "cell_type": "code",
   "execution_count": 1,
   "id": "1a1524ec",
   "metadata": {},
   "outputs": [
    {
     "name": "stderr",
     "output_type": "stream",
     "text": [
      "Warning message:\n",
      "\"package 'repr' was built under R version 4.2.3\"\n"
     ]
    }
   ],
   "source": [
    "## Importing the libraries\n",
    "\n",
    "library(repr)\n",
    "library(ggplot2)"
   ]
  },
  {
   "cell_type": "markdown",
   "id": "4cc3fbe4",
   "metadata": {},
   "source": [
    "### 2. Data Overview\n"
   ]
  },
  {
   "cell_type": "markdown",
   "id": "79e46870",
   "metadata": {},
   "source": [
    "We first read the data from CSV file"
   ]
  },
  {
   "cell_type": "code",
   "execution_count": 2,
   "id": "a4a5ee56",
   "metadata": {},
   "outputs": [],
   "source": [
    "data = read.csv(\"grades.csv\")"
   ]
  },
  {
   "cell_type": "markdown",
   "id": "771b1276",
   "metadata": {},
   "source": [
    "Let's then take a short view of the dataset"
   ]
  },
  {
   "cell_type": "code",
   "execution_count": 3,
   "id": "33c02486",
   "metadata": {},
   "outputs": [
    {
     "data": {
      "text/html": [
       "<table class=\"dataframe\">\n",
       "<caption>A data.frame: 6 × 7</caption>\n",
       "<thead>\n",
       "\t<tr><th></th><th scope=col>exam2</th><th scope=col>exam1</th><th scope=col>project</th><th scope=col>cs</th><th scope=col>hw</th><th scope=col>participation</th><th scope=col>semester</th></tr>\n",
       "\t<tr><th></th><th scope=col>&lt;dbl&gt;</th><th scope=col>&lt;dbl&gt;</th><th scope=col>&lt;dbl&gt;</th><th scope=col>&lt;dbl&gt;</th><th scope=col>&lt;dbl&gt;</th><th scope=col>&lt;dbl&gt;</th><th scope=col>&lt;int&gt;</th></tr>\n",
       "</thead>\n",
       "<tbody>\n",
       "\t<tr><th scope=row>1</th><td>100.00</td><td>100.00</td><td>100</td><td> 95.24</td><td>98.84</td><td>95.77</td><td>1</td></tr>\n",
       "\t<tr><th scope=row>2</th><td> 97.33</td><td>100.00</td><td>100</td><td>100.00</td><td>98.22</td><td>93.87</td><td>1</td></tr>\n",
       "\t<tr><th scope=row>3</th><td>100.00</td><td> 98.82</td><td>100</td><td>100.00</td><td>94.37</td><td>95.38</td><td>1</td></tr>\n",
       "\t<tr><th scope=row>4</th><td> 97.33</td><td> 97.06</td><td>100</td><td> 95.24</td><td>98.35</td><td>96.85</td><td>1</td></tr>\n",
       "\t<tr><th scope=row>5</th><td> 92.00</td><td> 97.06</td><td> 98</td><td> 95.24</td><td>94.43</td><td>84.82</td><td>1</td></tr>\n",
       "\t<tr><th scope=row>6</th><td> 97.33</td><td> 89.41</td><td> 90</td><td> 97.62</td><td>95.80</td><td>89.33</td><td>1</td></tr>\n",
       "</tbody>\n",
       "</table>\n"
      ],
      "text/latex": [
       "A data.frame: 6 × 7\n",
       "\\begin{tabular}{r|lllllll}\n",
       "  & exam2 & exam1 & project & cs & hw & participation & semester\\\\\n",
       "  & <dbl> & <dbl> & <dbl> & <dbl> & <dbl> & <dbl> & <int>\\\\\n",
       "\\hline\n",
       "\t1 & 100.00 & 100.00 & 100 &  95.24 & 98.84 & 95.77 & 1\\\\\n",
       "\t2 &  97.33 & 100.00 & 100 & 100.00 & 98.22 & 93.87 & 1\\\\\n",
       "\t3 & 100.00 &  98.82 & 100 & 100.00 & 94.37 & 95.38 & 1\\\\\n",
       "\t4 &  97.33 &  97.06 & 100 &  95.24 & 98.35 & 96.85 & 1\\\\\n",
       "\t5 &  92.00 &  97.06 &  98 &  95.24 & 94.43 & 84.82 & 1\\\\\n",
       "\t6 &  97.33 &  89.41 &  90 &  97.62 & 95.80 & 89.33 & 1\\\\\n",
       "\\end{tabular}\n"
      ],
      "text/markdown": [
       "\n",
       "A data.frame: 6 × 7\n",
       "\n",
       "| <!--/--> | exam2 &lt;dbl&gt; | exam1 &lt;dbl&gt; | project &lt;dbl&gt; | cs &lt;dbl&gt; | hw &lt;dbl&gt; | participation &lt;dbl&gt; | semester &lt;int&gt; |\n",
       "|---|---|---|---|---|---|---|---|\n",
       "| 1 | 100.00 | 100.00 | 100 |  95.24 | 98.84 | 95.77 | 1 |\n",
       "| 2 |  97.33 | 100.00 | 100 | 100.00 | 98.22 | 93.87 | 1 |\n",
       "| 3 | 100.00 |  98.82 | 100 | 100.00 | 94.37 | 95.38 | 1 |\n",
       "| 4 |  97.33 |  97.06 | 100 |  95.24 | 98.35 | 96.85 | 1 |\n",
       "| 5 |  92.00 |  97.06 |  98 |  95.24 | 94.43 | 84.82 | 1 |\n",
       "| 6 |  97.33 |  89.41 |  90 |  97.62 | 95.80 | 89.33 | 1 |\n",
       "\n"
      ],
      "text/plain": [
       "  exam2  exam1  project cs     hw    participation semester\n",
       "1 100.00 100.00 100      95.24 98.84 95.77         1       \n",
       "2  97.33 100.00 100     100.00 98.22 93.87         1       \n",
       "3 100.00  98.82 100     100.00 94.37 95.38         1       \n",
       "4  97.33  97.06 100      95.24 98.35 96.85         1       \n",
       "5  92.00  97.06  98      95.24 94.43 84.82         1       \n",
       "6  97.33  89.41  90      97.62 95.80 89.33         1       "
      ]
     },
     "metadata": {},
     "output_type": "display_data"
    }
   ],
   "source": [
    "head(data)"
   ]
  },
  {
   "cell_type": "markdown",
   "id": "a2df9157",
   "metadata": {},
   "source": [
    "In this dataset, the target variable y is the column Exam2 and all other columns are the predictors X. **Regarding the predictors, we treat all the 6 variables as numerical type for simplicity.**\n",
    "\n",
    "To visualize the dependency between X and y, we will make 5 different scatterplots for each pair formed by y and a predictor excluding the semester number. We also include the regression line for each predictor variable to visualize the overall trends."
   ]
  },
  {
   "cell_type": "code",
   "execution_count": 4,
   "id": "fe1398c3",
   "metadata": {},
   "outputs": [
    {
     "data": {
      "image/png": "[encoded data removed]",
      "text/plain": [
       "plot without title"
      ]
     },
     "metadata": {
      "image/png": {
       "height": 240,
       "width": 900
      }
     },
     "output_type": "display_data"
    }
   ],
   "source": [
    "layout(matrix(c(1,2,3,4,5), nrow = 1, ncol = 5, byrow = TRUE))\n",
    "options(repr.plot.width=15, repr.plot.height=4)\n",
    "plot(data$exam2, data$exam1,xlab = \"Exam 1\", ylab = \"Exam 2\",cex.lab=2, cex.axis = 2)\n",
    "abline(lm(data$exam2 ~data$exam1), col=\"blue\")\n",
    "plot(data$exam2, data$project,xlab = \"Project\", ylab = \"\", yaxt = \"n\",cex.lab=2, cex.axis = 2)\n",
    "abline(lm(data$exam2 ~data$project), col=\"blue\")\n",
    "plot(data$exam2, data$cs,xlab = \"Case Study\", ylab = \"\", yaxt = \"n\",cex.lab=2, cex.axis = 2)\n",
    "abline(lm(data$exam2 ~data$cs), col=\"blue\")\n",
    "plot(data$exam2, data$hw,xlab = \"Homework\", ylab = \"\", yaxt = \"n\",cex.lab=2, cex.axis = 2)\n",
    "abline(lm(data$exam2 ~data$hw), col=\"blue\")\n",
    "plot(data$exam2, data$participation,xlab = \"Participation\", ylab = \"\", yaxt = \"n\", cex.axis = 2, cex.lab =2)\n",
    "abline(lm(data$exam2 ~data$participation), col=\"blue\")"
   ]
  },
  {
   "cell_type": "markdown",
   "id": "1b4e5084",
   "metadata": {},
   "source": [
    "A clear limitation of the linear models happens because of the truncation of the grades lower than 0 and higher than 100. This is specially evident in the Project and Case Study scatterplots because of the high occurrence of 0s and 100s. These deviations already indicate that these two variables may not be good predictors of Exam 2, as will be seen later. Notably, **the lines with largest slopes seem to be Exam 1 and Homework, indicating a higher correlation between these variables and the Exam 2 score.**"
   ]
  },
  {
   "cell_type": "markdown",
   "id": "69f39eaf",
   "metadata": {},
   "source": [
    "Next, we analyzed the dependence of the Exam 2 scores with respect to the different semesters. The next figure shows a box-plot of the Exam 2 grades for the four semesters, with the average of each semester annotated in red. The right plot shows a scatterplot of the raw data for the 4 semesters, along with a regression line in blue, fitted using a simple linear regression model."
   ]
  },
  {
   "cell_type": "code",
   "execution_count": 5,
   "id": "ea9e439d",
   "metadata": {},
   "outputs": [
    {
     "data": {
      "image/png": "[encoded data removed]",
      "text/plain": [
       "plot without title"
      ]
     },
     "metadata": {
      "image/png": {
       "height": 360,
       "width": 720
      }
     },
     "output_type": "display_data"
    }
   ],
   "source": [
    "means = aggregate(exam2 ~  semester, data , mean)\n",
    "par(mfrow = c(1,2))\n",
    "options(repr.plot.width=12, repr.plot.height=6)\n",
    "boxplot(data$exam2 ~ data$semester, xlab = \"Semester\", ylab = \"Exam 2\",cex.lab=1.5, cex.axis = 1.5)\n",
    "text(1:4, means$exam2 + 0.06, labels = round(means$exam2,2), col = \"red\", cex=1.5)\n",
    "plot(round(data$semester,0),data$exam2, xlab = \"Semester\", ylab = \"Exam 2\",cex.lab=1.5, cex.axis = 1.5)\n",
    "abline(lm(data$exam2 ~ data$semester), col=\"blue\")"
   ]
  },
  {
   "cell_type": "markdown",
   "id": "3a87b4ad",
   "metadata": {},
   "source": [
    " From these plots, we conclude that even though **there’s not a clear trend of Exam 2 with Semester, the linear fit indicates a slight decrease on the mean scores.**"
   ]
  },
  {
   "cell_type": "markdown",
   "id": "34c86ac5",
   "metadata": {
    "lines_to_next_cell": 0
   },
   "source": [
    "To get a more quantitative sense of the data, let's check the correlation coefficients of Exam 2 with respect to each of the variables shown on Figures 1 and 2."
   ]
  },
  {
   "cell_type": "code",
   "execution_count": 6,
   "id": "91d04e81",
   "metadata": {
    "lines_to_next_cell": 0
   },
   "outputs": [
    {
     "data": {
      "text/html": [
       "<table class=\"dataframe\">\n",
       "<caption>A matrix: 1 × 7 of type dbl</caption>\n",
       "<thead>\n",
       "\t<tr><th scope=col>exam2</th><th scope=col>exam1</th><th scope=col>project</th><th scope=col>cs</th><th scope=col>hw</th><th scope=col>participation</th><th scope=col>semester</th></tr>\n",
       "</thead>\n",
       "<tbody>\n",
       "\t<tr><td>1</td><td>0.3957304</td><td>0.3266639</td><td>0.3137312</td><td>0.5431223</td><td>0.2948781</td><td>-0.4229744</td></tr>\n",
       "</tbody>\n",
       "</table>\n"
      ],
      "text/latex": [
       "A matrix: 1 × 7 of type dbl\n",
       "\\begin{tabular}{lllllll}\n",
       " exam2 & exam1 & project & cs & hw & participation & semester\\\\\n",
       "\\hline\n",
       "\t 1 & 0.3957304 & 0.3266639 & 0.3137312 & 0.5431223 & 0.2948781 & -0.4229744\\\\\n",
       "\\end{tabular}\n"
      ],
      "text/markdown": [
       "\n",
       "A matrix: 1 × 7 of type dbl\n",
       "\n",
       "| exam2 | exam1 | project | cs | hw | participation | semester |\n",
       "|---|---|---|---|---|---|---|\n",
       "| 1 | 0.3957304 | 0.3266639 | 0.3137312 | 0.5431223 | 0.2948781 | -0.4229744 |\n",
       "\n"
      ],
      "text/plain": [
       "     exam2 exam1     project   cs        hw        participation semester  \n",
       "[1,] 1     0.3957304 0.3266639 0.3137312 0.5431223 0.2948781     -0.4229744"
      ]
     },
     "metadata": {},
     "output_type": "display_data"
    }
   ],
   "source": [
    "cor(data$exam2, data)"
   ]
  },
  {
   "cell_type": "markdown",
   "id": "6f9cf8a9",
   "metadata": {
    "lines_to_next_cell": 0
   },
   "source": [
    "Let's also check the single linear regression coefficients."
   ]
  },
  {
   "cell_type": "code",
   "execution_count": 7,
   "id": "7e747e43",
   "metadata": {},
   "outputs": [
    {
     "data": {
      "text/html": [
       "<style>\n",
       ".list-inline {list-style: none; margin:0; padding: 0}\n",
       ".list-inline>li {display: inline-block}\n",
       ".list-inline>li:not(:last-child)::after {content: \"\\00b7\"; padding: 0 .5ex}\n",
       "</style>\n",
       "<ol class=list-inline><li>0.470310930244182</li><li>0.233879916574434</li><li>0.347280272894905</li><li>0.549120019856345</li><li>0.282681075570935</li><li>-6.63415156246703</li></ol>\n"
      ],
      "text/latex": [
       "\\begin{enumerate*}\n",
       "\\item 0.470310930244182\n",
       "\\item 0.233879916574434\n",
       "\\item 0.347280272894905\n",
       "\\item 0.549120019856345\n",
       "\\item 0.282681075570935\n",
       "\\item -6.63415156246703\n",
       "\\end{enumerate*}\n"
      ],
      "text/markdown": [
       "1. 0.470310930244182\n",
       "2. 0.233879916574434\n",
       "3. 0.347280272894905\n",
       "4. 0.549120019856345\n",
       "5. 0.282681075570935\n",
       "6. -6.63415156246703\n",
       "\n",
       "\n"
      ],
      "text/plain": [
       "[1]  0.4703109  0.2338799  0.3472803  0.5491200  0.2826811 -6.6341516"
      ]
     },
     "metadata": {},
     "output_type": "display_data"
    }
   ],
   "source": [
    "c(cov(data$exam2,data))[2:7]/c(var(data$exam1),\n",
    "                               var(data$project),\n",
    "                               var(data$cs),\n",
    "                               var(data$hw),\n",
    "                               var(data$participation),\n",
    "                               var(data$semester))"
   ]
  },
  {
   "cell_type": "markdown",
   "id": "c7402120",
   "metadata": {},
   "source": [
    "**We conclude from this early analysis that the variables Exam 1, Homework and Semester Number are the ones with highest correlation with Exam 2.** This observation will be corroborated when the multiple linear regression models are compared.\n",
    "\n",
    "---"
   ]
  },
  {
   "cell_type": "markdown",
   "id": "d256dcb1",
   "metadata": {},
   "source": [
    "### 3. Modeling with Multivariate Linear Models\n"
   ]
  },
  {
   "cell_type": "markdown",
   "id": "53bbccc7",
   "metadata": {},
   "source": [
    "In this section, we want to select a linear model that relates y and X. To do that, we start by including all predictors X\n",
    "while checking the significance of each predictor separetely. We then exclude some of the predictors with low significance and re-fit the data for the reduced models. This is repeated until the best combination of predictors is found. **During this process, we use a significance level of 0.05; that is, we exclude a predictor if its regression coefficient has an associated p-value above 0.05.**"
   ]
  },
  {
   "cell_type": "markdown",
   "id": "e22b53d7",
   "metadata": {},
   "source": [
    "The first attempt is the multiple linear regression model taking into account all predictors, referred to as Model 1 or Full Model:"
   ]
  },
  {
   "cell_type": "code",
   "execution_count": 8,
   "id": "eabad85d",
   "metadata": {},
   "outputs": [
    {
     "data": {
      "text/plain": [
       "\n",
       "Call:\n",
       "lm(formula = exam2 ~ ., data = data)\n",
       "\n",
       "Residuals:\n",
       "    Min      1Q  Median      3Q     Max \n",
       "-57.414  -6.793   0.850   7.831  27.124 \n",
       "\n",
       "Coefficients:\n",
       "              Estimate Std. Error t value Pr(>|t|)    \n",
       "(Intercept)   35.26655    5.46283   6.456 5.03e-10 ***\n",
       "exam1          0.34756    0.05853   5.939 8.88e-09 ***\n",
       "project        0.01576    0.03971   0.397    0.692    \n",
       "cs             0.02337    0.05811   0.402    0.688    \n",
       "hw             0.40359    0.06267   6.440 5.49e-10 ***\n",
       "participation -0.02741    0.05210  -0.526    0.599    \n",
       "semester      -7.51155    0.66993 -11.212  < 2e-16 ***\n",
       "---\n",
       "Signif. codes:  0 '***' 0.001 '**' 0.01 '*' 0.05 '.' 0.1 ' ' 1\n",
       "\n",
       "Residual standard error: 12.06 on 268 degrees of freedom\n",
       "Multiple R-squared:  0.5405,\tAdjusted R-squared:  0.5302 \n",
       "F-statistic: 52.54 on 6 and 268 DF,  p-value: < 2.2e-16\n"
      ]
     },
     "metadata": {},
     "output_type": "display_data"
    }
   ],
   "source": [
    "model1 = lm(exam2 ~ ., data = data)\n",
    "summary(model1)"
   ]
  },
  {
   "cell_type": "markdown",
   "id": "dd5614d1",
   "metadata": {},
   "source": [
    "By looking at the last column in \"Coefficients\" table, **we conclude that the variables Project, Case Study and Participation are candidates for being dropped out from the model since the p-values of their coefficients are larger than 0.05**. We also note that the values of their coefficients are the much closer to 0 compared to the variables Exam 1, Homework and Semester."
   ]
  },
  {
   "cell_type": "markdown",
   "id": "f38baf20",
   "metadata": {},
   "source": [
    "From this observation, we next evaluate 4 different models:\n",
    "\n",
    "- Model 2 - Full Model (FM) with Project (P) and Case Study (C) removed: FM – (P + C) \n",
    "- Model 3 - FM with Participation (Pa) and C removed: FM – (C + Pa)\n",
    "- Model 4 - FM with P and Pa removed: FM – (P + Pa)\n",
    "- Model 5 - FM with the three variables removed at the same time: FM – (P+C+Pa)\n"
   ]
  },
  {
   "cell_type": "markdown",
   "id": "8bda71e9",
   "metadata": {
    "lines_to_next_cell": 0
   },
   "source": [
    "For each model, the next table displays the R^2 coefficient, residual sums of squares (RSS), and the AIC statistic. **We see that the model with highest R^2 and lowest AIC is the model with the three predictors removed, suggesting that it is the most appropriate (Model 5).** Shown in the Appendix of this Notebook, the summary of each of the Models 2-4 indicated that the variable which was kept relative to Model 5 should be removed according to the p-value associated to its coefficient. This further indicates that Model 5 is the most appropriate. \n",
    "\n",
    "||R^2|RSS|AIC|\n",
    "|-|-|-|-|\n",
    "|Model 1|0.5302|38962.8|2158.6|\n",
    "|Model 2|0.5328|39035.9|2155.2|\n",
    "|Model 3|0.5329 |39028.7|2155.1|\n",
    "|Model 4|0.533 |39017.5|2155.4|\n",
    "|Model 5|0.5342 |39065.4|2153.4|\n"
   ]
  },
  {
   "cell_type": "markdown",
   "id": "88e12986",
   "metadata": {},
   "source": [
    "The appendix also contains the code used to compute the R^2, RSS and AIC metrics for each model. Here, we only show the summary of the chosen best model (model 5):"
   ]
  },
  {
   "cell_type": "code",
   "execution_count": 9,
   "id": "43aac6ea",
   "metadata": {},
   "outputs": [
    {
     "data": {
      "text/plain": [
       "\n",
       "Call:\n",
       "lm(formula = exam2 ~ exam1 + hw + semester, data = data)\n",
       "\n",
       "Residuals:\n",
       "    Min      1Q  Median      3Q     Max \n",
       "-57.029  -7.070   0.881   7.921  28.145 \n",
       "\n",
       "Coefficients:\n",
       "            Estimate Std. Error t value Pr(>|t|)    \n",
       "(Intercept) 36.02239    4.73371   7.610 4.56e-13 ***\n",
       "exam1        0.34759    0.05717   6.080 4.08e-09 ***\n",
       "hw           0.40989    0.04775   8.584 7.28e-16 ***\n",
       "semester    -7.54042    0.66197 -11.391  < 2e-16 ***\n",
       "---\n",
       "Signif. codes:  0 '***' 0.001 '**' 0.01 '*' 0.05 '.' 0.1 ' ' 1\n",
       "\n",
       "Residual standard error: 12.01 on 271 degrees of freedom\n",
       "Multiple R-squared:  0.5393,\tAdjusted R-squared:  0.5342 \n",
       "F-statistic: 105.7 on 3 and 271 DF,  p-value: < 2.2e-16\n"
      ]
     },
     "metadata": {},
     "output_type": "display_data"
    }
   ],
   "source": [
    "model5 = lm(exam2 ~ exam1  + hw + semester, data = data)\n",
    "summary(model5)"
   ]
  },
  {
   "cell_type": "markdown",
   "id": "8e65421a",
   "metadata": {},
   "source": [
    "Next, we calculate the confidence intervals for each coefficient of Model 5 using their standard errors and a Bonferroni correction"
   ]
  },
  {
   "cell_type": "code",
   "execution_count": 10,
   "id": "838f3d7f",
   "metadata": {},
   "outputs": [
    {
     "data": {
      "text/html": [
       "4.74807297237323"
      ],
      "text/latex": [
       "4.74807297237323"
      ],
      "text/markdown": [
       "4.74807297237323"
      ],
      "text/plain": [
       "[1] 4.748073"
      ]
     },
     "metadata": {},
     "output_type": "display_data"
    },
    {
     "data": {
      "text/html": [
       "0.0571815253381099"
      ],
      "text/latex": [
       "0.0571815253381099"
      ],
      "text/markdown": [
       "0.0571815253381099"
      ],
      "text/plain": [
       "[1] 0.05718153"
      ]
     },
     "metadata": {},
     "output_type": "display_data"
    },
    {
     "data": {
      "text/html": [
       "0.664108241646119"
      ],
      "text/latex": [
       "0.664108241646119"
      ],
      "text/markdown": [
       "0.664108241646119"
      ],
      "text/plain": [
       "[1] 0.6641082"
      ]
     },
     "metadata": {},
     "output_type": "display_data"
    },
    {
     "data": {
      "text/html": [
       "0.0471496787875643"
      ],
      "text/latex": [
       "0.0471496787875643"
      ],
      "text/markdown": [
       "0.0471496787875643"
      ],
      "text/plain": [
       "[1] 0.04714968"
      ]
     },
     "metadata": {},
     "output_type": "display_data"
    }
   ],
   "source": [
    "qt(1-0.95/6,271)*4.733\n",
    "qt(1-0.95/6,271)*0.057\n",
    "qt(1-0.95/6,271)*0.662\n",
    "qt(1-0.95/6,271)*0.047"
   ]
  },
  {
   "cell_type": "markdown",
   "id": "825240b0",
   "metadata": {},
   "source": [
    "**To summarize,** the model that best fits the score of Exam 2 based on the other variables of the Course is\n",
    "\n",
    "$$\n",
    "Exam2 = \\beta_0 + \\beta_1{Exam1} + \\beta_2{Homework} +\\beta_3{Semester} \n",
    "$$\n",
    "\n",
    "The value of the coefficients $\\beta_0$-$\\beta_3$ and their corresponding CI's and p-values are:\n",
    "\n",
    "||$\\beta_0$|$\\beta_1$|$\\beta_2$|$\\beta_3$|\n",
    "|-|-|-|-|-|\n",
    "|Coefficient|36.02 ± 4.748|0.35 ± 0.057|0.41 ± 0.047|-7.54 ± 0.664|\n",
    "|p-value|4e-13|4e-9|8e-16|2e-16|\n",
    "\n",
    "---\n"
   ]
  },
  {
   "cell_type": "markdown",
   "id": "8f521699",
   "metadata": {},
   "source": [
    "## 4. Evaluation of the Final Model"
   ]
  },
  {
   "cell_type": "markdown",
   "id": "fb41dd2a",
   "metadata": {},
   "source": [
    "To evaluate the quality of the fit of the final model, we qualitatively looked both at the residuals and the predictions of Model 5 versus the actual Exam 2 scores, shown in the next figure.\n"
   ]
  },
  {
   "cell_type": "code",
   "execution_count": 12,
   "id": "8518b9c2",
   "metadata": {},
   "outputs": [
    {
     "data": {
      "image/png": "[encoded data removed]",
      "text/plain": [
       "plot without title"
      ]
     },
     "metadata": {
      "image/png": {
       "height": 360,
       "width": 720
      }
     },
     "output_type": "display_data"
    }
   ],
   "source": [
    "par(mfrow = c(1,2))\n",
    "plot(data$exam2, residuals(model5), xlab = \"Exam 2\", ylab = \"Model Residuals\",cex.lab=1.5, cex.axis = 1.5)\n",
    "abline(a=0, b=0, col=\"red\")\n",
    "plot(data$exam2, predict(model5), xlab = \"Exam 2\", ylab = \"Model Predictions\",cex.lab=1.5, cex.axis = 1.5)\n",
    "abline(a=0, b=1, col=\"green\")"
   ]
  },
  {
   "cell_type": "markdown",
   "id": "9abf22d9",
   "metadata": {},
   "source": [
    "As expected, the residuals are approximately uncorrelated to the Exam 2 scores and with a mean 0 (the line y = 0 is shown in red for comparison). In addition, the right plot shows that the predicted and actual values have a correlation near 1, as indicated by the y = x line shown in green."
   ]
  },
  {
   "cell_type": "markdown",
   "id": "bef14eeb",
   "metadata": {},
   "source": [
    "Finally, the next figure shows a histogram of the residuals of the model. "
   ]
  },
  {
   "cell_type": "code",
   "execution_count": 13,
   "id": "2ef344ae",
   "metadata": {},
   "outputs": [
    {
     "data": {
      "image/png": "[encoded data removed]",
      "text/plain": [
       "Plot with title \"\""
      ]
     },
     "metadata": {
      "image/png": {
       "height": 360,
       "width": 720
      }
     },
     "output_type": "display_data"
    }
   ],
   "source": [
    "par(mfrow = c(1,2))\n",
    "hist(residuals(model5), main = \"\", xlim = c(-60,41), ylim = c(0,109),xlab = \"Residuals\", cex.axis = 1.5, cex.lab = 1.5)\n",
    "qqnorm(residuals(model5),main = \"\", cex.lab=1.5, cex.axis = 1.5)\n",
    "qqline(residuals(model5), col = \"blue\")"
   ]
  },
  {
   "cell_type": "markdown",
   "id": "c5553450",
   "metadata": {},
   "source": [
    "The near-normal distribution of the residuals around 0 indicates that the assumptions behind the linear regression model are reasonable. Corroborating this, the right panel shows a quantile-quantile (QQ) plot of the residuals, together with a blue line indicating the approximately linear dependence of the theoretical quantiles given by a standard normal distribution and the sample residual quantiles. As shown in the QQ plot, deviation from the normality of the residuals is more pronounced near the edges of the data, where the residuals are larger than 20. This is most likely a result of the truncation of the Exam 2 scores at 100."
   ]
  },
  {
   "cell_type": "markdown",
   "id": "535ef5c0",
   "metadata": {},
   "source": [
    "## 5. Conclusion"
   ]
  },
  {
   "cell_type": "markdown",
   "id": "eaf2d271",
   "metadata": {},
   "source": [
    "In conclusion, the analysis in this work shows that the expected grade of a student in their second exam can be predicted by knowing their grade in exam 1, their homework grade and in what semester they are taking the course. Students which perform well on exam 1 and their homework tend to perform better in exam 2. In addition, the model shows a small tendency for students to perform worse in the exam versus students in the previous semester."
   ]
  },
  {
   "cell_type": "markdown",
   "id": "b40392a0",
   "metadata": {},
   "source": [
    "## Appendix"
   ]
  },
  {
   "cell_type": "markdown",
   "id": "1ee9edc1",
   "metadata": {},
   "source": [
    "Here, we show the summaries of Models 2-5 as well as the code for computing AIC and RSS for each model."
   ]
  },
  {
   "cell_type": "markdown",
   "id": "861d5d17",
   "metadata": {},
   "source": [
    "**Model 2: FM – (P + C)**"
   ]
  },
  {
   "cell_type": "code",
   "execution_count": 14,
   "id": "18b5ced4",
   "metadata": {},
   "outputs": [
    {
     "data": {
      "text/plain": [
       "\n",
       "Call:\n",
       "lm(formula = exam2 ~ exam1 + participation + hw + semester, data = data)\n",
       "\n",
       "Residuals:\n",
       "    Min      1Q  Median      3Q     Max \n",
       "-57.196  -6.745   0.929   7.815  27.045 \n",
       "\n",
       "Coefficients:\n",
       "              Estimate Std. Error t value Pr(>|t|)    \n",
       "(Intercept)   36.43347    4.82698   7.548 6.81e-13 ***\n",
       "exam1          0.35166    0.05796   6.067 4.38e-09 ***\n",
       "participation -0.02318    0.05124  -0.452    0.651    \n",
       "hw             0.42315    0.05609   7.545 6.96e-13 ***\n",
       "semester      -7.50346    0.66796 -11.233  < 2e-16 ***\n",
       "---\n",
       "Signif. codes:  0 '***' 0.001 '**' 0.01 '*' 0.05 '.' 0.1 ' ' 1\n",
       "\n",
       "Residual standard error: 12.02 on 270 degrees of freedom\n",
       "Multiple R-squared:  0.5396,\tAdjusted R-squared:  0.5328 \n",
       "F-statistic: 79.12 on 4 and 270 DF,  p-value: < 2.2e-16\n"
      ]
     },
     "metadata": {},
     "output_type": "display_data"
    }
   ],
   "source": [
    "model2 = lm(exam2 ~ exam1 + participation  + hw + semester, data = data)\n",
    "summary(model2)"
   ]
  },
  {
   "cell_type": "markdown",
   "id": "cb9d39c0",
   "metadata": {},
   "source": [
    "---\n",
    "\n",
    "**Model 3: FM – (C + Pa)**"
   ]
  },
  {
   "cell_type": "code",
   "execution_count": 15,
   "id": "d2b82d7a",
   "metadata": {},
   "outputs": [
    {
     "data": {
      "text/plain": [
       "\n",
       "Call:\n",
       "lm(formula = exam2 ~ exam1 + project + hw + semester, data = data)\n",
       "\n",
       "Residuals:\n",
       "    Min      1Q  Median      3Q     Max \n",
       "-57.050  -7.150   1.068   7.764  27.639 \n",
       "\n",
       "Coefficients:\n",
       "            Estimate Std. Error t value Pr(>|t|)    \n",
       "(Intercept) 35.81709    4.75769   7.528 7.72e-13 ***\n",
       "exam1        0.34554    0.05740   6.020 5.66e-09 ***\n",
       "project      0.01834    0.03638   0.504    0.615    \n",
       "hw           0.39575    0.05544   7.139 8.71e-12 ***\n",
       "semester    -7.55314    0.66336 -11.386  < 2e-16 ***\n",
       "---\n",
       "Signif. codes:  0 '***' 0.001 '**' 0.01 '*' 0.05 '.' 0.1 ' ' 1\n",
       "\n",
       "Residual standard error: 12.02 on 270 degrees of freedom\n",
       "Multiple R-squared:  0.5397,\tAdjusted R-squared:  0.5329 \n",
       "F-statistic: 79.15 on 4 and 270 DF,  p-value: < 2.2e-16\n"
      ]
     },
     "metadata": {},
     "output_type": "display_data"
    }
   ],
   "source": [
    "model3 = lm(exam2 ~ exam1 + project  + hw + semester, data = data)\n",
    "summary(model3)"
   ]
  },
  {
   "cell_type": "markdown",
   "id": "91c4c8ee",
   "metadata": {},
   "source": [
    "**Model 4: FM – (P + Pa)**"
   ]
  },
  {
   "cell_type": "code",
   "execution_count": 16,
   "id": "bf2e4f6a",
   "metadata": {},
   "outputs": [
    {
     "data": {
      "text/plain": [
       "\n",
       "Call:\n",
       "lm(formula = exam2 ~ exam1 + cs + hw + semester, data = data)\n",
       "\n",
       "Residuals:\n",
       "    Min      1Q  Median      3Q     Max \n",
       "-57.256  -6.846   0.801   7.691  27.903 \n",
       "\n",
       "Coefficients:\n",
       "            Estimate Std. Error t value Pr(>|t|)    \n",
       "(Intercept) 34.60617    5.33947   6.481 4.30e-10 ***\n",
       "exam1        0.34350    0.05768   5.955 8.07e-09 ***\n",
       "cs           0.03106    0.05393   0.576    0.565    \n",
       "hw           0.39684    0.05292   7.499 9.26e-13 ***\n",
       "semester    -7.54563    0.66285 -11.384  < 2e-16 ***\n",
       "---\n",
       "Signif. codes:  0 '***' 0.001 '**' 0.01 '*' 0.05 '.' 0.1 ' ' 1\n",
       "\n",
       "Residual standard error: 12.02 on 270 degrees of freedom\n",
       "Multiple R-squared:  0.5398,\tAdjusted R-squared:  0.533 \n",
       "F-statistic: 79.19 on 4 and 270 DF,  p-value: < 2.2e-16\n"
      ]
     },
     "metadata": {},
     "output_type": "display_data"
    }
   ],
   "source": [
    "model4 = lm(exam2 ~ exam1 + cs  + hw + semester, data = data)\n",
    "summary(model4)"
   ]
  },
  {
   "cell_type": "markdown",
   "id": "f9dcdeaf",
   "metadata": {},
   "source": [
    "**Model 5: FM – (P+C+Pa)**"
   ]
  },
  {
   "cell_type": "code",
   "execution_count": 17,
   "id": "fd8eb0b8",
   "metadata": {},
   "outputs": [
    {
     "data": {
      "text/plain": [
       "\n",
       "Call:\n",
       "lm(formula = exam2 ~ exam1 + hw + semester, data = data)\n",
       "\n",
       "Residuals:\n",
       "    Min      1Q  Median      3Q     Max \n",
       "-57.029  -7.070   0.881   7.921  28.145 \n",
       "\n",
       "Coefficients:\n",
       "            Estimate Std. Error t value Pr(>|t|)    \n",
       "(Intercept) 36.02239    4.73371   7.610 4.56e-13 ***\n",
       "exam1        0.34759    0.05717   6.080 4.08e-09 ***\n",
       "hw           0.40989    0.04775   8.584 7.28e-16 ***\n",
       "semester    -7.54042    0.66197 -11.391  < 2e-16 ***\n",
       "---\n",
       "Signif. codes:  0 '***' 0.001 '**' 0.01 '*' 0.05 '.' 0.1 ' ' 1\n",
       "\n",
       "Residual standard error: 12.01 on 271 degrees of freedom\n",
       "Multiple R-squared:  0.5393,\tAdjusted R-squared:  0.5342 \n",
       "F-statistic: 105.7 on 3 and 271 DF,  p-value: < 2.2e-16\n"
      ]
     },
     "metadata": {},
     "output_type": "display_data"
    }
   ],
   "source": [
    "model5 = lm(exam2 ~ exam1  + hw + semester, data = data)\n",
    "summary(model5)"
   ]
  },
  {
   "cell_type": "markdown",
   "id": "252581ac",
   "metadata": {},
   "source": [
    "AIC for each model"
   ]
  },
  {
   "cell_type": "code",
   "execution_count": 18,
   "id": "346d260d",
   "metadata": {
    "lines_to_next_cell": 0
   },
   "outputs": [
    {
     "name": "stdout",
     "output_type": "stream",
     "text": [
      "Model 1 AIC 2158.654 \n",
      "Model 2 AIC 2155.169 \n",
      "Model 3 AIC 2155.119 \n",
      "Model 4 AIC 2155.04 \n",
      "Model 5 AIC 2153.377 \n"
     ]
    }
   ],
   "source": [
    "cat(\"Model 1 AIC\", AIC(model1), \"\\n\")\n",
    "cat(\"Model 2 AIC\", AIC(model2), \"\\n\")\n",
    "cat(\"Model 3 AIC\", AIC(model3), \"\\n\")\n",
    "cat(\"Model 4 AIC\", AIC(model4), \"\\n\")\n",
    "cat(\"Model 5 AIC\", AIC(model5), \"\\n\")"
   ]
  },
  {
   "cell_type": "markdown",
   "id": "2533423f",
   "metadata": {
    "lines_to_next_cell": 0
   },
   "source": [
    "RSS of each model:"
   ]
  },
  {
   "cell_type": "code",
   "execution_count": 19,
   "id": "302c374b",
   "metadata": {
    "lines_to_next_cell": 2
   },
   "outputs": [
    {
     "name": "stdout",
     "output_type": "stream",
     "text": [
      "Model 1 RSS 38962.81 \n",
      "Model 2 RSS 39035.86 \n",
      "Model 3 RSS 39028.7 \n",
      "Model 4 RSS 39017.51 \n",
      "Model 5 RSS 39065.45 \n"
     ]
    }
   ],
   "source": [
    "cat(\"Model 1 RSS\", sum(residuals(model1)^2), \"\\n\")\n",
    "cat(\"Model 2 RSS\", sum(residuals(model2)^2), \"\\n\")\n",
    "cat(\"Model 3 RSS\", sum(residuals(model3)^2), \"\\n\")\n",
    "cat(\"Model 4 RSS\", sum(residuals(model4)^2), \"\\n\")\n",
    "cat(\"Model 5 RSS\", sum(residuals(model5)^2), \"\\n\")"
   ]
  },
  {
   "cell_type": "markdown",
   "id": "cf174827",
   "metadata": {},
   "source": [
    "```\n"
   ]
  }
 ],
 "metadata": {
  "jupytext": {
   "cell_metadata_filter": "-all",
   "main_language": "R",
   "notebook_metadata_filter": "-all"
  },
  "kernelspec": {
   "display_name": "R",
   "language": "R",
   "name": "ir"
  },
  "language_info": {
   "codemirror_mode": "r",
   "file_extension": ".r",
   "mimetype": "text/x-r-source",
   "name": "R",
   "pygments_lexer": "r",
   "version": "4.2.2"
  }
 },
 "nbformat": 4,
 "nbformat_minor": 5
}
