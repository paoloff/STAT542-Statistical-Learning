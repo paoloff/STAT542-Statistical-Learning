{
 "cells": [
  {
   "cell_type": "markdown",
   "id": "0c2645f2-8a22-4c36-b3d1-9a75a9f1d9b4",
   "metadata": {
    "id": "0c2645f2-8a22-4c36-b3d1-9a75a9f1d9b4"
   },
   "source": [
    "**Stat 542 - Statistical Learning**\n",
    "\n",
    "**Fall 2022**\n",
    "\n",
    "**Coding Assignment #2**\n",
    "\n",
    "**Author: Paolo Furlanetto Ferrari**\n",
    "\n",
    "**Date: September 26, 2022**"
   ]
  },
  {
   "cell_type": "markdown",
   "id": "170f2f6c-4551-4876-9e08-207e0d029374",
   "metadata": {
    "id": "170f2f6c-4551-4876-9e08-207e0d029374"
   },
   "source": [
    "## Part I"
   ]
  },
  {
   "cell_type": "code",
   "execution_count": 41,
   "id": "58d0e527-f787-4051-838f-47b2c1c5577c",
   "metadata": {
    "id": "58d0e527-f787-4051-838f-47b2c1c5577c"
   },
   "outputs": [],
   "source": [
    "import numpy as np\n",
    "import pandas as pd\n",
    "import matplotlib.pyplot as plt\n",
    "np.random.seed(3213)"
   ]
  },
  {
   "cell_type": "markdown",
   "id": "262470e5-bb07-43e4-a3fb-ec3eabcf6dc9",
   "metadata": {
    "id": "262470e5-bb07-43e4-a3fb-ec3eabcf6dc9"
   },
   "source": [
    "**Load Data**"
   ]
  },
  {
   "cell_type": "code",
   "execution_count": 42,
   "id": "6bb1bfbb-e1c3-4901-919b-5a8e1d4c45c7",
   "metadata": {
    "id": "6bb1bfbb-e1c3-4901-919b-5a8e1d4c45c7"
   },
   "outputs": [],
   "source": [
    "myData = pd.read_csv(\"Coding2_Data.csv\")\n",
    "var_names = myData.columns\n",
    "y = myData[['Y']].to_numpy()\n",
    "X = myData.drop(['Y'], axis = 1).to_numpy()"
   ]
  },
  {
   "cell_type": "code",
   "execution_count": 43,
   "id": "cdf468c5-36d1-4712-88c5-5463dc170e20",
   "metadata": {
    "colab": {
     "base_uri": "https://localhost:8080/"
    },
    "id": "cdf468c5-36d1-4712-88c5-5463dc170e20",
    "outputId": "339545ef-e598-4131-8214-49b6d1266964"
   },
   "outputs": [
    {
     "data": {
      "text/plain": [
       "((506, 13), 506)"
      ]
     },
     "execution_count": 43,
     "metadata": {},
     "output_type": "execute_result"
    }
   ],
   "source": [
    "X.shape, len(y)\n"
   ]
  },
  {
   "cell_type": "markdown",
   "id": "eb099c7c-cf0b-426a-bd6d-348096ea1e47",
   "metadata": {
    "id": "eb099c7c-cf0b-426a-bd6d-348096ea1e47"
   },
   "source": [
    "**CD for Lasso**"
   ]
  },
  {
   "cell_type": "code",
   "execution_count": 44,
   "id": "0ed5efad-61ff-458d-b24c-6587019db8f7",
   "metadata": {
    "id": "0ed5efad-61ff-458d-b24c-6587019db8f7"
   },
   "outputs": [],
   "source": [
    "def one_var_lasso(r, x, lam):\n",
    "    a = (np.dot(np.transpose(r),x)/(np.dot(np.transpose(x),x)))\n",
    "    lambd = 2*x.shape[0]*lam/(np.dot(np.transpose(x),x))   \n",
    "    if a > lambd/2:\n",
    "        return a - lambd/2\n",
    "    elif a < -lambd/2:\n",
    "        return a + lambd/2\n",
    "    else:\n",
    "        return 0\n",
    "    \n",
    "    "
   ]
  },
  {
   "cell_type": "code",
   "execution_count": 45,
   "id": "87777efe-9a9d-44fa-98a9-e2a0e5e0651c",
   "metadata": {
    "id": "87777efe-9a9d-44fa-98a9-e2a0e5e0651c"
   },
   "outputs": [],
   "source": [
    "def MyLasso(X, y, lam_seq, maxit = 100):\n",
    "    \n",
    "    # Input\n",
    "    # X: n-by-p design matrix without the intercept \n",
    "    # y: n-by-1 response vector \n",
    "    # lam.seq: sequence of lambda values (arranged from large to small)\n",
    "    # maxit: number of updates for each lambda \n",
    "    \n",
    "    # Output\n",
    "    # B: a (p+1)-by-len(lam.seq) coefficient matrix \n",
    "    #    with the first row being the intercept sequence \n",
    "\n",
    "  \n",
    "    n, p = X.shape\n",
    "    nlam = len(lam_seq)\n",
    "    B = np.zeros((p+1, nlam))\n",
    "    \n",
    "    ##############################\n",
    "    # YOUR CODE: \n",
    "    # (1) newX = Standardizad X; \n",
    "    newX = (X-np.mean(X,axis=0))/np.std(X, axis = 0)\n",
    "    \n",
    "    # (2) Record the centers and scales used in (1) \n",
    "    centers = np.mean(X,axis=0)\n",
    "    scales = np.std(X, axis=0)\n",
    "    ##############################\n",
    "\n",
    "    # Initilize coef vector b and residual vector r\n",
    "    b = np.zeros(p)\n",
    "    r = y\n",
    "\n",
    "    \n",
    "    # Triple nested loop\n",
    "    for m in range(nlam):\n",
    "        for step in range(maxit):\n",
    "            for j in range(p):\n",
    "                X_j = newX[:, j].reshape(-1,1)\n",
    "                r = r + X_j * b[j]\n",
    "                b[j] = one_var_lasso(r, X_j, lam_seq[m])\n",
    "                r = r - X_j * b[j]\n",
    "        B[1:, m] = b \n",
    "    \n",
    "    ##############################\n",
    "    # YOUR CODE:\n",
    "    # Scale back the coefficients;\n",
    "    B[1:,] = np.transpose(np.transpose(B[1:,])/scales)\n",
    "    # Update the intercepts stored in B[, 1] (B[0,]?)\n",
    "    B[0,] = np.mean(y) - np.matmul(np.transpose(B[1:,]),centers) \n",
    "    \n",
    "    ##############################\n",
    "    \n",
    "    \n",
    "    return(B)"
   ]
  },
  {
   "cell_type": "code",
   "execution_count": 46,
   "id": "1cdca74a-9d20-43d2-868c-f416084ae087",
   "metadata": {
    "id": "1cdca74a-9d20-43d2-868c-f416084ae087"
   },
   "outputs": [],
   "source": [
    "log_lam_seq = np.linspace(-1, -8, num = 80)\n",
    "lam_seq = np.exp(log_lam_seq)\n",
    "myout = MyLasso(X, y, lam_seq, maxit = 100)"
   ]
  },
  {
   "cell_type": "code",
   "execution_count": 47,
   "id": "153d0f33-58ae-41c1-810f-ec76f5de789b",
   "metadata": {
    "colab": {
     "base_uri": "https://localhost:8080/",
     "height": 530
    },
    "id": "153d0f33-58ae-41c1-810f-ec76f5de789b",
    "outputId": "64102a7f-a28c-4082-fbe6-f997dca3b8fa"
   },
   "outputs": [
    {
     "data": {
      "text/plain": [
       "(-8.35, -0.6499999999999999, -0.30999458351285203, 0.49974219884805027)"
      ]
     },
     "execution_count": 47,
     "metadata": {},
     "output_type": "execute_result"
    },
    {
     "data": {
      "image/png": "[encoded data removed]",
      "text/plain": [
       "<Figure size 864x576 with 1 Axes>"
      ]
     },
     "metadata": {
      "needs_background": "light"
     },
     "output_type": "display_data"
    }
   ],
   "source": [
    "p, _ = myout.shape\n",
    "plt.figure(figsize = (12,8))\n",
    "\n",
    "for i in range(p-1):\n",
    "    plt.plot(log_lam_seq, myout[i+1, :], label = var_names[i])\n",
    "\n",
    "plt.xlabel('Log Lambda')\n",
    "plt.ylabel('Coefficients')\n",
    "plt.title('Lasso Paths - Numpy implementation')\n",
    "plt.legend()\n",
    "plt.axis('tight')"
   ]
  },
  {
   "cell_type": "markdown",
   "id": "5bee5c6a-2869-4b58-9b86-990735ab9b88",
   "metadata": {
    "id": "5bee5c6a-2869-4b58-9b86-990735ab9b88"
   },
   "source": [
    "**Check the Accuracy**\n"
   ]
  },
  {
   "cell_type": "code",
   "execution_count": 48,
   "id": "0563ebe9-ff61-4582-a1a7-4a62282619c9",
   "metadata": {
    "colab": {
     "base_uri": "https://localhost:8080/"
    },
    "id": "0563ebe9-ff61-4582-a1a7-4a62282619c9",
    "outputId": "38ad4c05-4eda-4d38-a9d6-9b91e3bc8dde"
   },
   "outputs": [
    {
     "data": {
      "text/plain": [
       "(14, 80)"
      ]
     },
     "execution_count": 48,
     "metadata": {},
     "output_type": "execute_result"
    }
   ],
   "source": [
    "lasso_coef = pd.read_csv(\"Coding2_lasso_coefs.csv\").to_numpy()\n",
    "lasso_coef.shape"
   ]
  },
  {
   "cell_type": "code",
   "execution_count": 49,
   "id": "c235e87e-c089-4f7e-bda6-63fa7bb05c5e",
   "metadata": {
    "colab": {
     "base_uri": "https://localhost:8080/"
    },
    "id": "c235e87e-c089-4f7e-bda6-63fa7bb05c5e",
    "outputId": "58c2900c-90b4-4e48-8e9a-54f8e88ceca1"
   },
   "outputs": [
    {
     "data": {
      "text/plain": [
       "0.004645317415915784"
      ]
     },
     "execution_count": 49,
     "metadata": {},
     "output_type": "execute_result"
    }
   ],
   "source": [
    "abs(myout - lasso_coef).max()\n"
   ]
  },
  {
   "cell_type": "markdown",
   "id": "CM8VFuXRchmO",
   "metadata": {
    "id": "CM8VFuXRchmO"
   },
   "source": [
    "**Comment: The error is below 0.005!**"
   ]
  },
  {
   "cell_type": "markdown",
   "id": "e359f44b-e813-474c-97a2-07ddd40a467f",
   "metadata": {
    "id": "e359f44b-e813-474c-97a2-07ddd40a467f"
   },
   "source": [
    "## Part II"
   ]
  },
  {
   "cell_type": "markdown",
   "id": "2f250679-2b50-42b6-9d4e-4d2bfde5d4e0",
   "metadata": {},
   "source": [
    "## Case I"
   ]
  },
  {
   "cell_type": "code",
   "execution_count": 50,
   "id": "bf630d40-2cf2-4050-88d9-cb17392e5c18",
   "metadata": {
    "colab": {
     "base_uri": "https://localhost:8080/"
    },
    "id": "bf630d40-2cf2-4050-88d9-cb17392e5c18",
    "outputId": "a27d6fdd-803c-4dbd-edbe-74011e7873f8"
   },
   "outputs": [
    {
     "name": "stdout",
     "output_type": "stream",
     "text": [
      "Looking in indexes: https://pypi.org/simple, https://us-python.pkg.dev/colab-wheels/public/simple/\n",
      "Collecting https://github.com/bbalasub1/glmnet_python/archive/refs/tags/1.0.tar.gz\n",
      "  Using cached https://github.com/bbalasub1/glmnet_python/archive/refs/tags/1.0.tar.gz\n",
      "Requirement already satisfied: joblib>=0.10.3 in /usr/local/lib/python3.7/dist-packages (from glmnet-python==0.2.0) (1.1.0)\n"
     ]
    }
   ],
   "source": [
    "!pip install https://github.com/bbalasub1/glmnet_python/archive/refs/tags/1.0.tar.gz"
   ]
  },
  {
   "cell_type": "code",
   "execution_count": 51,
   "id": "b82749e8-cca2-4b66-8954-02f88fb6f743",
   "metadata": {
    "id": "b82749e8-cca2-4b66-8954-02f88fb6f743"
   },
   "outputs": [],
   "source": [
    "import pandas as pd\n",
    "import numpy as np\n",
    "import matplotlib.pyplot as plt\n",
    "from sklearn.linear_model import LinearRegression\n",
    "from sklearn.decomposition import PCA\n",
    "from sklearn.preprocessing import StandardScaler\n",
    "from sklearn.pipeline import Pipeline\n",
    "import glmnet_python\n",
    "from glmnet import glmnet\n",
    "from cvglmnet import cvglmnet\n",
    "from cvglmnetPredict import cvglmnetPredict\n",
    "from cvglmnetPlot import cvglmnetPlot\n",
    "from cvglmnetCoef import cvglmnetCoef"
   ]
  },
  {
   "cell_type": "markdown",
   "id": "b231ef70-6bc5-458e-9c9d-ccfe93989c82",
   "metadata": {
    "id": "b231ef70-6bc5-458e-9c9d-ccfe93989c82"
   },
   "source": [
    "**Load Data**"
   ]
  },
  {
   "cell_type": "code",
   "execution_count": 52,
   "id": "680dc221-b33e-4533-9c29-5234f95a6317",
   "metadata": {
    "id": "680dc221-b33e-4533-9c29-5234f95a6317"
   },
   "outputs": [],
   "source": [
    "url = \"https://raw.githubusercontent.com/liangfgithub/liangfgithub.github.io/master/F22/Coding2_Data2.csv\"\n",
    "myData = pd.read_csv(url)\n",
    "var_names = myData.columns\n",
    "Y = myData[['Y']].to_numpy()\n",
    "X = myData.drop(['Y'], axis = 1).to_numpy()"
   ]
  },
  {
   "cell_type": "markdown",
   "id": "4c6ff30d-1413-4ca0-a025-e43ae95ef083",
   "metadata": {
    "id": "4c6ff30d-1413-4ca0-a025-e43ae95ef083"
   },
   "source": [
    "\n",
    "**Splitting Test and Train Data**"
   ]
  },
  {
   "cell_type": "code",
   "execution_count": 53,
   "id": "9ce2cab6-85b9-4b08-b2f0-1e4cb3e633ab",
   "metadata": {
    "id": "9ce2cab6-85b9-4b08-b2f0-1e4cb3e633ab"
   },
   "outputs": [],
   "source": [
    "n = len(Y)\n",
    "indices = np.arange(0, n)\n",
    "np.random.shuffle(indices)\n",
    "test_ind = indices[:int(np.floor(0.25*n))]\n",
    "train_ind = indices[len(test_ind):]\n"
   ]
  },
  {
   "cell_type": "markdown",
   "id": "12da4c8c-639c-4518-abcd-0ef545ae637b",
   "metadata": {
    "id": "12da4c8c-639c-4518-abcd-0ef545ae637b"
   },
   "source": [
    "**Model 1: All predictors included**"
   ]
  },
  {
   "cell_type": "code",
   "execution_count": 54,
   "id": "c177fe72-2bcf-4f15-aa97-429d8178d16d",
   "metadata": {
    "id": "c177fe72-2bcf-4f15-aa97-429d8178d16d"
   },
   "outputs": [],
   "source": [
    "def full_model():\n",
    "\n",
    "  full = LinearRegression().fit(X[train_ind, :], Y[train_ind])\n",
    "  return np.mean((full.predict(X[test_ind, :]) - Y[test_ind])**2)"
   ]
  },
  {
   "cell_type": "markdown",
   "id": "227f34a2-cda1-4d06-a81a-9181bf91e200",
   "metadata": {
    "id": "227f34a2-cda1-4d06-a81a-9181bf91e200"
   },
   "source": [
    "**Models 2 and 3: Ridge Regression**"
   ]
  },
  {
   "cell_type": "code",
   "execution_count": 55,
   "id": "34164004-e7d0-400e-8123-70c5e5e12068",
   "metadata": {
    "id": "34164004-e7d0-400e-8123-70c5e5e12068"
   },
   "outputs": [],
   "source": [
    "def ridge():\n",
    "  ridge_seq = np.exp(np.linspace(-2, -10, num=100))\n",
    "  ridge_out = cvglmnet(x = X.copy(), y = Y.copy(), alpha = 0, lambdau = ridge_seq)\n",
    "  ridge = cvglmnet(x = X[train_ind, :].copy(), y = Y[train_ind].copy(), alpha = 0, lambdau = ridge_seq)\n",
    "  pred = cvglmnetPredict(ridge, s = ridge['lambda_min'], newx=X[test_ind, :].copy())\n",
    "  err1 = np.mean((Y[test_ind] - pred)**2)\n",
    "  pred = cvglmnetPredict(ridge, s = ridge['lambda_1se'], newx=X[test_ind, :].copy())\n",
    "  err2 = np.mean((Y[test_ind] - pred)**2)\n",
    "  return err1, err2"
   ]
  },
  {
   "cell_type": "markdown",
   "id": "gRhkJaTisgFs",
   "metadata": {
    "id": "gRhkJaTisgFs"
   },
   "source": [
    "**Models 4 and 5: Lasso**"
   ]
  },
  {
   "cell_type": "code",
   "execution_count": 56,
   "id": "Fr1feNYesj5Q",
   "metadata": {
    "id": "Fr1feNYesj5Q"
   },
   "outputs": [],
   "source": [
    "def lasso_f():\n",
    "  lasso_out = cvglmnet(x = X.copy(), y = Y.copy(), alpha = 1)\n",
    "  lasso = cvglmnet(x = X[train_ind, :].copy(), y = Y[train_ind].copy(), alpha = 1)\n",
    "  pred = cvglmnetPredict(lasso, s = lasso['lambda_min'], newx=X[test_ind, :].copy())\n",
    "  err1 = np.mean((Y[test_ind] - pred)**2)\n",
    "  pred = cvglmnetPredict(lasso, s = lasso['lambda_1se'], newx=X[test_ind, :].copy())\n",
    "  err2 = np.mean((Y[test_ind] - pred)**2)\n",
    "  return err1, err2"
   ]
  },
  {
   "cell_type": "markdown",
   "id": "7kpJwn0ps7SK",
   "metadata": {
    "id": "7kpJwn0ps7SK"
   },
   "source": [
    "**Model 6: Refit**\n",
    "\n"
   ]
  },
  {
   "cell_type": "code",
   "execution_count": 57,
   "id": "WgS4txx7s6Cr",
   "metadata": {
    "id": "WgS4txx7s6Cr"
   },
   "outputs": [],
   "source": [
    "def refit():\n",
    "  lasso = cvglmnet(x = X[train_ind, :].copy(), y = Y[train_ind].copy(), alpha = 1)\n",
    "  lasso_coef = cvglmnetCoef(lasso, s = 'lambda_1se')\n",
    "  var_sel = np.nonzero(lasso_coef[1:])[0]\n",
    "  tmp_train = X[train_ind[:,None], var_sel[None, :]]\n",
    "  tmp_test = X[test_ind[:,None], var_sel[None, :]]\n",
    "  refit_model = LinearRegression().fit(tmp_train, Y[train_ind])\n",
    "  pred = refit_model.predict(tmp_test)\n",
    "  return np.mean((pred - Y[test_ind])**2)"
   ]
  },
  {
   "cell_type": "markdown",
   "id": "hdsaxUTst5WW",
   "metadata": {
    "id": "hdsaxUTst5WW"
   },
   "source": [
    "**Model 7: PCR**\n"
   ]
  },
  {
   "cell_type": "code",
   "execution_count": 58,
   "id": "hVClXMHY0DNh",
   "metadata": {
    "id": "hVClXMHY0DNh"
   },
   "outputs": [],
   "source": [
    "class PCR(object):\n",
    "\n",
    "    def __init__(self, num_folds=10):\n",
    "        self.folds = num_folds\n",
    "\n",
    "    def fit(self, X, Y):\n",
    "        n, p = X.shape\n",
    "        indices = np.arange(n)\n",
    "        np.random.shuffle(indices)\n",
    "        index_sets = np.array_split(indices, self.folds)\n",
    "        ncomp = min(p, n - 1 - max([len(i) for i in index_sets]))\n",
    "        cv_err = np.zeros(ncomp)\n",
    "        \n",
    "        for ifold in range(self.folds):\n",
    "            train_inds =  np.delete(index_sets, obj=ifold, axis=0).ravel()\n",
    "            test_inds = index_sets[ifold]\n",
    "            \n",
    "            X_train = X[train_inds, :]\n",
    "            pipeline = Pipeline([('scaling', StandardScaler()), ('pca', PCA())])\n",
    "            pipeline.fit(X_train)\n",
    "            X_train = pipeline.transform(X_train)\n",
    "            coefs = Y[train_inds].T @ X_train / np.sum(X_train**2, axis=0)\n",
    "            b0 = np.mean(Y[train_inds])\n",
    "\n",
    "            X_test = pipeline.transform(X[test_inds, :])\n",
    "            \n",
    "            for k in np.arange(ncomp):\n",
    "                preds = X_test[:, :k] @ coefs.T[:k] + b0\n",
    "                cv_err[k] += cv_err[k] + np.sum((Y[test_inds]-preds)**2)\n",
    "\n",
    "        min_ind = np.argmin(cv_err)\n",
    "        self.ncomp = min_ind+1\n",
    "        pipeline = Pipeline([('scaling', StandardScaler()), ('pca', PCA(n_components=self.ncomp))])\n",
    "        self.transform = pipeline.fit(X)\n",
    "        self.model = LinearRegression().fit(self.transform.transform(X), Y)\n",
    "\n",
    "    def predict(self, X):\n",
    "        X_ = self.transform.transform(X)\n",
    "        return self.model.predict(X_)\n"
   ]
  },
  {
   "cell_type": "code",
   "execution_count": 59,
   "id": "72ghHONf0NLF",
   "metadata": {
    "id": "72ghHONf0NLF"
   },
   "outputs": [],
   "source": [
    "def PCR_f():\n",
    "  pcr = PCR()\n",
    "  pcr.fit(X[train_ind, :], Y[train_ind])\n",
    "  preds = pcr.predict(X[test_ind, :])\n",
    "  return np.mean((Y[test_ind] - preds)**2)"
   ]
  },
  {
   "cell_type": "markdown",
   "id": "hrfRCAdDxIWZ",
   "metadata": {
    "id": "hrfRCAdDxIWZ"
   },
   "source": [
    "**Running simulation 50 times**"
   ]
  },
  {
   "cell_type": "code",
   "execution_count": 60,
   "id": "IPpDeMBuxODU",
   "metadata": {
    "id": "IPpDeMBuxODU"
   },
   "outputs": [],
   "source": [
    "N_Y = len(Y)\n",
    "indices = np.arange(0, N_Y)\n",
    "efull, eridge_min, eridge_se, elasso_min, elasso_se, erefit, epcr = np.zeros((7,50))\n",
    "\n",
    "for i in range(50):\n",
    "  np.random.shuffle(indices)\n",
    "  test_ind = indices[:int(np.floor(0.25*N_Y))]\n",
    "  train_ind = indices[len(test_ind):]\n",
    "  efull[i] = full_model()\n",
    "  eridge_min[i], eridge_se[i] = ridge()\n",
    "  elasso_min[i], elasso_se[i] = lasso_f()\n",
    "  erefit[i] = refit()\n",
    "  epcr[i] = PCR_f()\n"
   ]
  },
  {
   "cell_type": "markdown",
   "id": "rdOHw6eN3Elx",
   "metadata": {
    "id": "rdOHw6eN3Elx"
   },
   "source": [
    "**Questions**"
   ]
  },
  {
   "cell_type": "markdown",
   "id": "sJMeaFD23P32",
   "metadata": {
    "id": "sJMeaFD23P32"
   },
   "source": [
    "b) Summarize your results on MSPE graphically, e.g., using boxplot or stripchart."
   ]
  },
  {
   "cell_type": "code",
   "execution_count": 61,
   "id": "ycwOM5m33Ovd",
   "metadata": {
    "colab": {
     "base_uri": "https://localhost:8080/",
     "height": 281
    },
    "id": "ycwOM5m33Ovd",
    "outputId": "6bf8253d-0558-4538-bd83-1967d36e62e7"
   },
   "outputs": [
    {
     "data": {
      "image/png": "[encoded data removed]",
      "text/plain": [
       "<Figure size 432x288 with 1 Axes>"
      ]
     },
     "metadata": {
      "needs_background": "light"
     },
     "output_type": "display_data"
    }
   ],
   "source": [
    "means = [np.mean(y) for y in [efull, eridge_min, eridge_se, elasso_min, elasso_se, erefit, epcr]]\n",
    "stds = [np.std(y) for y in [efull, eridge_min, eridge_se, elasso_min, elasso_se, erefit, epcr]]\n",
    "ind = [1, 2, 3, 4, 5, 6,7]\n",
    "    \n",
    "\n",
    "p2 = plt.bar(ind, means, width = 0.5, yerr=stds)\n",
    "plt.ylabel('Error rate')\n",
    "plt.title('Comparison between models')\n",
    "plt.xticks(ind, ('Full', 'Ridge min', 'Ridge se', 'Lasso min', 'Lasso se', 'Refit', 'PCR'))\n",
    "plt.show()"
   ]
  },
  {
   "cell_type": "markdown",
   "id": "lJ4kTHcO4qXM",
   "metadata": {
    "id": "lJ4kTHcO4qXM"
   },
   "source": [
    "c) Based on your simulation results, answer the following questions:\n",
    "\n",
    "i. Which method or methods perform the best?\n",
    "\n",
    "ii. Which method or methods perform the worst?\n",
    "\n",
    "iii. For Ridge regression, which, lambda.min or lambda.1se, produces better MSPE?\n",
    "\n",
    "iv. For Lasso regression, which, lambda.min or lambda.1se, produces better MSPE?\n",
    "\n",
    "v. Is it worth doing refit? That is, does L.Refit perform better than Lasso.1se?\n",
    "\n",
    "vi. Is it worth doing variable selection or shrinkage in this case? That is, do you think the performance of Full is comparable or not to the best among the other six?"
   ]
  },
  {
   "cell_type": "markdown",
   "id": "dEO21qrhIr-q",
   "metadata": {
    "id": "dEO21qrhIr-q"
   },
   "source": [
    "**Answers**"
   ]
  },
  {
   "cell_type": "markdown",
   "id": "kF-h0OSR5C9i",
   "metadata": {
    "id": "kF-h0OSR5C9i"
   },
   "source": [
    "i. Based on average error rate, the best methods are Ridge min and Lasso min\n",
    "\n",
    "ii. The Full, PCR and Refitting methods\n",
    "\n",
    "iii. lambda.min\n",
    "\n",
    "iv. lambda.min\n",
    "\n",
    "v. It is not advantedgeous in the sense that the error bigger in the Refitted model. \n",
    "\n",
    "vi. Both Lasso and Ridge methods outperform the Full model, so it is definitely worth doing shrinkage."
   ]
  },
  {
   "cell_type": "markdown",
   "id": "l0KqYVFo5z13",
   "metadata": {
    "id": "l0KqYVFo5z13"
   },
   "source": [
    "## Case II"
   ]
  },
  {
   "cell_type": "markdown",
   "id": "fR_SgsSx6BcA",
   "metadata": {
    "id": "fR_SgsSx6BcA"
   },
   "source": [
    "**Load data**"
   ]
  },
  {
   "cell_type": "code",
   "execution_count": 62,
   "id": "ehl3Iqp66C7g",
   "metadata": {
    "id": "ehl3Iqp66C7g"
   },
   "outputs": [],
   "source": [
    "url = \"https://raw.githubusercontent.com/liangfgithub/liangfgithub.github.io/master/F22/Coding2_Data3.csv\"\n",
    "myData = pd.read_csv(url)\n",
    "var_names = myData.columns\n",
    "Y = myData[['Y']].to_numpy()\n",
    "X = myData.drop(['Y'], axis = 1).to_numpy()"
   ]
  },
  {
   "cell_type": "code",
   "execution_count": 63,
   "id": "w6RqijnB6FP0",
   "metadata": {
    "id": "w6RqijnB6FP0"
   },
   "outputs": [],
   "source": [
    "N_Y = len(Y)\n",
    "indices = np.arange(0, N_Y)\n",
    "eridge_min, eridge_se, elasso_min, elasso_se, erefit, epcr = np.zeros((6,50))\n",
    "\n",
    "for i in range(50):\n",
    "  np.random.shuffle(indices)\n",
    "  test_ind = indices[:int(np.floor(0.25*N_Y))]\n",
    "  train_ind = indices[len(test_ind):]\n",
    "  eridge_min[i], eridge_se[i] = ridge()\n",
    "  elasso_min[i], elasso_se[i] = lasso_f()\n",
    "  erefit[i] = refit()\n",
    "  epcr[i] = PCR_f()\n"
   ]
  },
  {
   "cell_type": "markdown",
   "id": "7B9JmV6c9ZAc",
   "metadata": {
    "id": "7B9JmV6c9ZAc"
   },
   "source": [
    "**Questions**"
   ]
  },
  {
   "cell_type": "markdown",
   "id": "qcNI4yOk9kGU",
   "metadata": {
    "id": "qcNI4yOk9kGU"
   },
   "source": [
    "b) Summarize your results on MSPE graphically, e.g., using boxplot or stripchart.\n"
   ]
  },
  {
   "cell_type": "code",
   "execution_count": 64,
   "id": "fD9D7gTl9hE1",
   "metadata": {
    "colab": {
     "base_uri": "https://localhost:8080/",
     "height": 281
    },
    "id": "fD9D7gTl9hE1",
    "outputId": "2987410b-47e5-4606-b86b-ee92846b0687"
   },
   "outputs": [
    {
     "data": {
      "image/png": "[encoded data removed]",
      "text/plain": [
       "<Figure size 432x288 with 1 Axes>"
      ]
     },
     "metadata": {
      "needs_background": "light"
     },
     "output_type": "display_data"
    }
   ],
   "source": [
    "means = [np.mean(y) for y in [eridge_min, eridge_se, elasso_min, elasso_se, erefit, epcr]]\n",
    "stds = [np.std(y) for y in [eridge_min, eridge_se, elasso_min, elasso_se, erefit, epcr]]\n",
    "ind = [1, 2, 3, 4, 5, 6]\n",
    "    \n",
    "\n",
    "p2 = plt.bar(ind, means, width = 0.5, yerr=stds)\n",
    "plt.ylabel('Error rate')\n",
    "plt.title('Comparison between models')\n",
    "plt.xticks(ind, ('Ridge min', 'Ridge se', 'Lasso min', 'Lasso se', 'Refit', 'PCR'))\n",
    "plt.show()"
   ]
  },
  {
   "cell_type": "markdown",
   "id": "hHHnLYwDGLlJ",
   "metadata": {
    "id": "hHHnLYwDGLlJ"
   },
   "source": [
    "c) Based on your simulation results, answer the following questions:\n",
    "\n",
    "i. Which method or methods perform the best in this case?\n",
    "\n",
    "ii. Which method or methods perform the worst in this case?\n",
    "\n",
    "iii. Do you notice any method/methods that performs/perform better in one case but not in the other? If so, explain why.\n",
    "\n",
    "iv. Since Coding2_Data3.csv contains all features in Coding2_Data2.csv, one may expect that the best MSPE in Case II is smaller than, or at least not bigger than, the the best MSPE in Case I. Do your simulation results support this expectation? If not, explain why."
   ]
  },
  {
   "cell_type": "markdown",
   "id": "j_7gkTJZIWOn",
   "metadata": {
    "id": "j_7gkTJZIWOn"
   },
   "source": [
    "**Answers**"
   ]
  },
  {
   "cell_type": "markdown",
   "id": "-ej6SvLQGyQ3",
   "metadata": {
    "id": "-ej6SvLQGyQ3"
   },
   "source": [
    "i. Minimum Lasso and Refit are the best methods, with mean errors around 4.5%\n",
    "\n",
    "ii. PCR and both Ridge methods are the worst, with mean errors close to 6%\n",
    "\n",
    "iii. Ridge methods (specially Ridge min) seem to particularly perform worse in Case II vs Case I. This is a consequence of the fact that Ridge methods do not discard any feature, thus it fits all the noisy varibles as features of the model. Even though the coefficients of the noise are optimized for the traning set, they lead to increased errors in the test set.\n",
    "\n",
    "iv. Overall the error rates are larger for the data set in Case II. In fact, the minimum error (for minimum Lasso, around 4.5%) is larger than all the error from all models in Case I. This is likely a result of the models capturing the wrong features (the noise) as predictors in the training set, which of course lead to performing bad in the test set."
   ]
  },
  {
   "cell_type": "code",
   "execution_count": null,
   "id": "q8rtLggUG36I",
   "metadata": {
    "id": "q8rtLggUG36I"
   },
   "outputs": [],
   "source": []
  }
 ],
 "metadata": {
  "colab": {
   "collapsed_sections": [],
   "provenance": []
  },
  "kernelspec": {
   "display_name": "Python 3 (ipykernel)",
   "language": "python",
   "name": "python3"
  },
  "language_info": {
   "codemirror_mode": {
    "name": "ipython",
    "version": 3
   },
   "file_extension": ".py",
   "mimetype": "text/x-python",
   "name": "python",
   "nbconvert_exporter": "python",
   "pygments_lexer": "ipython3",
   "version": "3.9.7"
  }
 },
 "nbformat": 4,
 "nbformat_minor": 5
}
