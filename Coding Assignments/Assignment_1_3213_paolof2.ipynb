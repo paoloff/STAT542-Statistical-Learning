{
 "cells": [
  {
   "cell_type": "markdown",
   "id": "95e61961-7896-403d-9454-f6b76921456d",
   "metadata": {},
   "source": [
    "**Stat 542 - Statistical Learning**\n",
    "\n",
    "**Fall 2022**\n",
    "\n",
    "**Coding Assignment #1**\n",
    "\n",
    "**Author: Paolo Furlanetto Ferrari**\n",
    "\n",
    "**Date: September 12, 2022**"
   ]
  },
  {
   "cell_type": "code",
   "execution_count": null,
   "id": "cc34b19d-a578-4cea-bc62-77283a47d4e2",
   "metadata": {},
   "outputs": [],
   "source": []
  },
  {
   "cell_type": "code",
   "execution_count": 264,
   "id": "5b96dca3-88a9-4395-8dd8-e33d7350a267",
   "metadata": {},
   "outputs": [],
   "source": [
    "import numpy as np\n",
    "from collections import Counter \n",
    "from sklearn.neighbors import KNeighborsClassifier as sk_knn\n",
    "import pandas as pd\n",
    "import matplotlib \n",
    "import matplotlib.pyplot as plt\n"
   ]
  },
  {
   "cell_type": "markdown",
   "id": "fec6a909-cfca-4705-9068-de5ef8b91bd9",
   "metadata": {},
   "source": [
    "## Generate data"
   ]
  },
  {
   "cell_type": "code",
   "execution_count": 265,
   "id": "2ee3e40e-0a70-4ec6-8ac0-6aa0a849d508",
   "metadata": {},
   "outputs": [],
   "source": [
    "np.random.seed(3213)\n",
    "sim_params = {\n",
    " 'csize': 10,      # number of centers\n",
    " 'p': 2,           # dimension\n",
    " 's': np.sqrt(1/5),   # standard deviation for generating data\n",
    " 'n': 100,         # training size per class\n",
    " 'N': 5000,        # test size per class\n",
    "}\n",
    "\n",
    "# Generate center positions and add to sim_params\n",
    "sigma = 1\n",
    "csize = 10\n",
    "p = 2\n",
    "m1 = np.random.normal(size=(csize,p))*sigma + np.concatenate([np.array([[1,0]]*csize)])\n",
    "m0 = np.random.normal(size=(csize,p))*sigma + np.concatenate([np.array([[0,1]]*csize)])\n",
    "sim_params['m0'] = m0\n",
    "sim_params['m1'] = m1\n",
    "\n",
    "\n",
    "def generate_data(sim_params):\n",
    "    csize, p, s, n, N, m0, m1 = sim_params.values()\n",
    "    \n",
    "    # Define vector with center indices sampled randomly\n",
    "    id1 = np.random.randint(csize,size=n)\n",
    "    id0 = np.random.randint(csize,size=n)\n",
    "\n",
    "    \n",
    "    # Generate X and Y training data\n",
    "    X_train = np.random.normal(size = (2 * n, p)) * s \\\n",
    "                + np.concatenate([m1[id1,:], m0[id0,:]])\n",
    "    Y_train = np.concatenate(([1]*n, [0]*n))\n",
    "    \n",
    "    # Define vector with center indices sampled randomly\n",
    "    id1 = np.random.randint(csize, size = N)\n",
    "    id0 = np.random.randint(csize, size = N)\n",
    "    \n",
    "    X_test = np.random.normal(size = (2 * N, p)) * s \\\n",
    "                + np.concatenate([m1[id1,:], m0[id0,:]])\n",
    "    Y_test = np.concatenate(([1]*N, [0]*N))\n",
    "    \n",
    "    return X_train, Y_train, X_test, Y_test\n",
    "\n",
    "\n",
    "X_train, Y_train, X_test, Y_test = generate_data(sim_params)\n"
   ]
  },
  {
   "cell_type": "markdown",
   "id": "45c68fc9-4d97-4e93-b139-80591e86a08e",
   "metadata": {},
   "source": [
    "# Part I"
   ]
  },
  {
   "cell_type": "markdown",
   "id": "6ecd1f09-5eab-45e9-8e4b-77cc03548d8b",
   "metadata": {},
   "source": [
    "## 1. Write your own KNN function without using any packages (use Euclidean Distance)"
   ]
  },
  {
   "cell_type": "markdown",
   "id": "3f14ceb8-d9b5-49b1-a864-9e4de542ca79",
   "metadata": {},
   "source": [
    "First, I will define a function **point_knn** that predicts the class (or color) of a point based on majority voting of its k-closest neighbors. \n",
    "\n",
    "Second, I will defined another function **knn** that iteratively calls **point_knn** to compute a vector Y_pred predicting the class of each point in input vector X_pred."
   ]
  },
  {
   "cell_type": "code",
   "execution_count": 266,
   "id": "dd95efd5-4aa9-4660-9b99-b2b87c370398",
   "metadata": {},
   "outputs": [],
   "source": [
    "def point_knn(X_train, Y_train, point, k):\n",
    "    \n",
    "    # Compute distances between the given point and all the points in the training set:\n",
    "    distances_squared = [] \n",
    "    for i in range(len(X_train)):\n",
    "        distances_squared.append((X_train[i][0]-point[0])**2+(X_train[i][1]-point[1])**2)\n",
    "    \n",
    "    # Sort the distances in ascending order:\n",
    "    args = np.argsort(distances_squared)\n",
    "    int_args = [int(a) for a in args]\n",
    "    \n",
    "    # Get the colors of the k closest neighbors:\n",
    "    k_colors = [Y_train[int_args[i]] for i in range(0,k)]\n",
    "    \n",
    "    # Choose the most common color among these k neighbors:\n",
    "    color, votes = Counter(k_colors).most_common()[0]\n",
    "    \n",
    "    return color\n",
    "\n",
    "def knn(X_data = X_train, Y_data = Y_train, X_pred = X_test, k = 1):\n",
    "    \n",
    "    # Apply point_knn to all the points in X_pred and return Y_pred\n",
    "    Y_pred = []\n",
    "    for point in X_pred:\n",
    "        Y_pred.append(point_knn(X_data, Y_data, point, k))\n",
    "    return Y_pred\n"
   ]
  },
  {
   "cell_type": "markdown",
   "id": "787a626d-c6a7-450c-9502-934dd31d733e",
   "metadata": {},
   "source": [
    "## 2. Explain how you handle distance ties and voting ties\n",
    "\n",
    "1 - For distance ties: \n",
    "\n",
    "I am ordering the vector of distances and taking the first k entries. Since each distance is computed as a floating point, having two distances with exactly the same distance is very rare. However, when this happens, as long as both distances are in the first k entries of the ordered vector of distances, both points are considered for voting. If two points with equal distances are competing for last entry of the vector of distances, only the point generated first in the training data is included among the k nearest neighbors. \n",
    "\n",
    "2 - For voting ties: \n",
    "\n",
    "The method which I am using is the Counter.most_common() method. It picks the most common element in a list. If there is a tie between two classes in a list, the first class appearing half the times is considered the winner. "
   ]
  },
  {
   "cell_type": "markdown",
   "id": "954217c4-90dd-43d6-aa42-b7f0e6d6649f",
   "metadata": {},
   "source": [
    "## 3. Test the code:"
   ]
  },
  {
   "cell_type": "markdown",
   "id": "8e161d90-36be-47a4-82ef-74fcc35eb55f",
   "metadata": {},
   "source": [
    "**------------------------------------ Testing k=1 -------------------------------------------**"
   ]
  },
  {
   "cell_type": "code",
   "execution_count": 267,
   "id": "02cc335f-5f0e-4334-890c-44f87a94f475",
   "metadata": {},
   "outputs": [],
   "source": [
    "my_test = knn(X_train, Y_train, X_test, 1)\n",
    "sk_kNN = sk_knn(n_neighbors=1)\n",
    "sk_kNN.fit(X_train, Y_train)\n",
    "sk_test = sk_kNN.predict(X_test)"
   ]
  },
  {
   "cell_type": "markdown",
   "id": "e5750b4e-f21e-4cd3-80e5-0cc19313f3e1",
   "metadata": {},
   "source": [
    "**Confusion matrix**"
   ]
  },
  {
   "cell_type": "code",
   "execution_count": 268,
   "id": "9bc42ef8-fecc-4036-91f6-c69682322d5a",
   "metadata": {},
   "outputs": [
    {
     "name": "stdout",
     "output_type": "stream",
     "text": [
      "My knn:\n",
      "col_0     0     1\n",
      "row_0            \n",
      "0      4070   808\n",
      "1       930  4192\n",
      "Sci-kit learn knn:\n",
      "col_0     0     1\n",
      "row_0            \n",
      "0      4070   808\n",
      "1       930  4192\n"
     ]
    }
   ],
   "source": [
    "print('My knn:')\n",
    "print(pd.crosstab(my_test, Y_test))\n",
    "\n",
    "print('Sci-kit learn knn:')\n",
    "print(pd.crosstab(sk_test, Y_test))\n"
   ]
  },
  {
   "cell_type": "markdown",
   "id": "39702acf-ef55-4fbb-890a-3dc56c0521a5",
   "metadata": {},
   "source": [
    "**Error rates**"
   ]
  },
  {
   "cell_type": "code",
   "execution_count": 269,
   "id": "8b5ccc2b-e1db-4a2e-906e-317ba2d183f9",
   "metadata": {},
   "outputs": [
    {
     "name": "stdout",
     "output_type": "stream",
     "text": [
      "My knn:\n",
      "0.1738\n",
      "Scikit-learn knn:\n",
      "0.1738\n"
     ]
    }
   ],
   "source": [
    "print('My knn:')\n",
    "print(np.mean(my_test != Y_test))\n",
    "\n",
    "print('Scikit-learn knn:')\n",
    "print(np.mean(sk_test != Y_test))\n"
   ]
  },
  {
   "cell_type": "markdown",
   "id": "7314b010-6f28-480b-8a8d-33063a7e7046",
   "metadata": {},
   "source": [
    "**Conclusion:** Both my code and scikit-learn's built-in function have an error rate of 17.4% for knn model with 1 neighbor only."
   ]
  },
  {
   "cell_type": "markdown",
   "id": "acddab0b-2725-48a4-8362-d588cae84bbb",
   "metadata": {},
   "source": [
    "**------------------------------------ Testing k=3 -------------------------------------------**"
   ]
  },
  {
   "cell_type": "code",
   "execution_count": 270,
   "id": "7afb14a4-e7b8-4f69-b530-951cdd65415e",
   "metadata": {},
   "outputs": [],
   "source": [
    "my_test = knn(X_train, Y_train, X_test, 3)\n",
    "sk_kNN = sk_knn(n_neighbors=3)\n",
    "sk_kNN.fit(X_train, Y_train)\n",
    "sk_test = sk_kNN.predict(X_test)\n"
   ]
  },
  {
   "cell_type": "markdown",
   "id": "383f5275-2554-45f1-98e8-10e7a7a3c475",
   "metadata": {},
   "source": [
    "**Confusion matrix**"
   ]
  },
  {
   "cell_type": "code",
   "execution_count": 271,
   "id": "ef9187dc-52a8-4e91-a204-f1ae99b81b49",
   "metadata": {},
   "outputs": [
    {
     "name": "stdout",
     "output_type": "stream",
     "text": [
      "My knn:\n",
      "col_0     0     1\n",
      "row_0            \n",
      "0      4362   705\n",
      "1       638  4295\n",
      "Scikit-learn knn:\n",
      "col_0     0     1\n",
      "row_0            \n",
      "0      4362   705\n",
      "1       638  4295\n"
     ]
    }
   ],
   "source": [
    "print('My knn:')\n",
    "print(pd.crosstab(my_test, Y_test))\n",
    "\n",
    "print('Scikit-learn knn:')\n",
    "print(pd.crosstab(sk_test, Y_test))\n"
   ]
  },
  {
   "cell_type": "markdown",
   "id": "863d2e15-dd08-4e8f-9ebe-4cdf409a53c7",
   "metadata": {},
   "source": [
    "**Error rates**"
   ]
  },
  {
   "cell_type": "code",
   "execution_count": 272,
   "id": "3f0fef58-6bd3-4720-b1fa-300b9211e540",
   "metadata": {},
   "outputs": [
    {
     "name": "stdout",
     "output_type": "stream",
     "text": [
      "My knn:\n",
      "0.1343\n",
      "Scikit-learn knn:\n",
      "0.1343\n"
     ]
    }
   ],
   "source": [
    "print('My knn:')\n",
    "print(np.mean(my_test != Y_test))\n",
    "\n",
    "print('Scikit-learn knn:')\n",
    "print(np.mean(sk_test != Y_test))\n"
   ]
  },
  {
   "cell_type": "markdown",
   "id": "43d2f797-6594-4019-ace3-46f03474ee42",
   "metadata": {},
   "source": [
    "**Conclusion:** Again, both methods agree. This time, the error rate is 13.4% for knn model with 3 neighbors,  smaller than 17.4% for 1 neighbor only."
   ]
  },
  {
   "cell_type": "markdown",
   "id": "a6837040-d0d4-4de3-a816-8ffc9d7bf23c",
   "metadata": {},
   "source": [
    "**------------------------------------ Testing k=5 -------------------------------------------**"
   ]
  },
  {
   "cell_type": "code",
   "execution_count": 273,
   "id": "1f4f66b2-b9a2-4a89-b94d-6d8f1d3371a4",
   "metadata": {},
   "outputs": [],
   "source": [
    "my_test = knn(X_train, Y_train, X_test, 5)\n",
    "sk_kNN = sk_knn(n_neighbors=5)\n",
    "sk_kNN.fit(X_train, Y_train)\n",
    "sk_test = sk_kNN.predict(X_test)\n"
   ]
  },
  {
   "cell_type": "markdown",
   "id": "886064d8-6945-4657-b319-1bf79dbc82b4",
   "metadata": {},
   "source": [
    "**Confusion matrix**"
   ]
  },
  {
   "cell_type": "code",
   "execution_count": 274,
   "id": "e1c0e895-2f99-4c75-a60e-7e3474127d9a",
   "metadata": {},
   "outputs": [
    {
     "name": "stdout",
     "output_type": "stream",
     "text": [
      "My knn:\n",
      "col_0     0     1\n",
      "row_0            \n",
      "0      4497   744\n",
      "1       503  4256\n",
      "Scikit-learn knn:\n",
      "col_0     0     1\n",
      "row_0            \n",
      "0      4497   744\n",
      "1       503  4256\n"
     ]
    }
   ],
   "source": [
    "print('My knn:')\n",
    "print(pd.crosstab(my_test, Y_test))\n",
    "\n",
    "print('Scikit-learn knn:')\n",
    "print(pd.crosstab(sk_test, Y_test))\n"
   ]
  },
  {
   "cell_type": "markdown",
   "id": "d4d2b16e-8a6b-4415-9575-d1413f0315c7",
   "metadata": {},
   "source": [
    "**Error rates**"
   ]
  },
  {
   "cell_type": "code",
   "execution_count": 275,
   "id": "2bac5af6-19b8-44c6-b4f0-37057ee31a68",
   "metadata": {},
   "outputs": [
    {
     "name": "stdout",
     "output_type": "stream",
     "text": [
      "My knn:\n",
      "0.1247\n",
      "Scikit-learn knn:\n",
      "0.1247\n"
     ]
    }
   ],
   "source": [
    "print('My knn:')\n",
    "print(np.mean(my_test != Y_test))\n",
    "\n",
    "print('Scikit-learn knn:')\n",
    "print(np.mean(sk_test != Y_test))\n"
   ]
  },
  {
   "cell_type": "markdown",
   "id": "3adb0939-078b-48a9-8775-5ab9f9a61e2d",
   "metadata": {},
   "source": [
    "**Conclusion:** Again, both methods agree. The error rate is 12.5% for knn model with 5 neighbors, smaller than the two previous cases. This makes sense since using more neighbors better samples the underlying distributions and reduces the influence of votes from out-liers. "
   ]
  },
  {
   "cell_type": "markdown",
   "id": "f3182b01-aa3f-4ae3-81b9-0d835f3f279c",
   "metadata": {},
   "source": [
    "# Part II: Cross-validation"
   ]
  },
  {
   "cell_type": "markdown",
   "id": "5e486347-3304-4306-9191-14d26d73c2ba",
   "metadata": {},
   "source": [
    "## 1. Implement KNN classification with K chosen by 10-fold cross-validation"
   ]
  },
  {
   "cell_type": "markdown",
   "id": "e4a11696-cd79-4b3a-b109-8042c847aec8",
   "metadata": {},
   "source": [
    "**Using scikit-learn**"
   ]
  },
  {
   "cell_type": "code",
   "execution_count": 276,
   "id": "22ffaab5-9455-4e10-a657-30d01dbe7d1e",
   "metadata": {},
   "outputs": [],
   "source": [
    "def sk_error(traindata, Ytrain, num_folds, K):  \n",
    "    n = len(Ytrain)\n",
    "    fold_size = int(n / num_folds)\n",
    "    indices = np.arange(n)\n",
    "    np.random.shuffle(indices)\n",
    "    index_sets = np.array_split(indices, num_folds)\n",
    "    err = 0\n",
    "    for ifold in range(num_folds):\n",
    "        train_indices =  np.delete(index_sets, obj=ifold, axis=0).ravel()\n",
    "        _traindata = traindata[train_indices]\n",
    "        _Ytrain = Ytrain[train_indices]\n",
    "\n",
    "        test_indices = index_sets[ifold]\n",
    "        _testdata = traindata[test_indices]\n",
    "        _Ytest = Ytrain[test_indices]\n",
    "        \n",
    "        neigh = sk_knn(n_neighbors=K)\n",
    "        neigh.fit(_traindata, _Ytrain)\n",
    "        \n",
    "        predict_Y = neigh.predict(_testdata)\n",
    "        \n",
    "        err += sum(predict_Y != _Ytest)\n",
    "    \n",
    "    return err/(n)\n",
    "\n",
    "\n",
    "\n",
    "def sk_cvKNN(traindata, Ytrain, num_folds):  \n",
    "    n = len(Ytrain)\n",
    "    fold_size = int(n / num_folds)\n",
    "    k_vector = range(1, n - fold_size)\n",
    "    k_cverr = [sk_error(traindata, Ytrain, num_folds, K) for K in k_vector]\n",
    "    tmp = np.column_stack((k_vector, k_cverr))\n",
    "    best_k = tmp[tmp[:,1] == np.min(tmp[:,1])][:,0]\n",
    "    return [int(max(best_k)), k_vector, k_cverr]"
   ]
  },
  {
   "cell_type": "markdown",
   "id": "4864a194-e61c-4653-8191-8c6c0d07d6df",
   "metadata": {},
   "source": [
    "## 2. Explain how you handle the non-uniquness of the optimal K values"
   ]
  },
  {
   "cell_type": "markdown",
   "id": "9f9f72ef-5eb4-4ad3-ba9e-1e6360950eec",
   "metadata": {},
   "source": [
    "I'm choosing the maximum value of the best candidates for k."
   ]
  },
  {
   "cell_type": "code",
   "execution_count": 277,
   "id": "5a699483-1d73-439b-80e9-a50a52da7fd0",
   "metadata": {},
   "outputs": [
    {
     "data": {
      "image/png": "[encoded data removed]",
      "text/plain": [
       "<Figure size 432x288 with 1 Axes>"
      ]
     },
     "metadata": {
      "needs_background": "light"
     },
     "output_type": "display_data"
    }
   ],
   "source": [
    "best_k, k_vector, k_cverr = sk_cvKNN(X_train, Y_train, 10)\n",
    "\n",
    "p1 = plt.plot(k_vector, k_cverr)\n",
    "plt.ylabel('Error rate')\n",
    "plt.xlabel('k')\n",
    "plt.title('Error rates for different ks')\n",
    "plt.show()\n"
   ]
  },
  {
   "cell_type": "markdown",
   "id": "d821e0af-e5b1-49d9-92ce-2cbc7649dde0",
   "metadata": {},
   "source": [
    "**Optimal k from CV:**"
   ]
  },
  {
   "cell_type": "code",
   "execution_count": 278,
   "id": "723f850f-c8b1-4a59-bfec-50d4e72b5f95",
   "metadata": {},
   "outputs": [
    {
     "name": "stdout",
     "output_type": "stream",
     "text": [
      "Optimal k: 113\n"
     ]
    }
   ],
   "source": [
    "print('Optimal k:',best_k)"
   ]
  },
  {
   "cell_type": "markdown",
   "id": "e23d22b2-f327-4a83-8a7d-8dd002409365",
   "metadata": {},
   "source": [
    "**Conclusion:** The model seems to perform better for k in the range of 1 to 130. For k > 130, the error rate start to increase dramatically since the number of neighbors is approaching the number of points in the training set."
   ]
  },
  {
   "cell_type": "markdown",
   "id": "6db2abfa-59b5-4f80-b5fb-06a63306a086",
   "metadata": {},
   "source": [
    "# Part III: Bayes Rule"
   ]
  },
  {
   "cell_type": "markdown",
   "id": "6d37992f-2dda-4c89-a495-17dcb1eca13d",
   "metadata": {},
   "source": [
    "## 1. Implement the Bayes Rule\n"
   ]
  },
  {
   "cell_type": "markdown",
   "id": "a75fb941-0999-4b48-aef6-009d6511b3d0",
   "metadata": {},
   "source": [
    "Code implementation:"
   ]
  },
  {
   "cell_type": "code",
   "execution_count": 279,
   "id": "5f3c3b82-9109-4fa3-b1db-6396b6342772",
   "metadata": {},
   "outputs": [],
   "source": [
    "x = [0, 0]\n",
    "s = sim_params['s']\n",
    "\n",
    "def BayesRule_point(x):\n",
    "    d1 = sum(np.exp(- ((m1[i, 0] - x[0]) ** 2 + (m1[i, 1] - x[1]) ** 2) / (2 * s ** 2)) for i in range(len(m1)))\n",
    "\n",
    "    d0 = sum(np.exp(- ((m0[i, 0] - x[0]) ** 2 + (m0[i, 1] - x[1]) ** 2) / (2 * s ** 2)) for i in range(len(m0)))\n",
    "    \n",
    "    if d1/d0 >= 1:\n",
    "        return 1\n",
    "    \n",
    "    else:\n",
    "        return 0\n",
    "\n",
    "def BayesRule(X_test):\n",
    "    Y_pred = []\n",
    "    for x in X_test:\n",
    "        Y_pred.append(BayesRule_point(x))\n",
    "    return Y_pred\n",
    "    \n"
   ]
  },
  {
   "cell_type": "markdown",
   "id": "e5ab35e7-b965-43db-8a36-f01ac70517c2",
   "metadata": {},
   "source": [
    "# Part IV: Simulation"
   ]
  },
  {
   "cell_type": "markdown",
   "id": "28c0361b-6050-4c5e-ad4c-6ba41db53272",
   "metadata": {},
   "source": [
    "Code implementation:"
   ]
  },
  {
   "cell_type": "code",
   "execution_count": 281,
   "id": "439b79ed-ea4f-4772-8506-04d2459f94c1",
   "metadata": {},
   "outputs": [],
   "source": [
    "n_sim = 50\n",
    "error_k_1 = []\n",
    "best_ks = []\n",
    "error_k_optimal = []\n",
    "error_k_BayesRule = []\n",
    "\n",
    "\n",
    "# Running knn with k = 1, k from CV and Bayes Rule for 50 randomly generated training and test sets\n",
    "for n_sim in range(0, n_sim):\n",
    "    X_train, Y_train, X_test, Y_test = generate_data(sim_params)\n",
    "    test_pred = knn(X_data = X_train, Y_data = Y_train, X_pred = X_test, k = 1) \n",
    "    error_k_1.append(np.mean(test_pred != Y_test))\n",
    "    best_k_sim = sk_cvKNN(X_train, Y_train, 10)[0]\n",
    "    best_ks.append(best_k_sim)\n",
    "    test_pred = knn(X_data = X_train, Y_data = Y_train, X_pred = X_test, k = best_k_sim) \n",
    "    error_k_optimal.append(np.mean(test_pred != Y_test))\n",
    "    test_pred = BayesRule(X_test)\n",
    "    error_k_BayesRule.append(np.mean(test_pred != Y_test))\n",
    "\n",
    "# Storing means and standard deviations from each of the three models\n",
    "mean_k1 = np.mean(error_k_1)\n",
    "std_k1 = np.std(error_k_1)\n",
    "\n",
    "mean_kbest = np.mean(error_k_optimal)\n",
    "std_kbest = np.std(error_k_optimal)\n",
    "\n",
    "mean_bayes = np.mean(error_k_BayesRule)\n",
    "std_bayes = np.std(error_k_BayesRule)\n",
    "\n",
    "# \n"
   ]
  },
  {
   "cell_type": "markdown",
   "id": "c2a3511f-7012-4f2e-8c84-9a0fb34484b7",
   "metadata": {},
   "source": [
    "## 1. Present the test errors graphically, e.g., using boxplot or stripchart. Also report the mean and standard error for the chosen K values"
   ]
  },
  {
   "cell_type": "markdown",
   "id": "c2ef7444-5b88-499a-acc2-3294a3cd7ba5",
   "metadata": {},
   "source": [
    "**Plot of optimal k from CV for each of the 50 datasets**"
   ]
  },
  {
   "cell_type": "code",
   "execution_count": 287,
   "id": "2133a097-3049-482f-a040-ef9050bf5823",
   "metadata": {},
   "outputs": [
    {
     "data": {
      "image/png": "[encoded data removed]",
      "text/plain": [
       "<Figure size 432x288 with 1 Axes>"
      ]
     },
     "metadata": {
      "needs_background": "light"
     },
     "output_type": "display_data"
    }
   ],
   "source": [
    "p1 = plt.plot(range(0,50),best_ks)\n",
    "plt.ylabel('k obtained from CVV')\n",
    "plt.xlabel('Simulation number')\n",
    "plt.show()\n",
    "\n"
   ]
  },
  {
   "cell_type": "markdown",
   "id": "4fad54e9-cbcd-43e6-bc67-254ba35f8b29",
   "metadata": {},
   "source": [
    "**Mean and standard deviation of k:**"
   ]
  },
  {
   "cell_type": "code",
   "execution_count": 284,
   "id": "b701b710-3d3e-4ca0-9c84-2e685831cf66",
   "metadata": {},
   "outputs": [
    {
     "name": "stdout",
     "output_type": "stream",
     "text": [
      "Mean: 14.68\n",
      "Standard deviation: 25.93101617754306\n"
     ]
    }
   ],
   "source": [
    "print('Mean:', np.mean(best_ks))\n",
    "print('Standard deviation:', np.std(best_ks))\n"
   ]
  },
  {
   "cell_type": "markdown",
   "id": "4b7a5a63-a057-41ca-93f9-98651bf9d862",
   "metadata": {},
   "source": [
    "**Bar plot of error rates for each of the three methods:**"
   ]
  },
  {
   "cell_type": "code",
   "execution_count": 285,
   "id": "470d3890-84b7-40b7-8446-b6fddf6333db",
   "metadata": {},
   "outputs": [
    {
     "data": {
      "image/png": "[encoded data removed]",
      "text/plain": [
       "<Figure size 432x288 with 1 Axes>"
      ]
     },
     "metadata": {
      "needs_background": "light"
     },
     "output_type": "display_data"
    }
   ],
   "source": [
    "means = [mean_k1, mean_kbest, mean_bayes]\n",
    "stds = [std_k1, std_kbest, std_bayes]\n",
    "ind = [1, 2, 3]\n",
    "    \n",
    "\n",
    "p2 = plt.bar(ind, means, width, yerr=stds)\n",
    "plt.ylabel('Error rate')\n",
    "plt.title('Comparison between models')\n",
    "plt.xticks(ind, ('k = 1', 'k from CV', 'Bayes Rule'))\n",
    "plt.show()"
   ]
  },
  {
   "cell_type": "markdown",
   "id": "ea560c71-543b-4420-bf1f-333c72090663",
   "metadata": {},
   "source": [
    "**Plot of the error rates for each of the three methods for the 50 datasets:**"
   ]
  },
  {
   "cell_type": "code",
   "execution_count": 288,
   "id": "86d91c67-8d06-4a8d-822e-6b9fcc08e290",
   "metadata": {},
   "outputs": [
    {
     "data": {
      "image/png": "[encoded data removed]",
      "text/plain": [
       "<Figure size 432x288 with 1 Axes>"
      ]
     },
     "metadata": {
      "needs_background": "light"
     },
     "output_type": "display_data"
    }
   ],
   "source": [
    "plt.plot(range(0,50), error_k_1, label = 'k = 1')\n",
    "plt.plot(range(0,50), error_k_optimal, label = 'k from CV')\n",
    "plt.plot(range(0,50),  error_k_BayesRule, label = 'Bayes Rule')\n",
    "plt.ylabel('Error rate')\n",
    "plt.xlabel('Simulation number')\n",
    "plt.legend()\n",
    "plt.show()\n"
   ]
  }
 ],
 "metadata": {
  "kernelspec": {
   "display_name": "Python 3 (ipykernel)",
   "language": "python",
   "name": "python3"
  },
  "language_info": {
   "codemirror_mode": {
    "name": "ipython",
    "version": 3
   },
   "file_extension": ".py",
   "mimetype": "text/x-python",
   "name": "python",
   "nbconvert_exporter": "python",
   "pygments_lexer": "ipython3",
   "version": "3.9.7"
  }
 },
 "nbformat": 4,
 "nbformat_minor": 5
}
