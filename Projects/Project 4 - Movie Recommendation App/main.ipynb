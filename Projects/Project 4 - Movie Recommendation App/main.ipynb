{
 "cells": [
  {
   "cell_type": "code",
   "execution_count": 2,
   "metadata": {},
   "outputs": [],
   "source": [
    "import numpy as np\n",
    "import pandas as pd\n",
    "from collections import defaultdict"
   ]
  },
  {
   "cell_type": "markdown",
   "metadata": {},
   "source": [
    "# Team\n",
    "\n",
    "### Paolo Ferrari (netID: paolof2)\n",
    "### Shitao Liu (netID: sl53)\n",
    "### Yue Zhang (netID: yuez11)"
   ]
  },
  {
   "cell_type": "markdown",
   "metadata": {},
   "source": [
    "# 1. Data prep & processing"
   ]
  },
  {
   "cell_type": "markdown",
   "metadata": {},
   "source": [
    "### Read data:"
   ]
  },
  {
   "cell_type": "code",
   "execution_count": 3,
   "metadata": {},
   "outputs": [],
   "source": [
    "ratings = pd.read_table(\"https://liangfgithub.github.io/MovieData/ratings.dat\",sep=\"::\",header=None,engine='python')\n",
    "ratings.columns = ['UserID','MovieID','Rating','Timestamp']\n",
    "ratings['UserID'] = ratings['UserID'].apply(lambda x:'u' + str(x))\n",
    "ratings['MovieID'] = ratings['MovieID'].apply(lambda x:'m' + str(x))"
   ]
  },
  {
   "cell_type": "code",
   "execution_count": 4,
   "metadata": {},
   "outputs": [
    {
     "data": {
      "text/html": [
       "<div>\n",
       "<style scoped>\n",
       "    .dataframe tbody tr th:only-of-type {\n",
       "        vertical-align: middle;\n",
       "    }\n",
       "\n",
       "    .dataframe tbody tr th {\n",
       "        vertical-align: top;\n",
       "    }\n",
       "\n",
       "    .dataframe thead th {\n",
       "        text-align: right;\n",
       "    }\n",
       "</style>\n",
       "<table border=\"1\" class=\"dataframe\">\n",
       "  <thead>\n",
       "    <tr style=\"text-align: right;\">\n",
       "      <th></th>\n",
       "      <th>UserID</th>\n",
       "      <th>MovieID</th>\n",
       "      <th>Rating</th>\n",
       "      <th>Timestamp</th>\n",
       "    </tr>\n",
       "  </thead>\n",
       "  <tbody>\n",
       "    <tr>\n",
       "      <th>0</th>\n",
       "      <td>u1</td>\n",
       "      <td>m1193</td>\n",
       "      <td>5</td>\n",
       "      <td>978300760</td>\n",
       "    </tr>\n",
       "    <tr>\n",
       "      <th>1</th>\n",
       "      <td>u1</td>\n",
       "      <td>m661</td>\n",
       "      <td>3</td>\n",
       "      <td>978302109</td>\n",
       "    </tr>\n",
       "    <tr>\n",
       "      <th>2</th>\n",
       "      <td>u1</td>\n",
       "      <td>m914</td>\n",
       "      <td>3</td>\n",
       "      <td>978301968</td>\n",
       "    </tr>\n",
       "    <tr>\n",
       "      <th>3</th>\n",
       "      <td>u1</td>\n",
       "      <td>m3408</td>\n",
       "      <td>4</td>\n",
       "      <td>978300275</td>\n",
       "    </tr>\n",
       "    <tr>\n",
       "      <th>4</th>\n",
       "      <td>u1</td>\n",
       "      <td>m2355</td>\n",
       "      <td>5</td>\n",
       "      <td>978824291</td>\n",
       "    </tr>\n",
       "    <tr>\n",
       "      <th>...</th>\n",
       "      <td>...</td>\n",
       "      <td>...</td>\n",
       "      <td>...</td>\n",
       "      <td>...</td>\n",
       "    </tr>\n",
       "    <tr>\n",
       "      <th>1000204</th>\n",
       "      <td>u6040</td>\n",
       "      <td>m1091</td>\n",
       "      <td>1</td>\n",
       "      <td>956716541</td>\n",
       "    </tr>\n",
       "    <tr>\n",
       "      <th>1000205</th>\n",
       "      <td>u6040</td>\n",
       "      <td>m1094</td>\n",
       "      <td>5</td>\n",
       "      <td>956704887</td>\n",
       "    </tr>\n",
       "    <tr>\n",
       "      <th>1000206</th>\n",
       "      <td>u6040</td>\n",
       "      <td>m562</td>\n",
       "      <td>5</td>\n",
       "      <td>956704746</td>\n",
       "    </tr>\n",
       "    <tr>\n",
       "      <th>1000207</th>\n",
       "      <td>u6040</td>\n",
       "      <td>m1096</td>\n",
       "      <td>4</td>\n",
       "      <td>956715648</td>\n",
       "    </tr>\n",
       "    <tr>\n",
       "      <th>1000208</th>\n",
       "      <td>u6040</td>\n",
       "      <td>m1097</td>\n",
       "      <td>4</td>\n",
       "      <td>956715569</td>\n",
       "    </tr>\n",
       "  </tbody>\n",
       "</table>\n",
       "<p>1000209 rows × 4 columns</p>\n",
       "</div>"
      ],
      "text/plain": [
       "        UserID MovieID  Rating  Timestamp\n",
       "0           u1   m1193       5  978300760\n",
       "1           u1    m661       3  978302109\n",
       "2           u1    m914       3  978301968\n",
       "3           u1   m3408       4  978300275\n",
       "4           u1   m2355       5  978824291\n",
       "...        ...     ...     ...        ...\n",
       "1000204  u6040   m1091       1  956716541\n",
       "1000205  u6040   m1094       5  956704887\n",
       "1000206  u6040    m562       5  956704746\n",
       "1000207  u6040   m1096       4  956715648\n",
       "1000208  u6040   m1097       4  956715569\n",
       "\n",
       "[1000209 rows x 4 columns]"
      ]
     },
     "execution_count": 4,
     "metadata": {},
     "output_type": "execute_result"
    }
   ],
   "source": [
    "ratings"
   ]
  },
  {
   "cell_type": "code",
   "execution_count": 5,
   "metadata": {},
   "outputs": [
    {
     "data": {
      "text/html": [
       "<div>\n",
       "<style scoped>\n",
       "    .dataframe tbody tr th:only-of-type {\n",
       "        vertical-align: middle;\n",
       "    }\n",
       "\n",
       "    .dataframe tbody tr th {\n",
       "        vertical-align: top;\n",
       "    }\n",
       "\n",
       "    .dataframe thead th {\n",
       "        text-align: right;\n",
       "    }\n",
       "</style>\n",
       "<table border=\"1\" class=\"dataframe\">\n",
       "  <thead>\n",
       "    <tr style=\"text-align: right;\">\n",
       "      <th></th>\n",
       "      <th>MovieID</th>\n",
       "      <th>Title</th>\n",
       "      <th>Genres</th>\n",
       "    </tr>\n",
       "  </thead>\n",
       "  <tbody>\n",
       "    <tr>\n",
       "      <th>0</th>\n",
       "      <td>m1</td>\n",
       "      <td>Toy Story (1995)</td>\n",
       "      <td>Animation|Children's|Comedy</td>\n",
       "    </tr>\n",
       "    <tr>\n",
       "      <th>1</th>\n",
       "      <td>m2</td>\n",
       "      <td>Jumanji (1995)</td>\n",
       "      <td>Adventure|Children's|Fantasy</td>\n",
       "    </tr>\n",
       "    <tr>\n",
       "      <th>2</th>\n",
       "      <td>m3</td>\n",
       "      <td>Grumpier Old Men (1995)</td>\n",
       "      <td>Comedy|Romance</td>\n",
       "    </tr>\n",
       "    <tr>\n",
       "      <th>3</th>\n",
       "      <td>m4</td>\n",
       "      <td>Waiting to Exhale (1995)</td>\n",
       "      <td>Comedy|Drama</td>\n",
       "    </tr>\n",
       "    <tr>\n",
       "      <th>4</th>\n",
       "      <td>m5</td>\n",
       "      <td>Father of the Bride Part II (1995)</td>\n",
       "      <td>Comedy</td>\n",
       "    </tr>\n",
       "    <tr>\n",
       "      <th>...</th>\n",
       "      <td>...</td>\n",
       "      <td>...</td>\n",
       "      <td>...</td>\n",
       "    </tr>\n",
       "    <tr>\n",
       "      <th>3878</th>\n",
       "      <td>m3948</td>\n",
       "      <td>Meet the Parents (2000)</td>\n",
       "      <td>Comedy</td>\n",
       "    </tr>\n",
       "    <tr>\n",
       "      <th>3879</th>\n",
       "      <td>m3949</td>\n",
       "      <td>Requiem for a Dream (2000)</td>\n",
       "      <td>Drama</td>\n",
       "    </tr>\n",
       "    <tr>\n",
       "      <th>3880</th>\n",
       "      <td>m3950</td>\n",
       "      <td>Tigerland (2000)</td>\n",
       "      <td>Drama</td>\n",
       "    </tr>\n",
       "    <tr>\n",
       "      <th>3881</th>\n",
       "      <td>m3951</td>\n",
       "      <td>Two Family House (2000)</td>\n",
       "      <td>Drama</td>\n",
       "    </tr>\n",
       "    <tr>\n",
       "      <th>3882</th>\n",
       "      <td>m3952</td>\n",
       "      <td>Contender, The (2000)</td>\n",
       "      <td>Drama|Thriller</td>\n",
       "    </tr>\n",
       "  </tbody>\n",
       "</table>\n",
       "<p>3883 rows × 3 columns</p>\n",
       "</div>"
      ],
      "text/plain": [
       "     MovieID                               Title                        Genres\n",
       "0         m1                    Toy Story (1995)   Animation|Children's|Comedy\n",
       "1         m2                      Jumanji (1995)  Adventure|Children's|Fantasy\n",
       "2         m3             Grumpier Old Men (1995)                Comedy|Romance\n",
       "3         m4            Waiting to Exhale (1995)                  Comedy|Drama\n",
       "4         m5  Father of the Bride Part II (1995)                        Comedy\n",
       "...      ...                                 ...                           ...\n",
       "3878   m3948             Meet the Parents (2000)                        Comedy\n",
       "3879   m3949          Requiem for a Dream (2000)                         Drama\n",
       "3880   m3950                    Tigerland (2000)                         Drama\n",
       "3881   m3951             Two Family House (2000)                         Drama\n",
       "3882   m3952               Contender, The (2000)                Drama|Thriller\n",
       "\n",
       "[3883 rows x 3 columns]"
      ]
     },
     "execution_count": 5,
     "metadata": {},
     "output_type": "execute_result"
    }
   ],
   "source": [
    "movies = pd.read_table(\"https://liangfgithub.github.io/MovieData/movies.dat\",sep=\"::\",header=None,engine='python',encoding='latin-1')\n",
    "movies.columns = ['MovieID','Title','Genres']\n",
    "movies['MovieID'] = movies['MovieID'].apply(lambda x:'m' + str(x))\n",
    "movies"
   ]
  },
  {
   "cell_type": "markdown",
   "metadata": {},
   "source": [
    "## Part 1: Recommendation based on genres"
   ]
  },
  {
   "cell_type": "markdown",
   "metadata": {},
   "source": [
    "For doing recommendation based on genres, we first calculate the average rating of each movie, the number of ratings received by each movie, and the genres of each movie.\n"
   ]
  },
  {
   "cell_type": "code",
   "execution_count": 6,
   "metadata": {},
   "outputs": [],
   "source": [
    "users = pd.read_table(\"https://liangfgithub.github.io/MovieData/users.dat\",sep=\"::\",header=None,engine='python',encoding='latin-1')\n",
    "users.columns = ['UserID','Gender', 'Age', 'Occupation', 'Zip-code']\n",
    "users['UserID'] = users['UserID'].apply(lambda x:'m' + str(x))"
   ]
  },
  {
   "cell_type": "code",
   "execution_count": 7,
   "metadata": {},
   "outputs": [],
   "source": [
    "genre_dic = defaultdict(list)\n",
    "for i in range(len(movies)):\n",
    "    info = movies.iloc[i]\n",
    "    mid = info['MovieID']\n",
    "    title = info['Title']\n",
    "    genres = info['Genres'].split('|')\n",
    "    for genre in genres:\n",
    "        genre_dic[genre].append(mid)"
   ]
  },
  {
   "cell_type": "code",
   "execution_count": 8,
   "metadata": {},
   "outputs": [],
   "source": [
    "id_title_mapping = {}\n",
    "for i in range(len(movies)):\n",
    "    id_title_mapping[movies['MovieID'].iloc[i]] = movies['Title'].iloc[i]"
   ]
  },
  {
   "cell_type": "code",
   "execution_count": 9,
   "metadata": {},
   "outputs": [],
   "source": [
    "movie_avr_score = defaultdict(float)\n",
    "movie_rated_frq = defaultdict(int)"
   ]
  },
  {
   "cell_type": "code",
   "execution_count": 10,
   "metadata": {},
   "outputs": [
    {
     "data": {
      "text/html": [
       "<div>\n",
       "<style scoped>\n",
       "    .dataframe tbody tr th:only-of-type {\n",
       "        vertical-align: middle;\n",
       "    }\n",
       "\n",
       "    .dataframe tbody tr th {\n",
       "        vertical-align: top;\n",
       "    }\n",
       "\n",
       "    .dataframe thead th {\n",
       "        text-align: right;\n",
       "    }\n",
       "</style>\n",
       "<table border=\"1\" class=\"dataframe\">\n",
       "  <thead>\n",
       "    <tr style=\"text-align: right;\">\n",
       "      <th></th>\n",
       "      <th>Rating</th>\n",
       "      <th>Timestamp</th>\n",
       "    </tr>\n",
       "    <tr>\n",
       "      <th>MovieID</th>\n",
       "      <th></th>\n",
       "      <th></th>\n",
       "    </tr>\n",
       "  </thead>\n",
       "  <tbody>\n",
       "    <tr>\n",
       "      <th>m1</th>\n",
       "      <td>4.146846</td>\n",
       "      <td>9.705586e+08</td>\n",
       "    </tr>\n",
       "    <tr>\n",
       "      <th>m10</th>\n",
       "      <td>3.540541</td>\n",
       "      <td>9.720168e+08</td>\n",
       "    </tr>\n",
       "    <tr>\n",
       "      <th>m100</th>\n",
       "      <td>3.062500</td>\n",
       "      <td>9.717403e+08</td>\n",
       "    </tr>\n",
       "    <tr>\n",
       "      <th>m1000</th>\n",
       "      <td>3.050000</td>\n",
       "      <td>9.716269e+08</td>\n",
       "    </tr>\n",
       "    <tr>\n",
       "      <th>m1002</th>\n",
       "      <td>4.250000</td>\n",
       "      <td>9.707060e+08</td>\n",
       "    </tr>\n",
       "    <tr>\n",
       "      <th>...</th>\n",
       "      <td>...</td>\n",
       "      <td>...</td>\n",
       "    </tr>\n",
       "    <tr>\n",
       "      <th>m994</th>\n",
       "      <td>4.095556</td>\n",
       "      <td>9.727394e+08</td>\n",
       "    </tr>\n",
       "    <tr>\n",
       "      <th>m996</th>\n",
       "      <td>2.906250</td>\n",
       "      <td>9.725015e+08</td>\n",
       "    </tr>\n",
       "    <tr>\n",
       "      <th>m997</th>\n",
       "      <td>3.357143</td>\n",
       "      <td>9.718940e+08</td>\n",
       "    </tr>\n",
       "    <tr>\n",
       "      <th>m998</th>\n",
       "      <td>3.010753</td>\n",
       "      <td>9.727756e+08</td>\n",
       "    </tr>\n",
       "    <tr>\n",
       "      <th>m999</th>\n",
       "      <td>3.283217</td>\n",
       "      <td>9.739101e+08</td>\n",
       "    </tr>\n",
       "  </tbody>\n",
       "</table>\n",
       "<p>3706 rows × 2 columns</p>\n",
       "</div>"
      ],
      "text/plain": [
       "           Rating     Timestamp\n",
       "MovieID                        \n",
       "m1       4.146846  9.705586e+08\n",
       "m10      3.540541  9.720168e+08\n",
       "m100     3.062500  9.717403e+08\n",
       "m1000    3.050000  9.716269e+08\n",
       "m1002    4.250000  9.707060e+08\n",
       "...           ...           ...\n",
       "m994     4.095556  9.727394e+08\n",
       "m996     2.906250  9.725015e+08\n",
       "m997     3.357143  9.718940e+08\n",
       "m998     3.010753  9.727756e+08\n",
       "m999     3.283217  9.739101e+08\n",
       "\n",
       "[3706 rows x 2 columns]"
      ]
     },
     "execution_count": 10,
     "metadata": {},
     "output_type": "execute_result"
    }
   ],
   "source": [
    "rating_by_movie = ratings.groupby('MovieID',group_keys=False).mean()\n",
    "rating_by_movie"
   ]
  },
  {
   "cell_type": "code",
   "execution_count": 11,
   "metadata": {},
   "outputs": [],
   "source": [
    "for idx in rating_by_movie.index:\n",
    "    movie_avr_score[idx] = rating_by_movie['Rating'].loc[idx]"
   ]
  },
  {
   "cell_type": "markdown",
   "metadata": {},
   "source": [
    "### Method 1: Most Popular Recommendation"
   ]
  },
  {
   "cell_type": "markdown",
   "metadata": {},
   "source": [
    "The first genre-based recommendation method we propose is \"most popular recommendation\". Specifically, we define \"populartity\" by the number of ratings a movie receives. The more ratings a movie receives, the more popular it is.\n",
    "\n",
    "To recommend the \"top 5 most popular movie\" for each genre, we first find all movies belonging to this genre. Then, we sort the movies by the number of ratings they receive, and return the top 5 movies as our recommendation results."
   ]
  },
  {
   "cell_type": "code",
   "execution_count": 12,
   "metadata": {},
   "outputs": [],
   "source": [
    "freq_by_movie = ratings.groupby('MovieID', group_keys=False).count()\n"
   ]
  },
  {
   "cell_type": "code",
   "execution_count": 13,
   "metadata": {},
   "outputs": [],
   "source": [
    "for idx in freq_by_movie.index:\n",
    "    movie_rated_frq[idx] = freq_by_movie['Rating'].loc[idx]"
   ]
  },
  {
   "cell_type": "code",
   "execution_count": 14,
   "metadata": {},
   "outputs": [
    {
     "name": "stdout",
     "output_type": "stream",
     "text": [
      "\n",
      " Animation: ['Toy Story (1995)', 'Who Framed Roger Rabbit? (1988)', \"Bug's Life, A (1998)\", 'Toy Story 2 (1999)', 'Aladdin (1992)']\n",
      "\n",
      " Children's: ['E.T. the Extra-Terrestrial (1982)', 'Toy Story (1995)', 'Babe (1995)', 'Wizard of Oz, The (1939)', \"Bug's Life, A (1998)\"]\n",
      "\n",
      " Comedy: ['American Beauty (1999)', 'Back to the Future (1985)', 'Men in Black (1997)', 'Shakespeare in Love (1998)', 'Princess Bride, The (1987)']\n",
      "\n",
      " Adventure: ['Star Wars: Episode IV - A New Hope (1977)', 'Star Wars: Episode V - The Empire Strikes Back (1980)', 'Star Wars: Episode VI - Return of the Jedi (1983)', 'Jurassic Park (1993)', 'Men in Black (1997)']\n",
      "\n",
      " Fantasy: ['Star Wars: Episode IV - A New Hope (1977)', 'E.T. the Extra-Terrestrial (1982)', 'Star Wars: Episode I - The Phantom Menace (1999)', 'Beetlejuice (1988)', 'Big (1988)']\n",
      "\n",
      " Romance: ['Star Wars: Episode VI - Return of the Jedi (1983)', 'Shakespeare in Love (1998)', 'Princess Bride, The (1987)', 'Groundhog Day (1993)', 'Forrest Gump (1994)']\n",
      "\n",
      " Drama: ['American Beauty (1999)', 'Star Wars: Episode V - The Empire Strikes Back (1980)', 'Saving Private Ryan (1998)', 'Silence of the Lambs, The (1991)', 'Fargo (1996)']\n",
      "\n",
      " Action: ['Star Wars: Episode IV - A New Hope (1977)', 'Star Wars: Episode V - The Empire Strikes Back (1980)', 'Star Wars: Episode VI - Return of the Jedi (1983)', 'Jurassic Park (1993)', 'Saving Private Ryan (1998)']\n",
      "\n",
      " Crime: ['Fargo (1996)', 'L.A. Confidential (1997)', 'Godfather, The (1972)', 'Pulp Fiction (1994)', 'Usual Suspects, The (1995)']\n",
      "\n",
      " Thriller: ['Terminator 2: Judgment Day (1991)', 'Matrix, The (1999)', 'Silence of the Lambs, The (1991)', 'Fargo (1996)', 'Sixth Sense, The (1999)']\n",
      "\n",
      " Horror: ['Ghostbusters (1984)', 'Alien (1979)', 'Jaws (1975)', 'Psycho (1960)', 'Blair Witch Project, The (1999)']\n",
      "\n",
      " Sci-Fi: ['Star Wars: Episode IV - A New Hope (1977)', 'Star Wars: Episode V - The Empire Strikes Back (1980)', 'Star Wars: Episode VI - Return of the Jedi (1983)', 'Jurassic Park (1993)', 'Terminator 2: Judgment Day (1991)']\n",
      "\n",
      " Documentary: ['Roger & Me (1989)', 'Hoop Dreams (1994)', 'Crumb (1994)', 'American Movie (1999)', 'When We Were Kings (1996)']\n",
      "\n",
      " War: ['Star Wars: Episode V - The Empire Strikes Back (1980)', 'Star Wars: Episode VI - Return of the Jedi (1983)', 'Saving Private Ryan (1998)', 'Braveheart (1995)', \"Schindler's List (1993)\"]\n",
      "\n",
      " Musical: ['Wizard of Oz, The (1939)', 'Aladdin (1992)', 'Blues Brothers, The (1980)', 'Rocky Horror Picture Show, The (1975)', 'Lion King, The (1994)']\n",
      "\n",
      " Mystery: ['L.A. Confidential (1997)', '2001: A Space Odyssey (1968)', 'Mission: Impossible (1996)', 'Talented Mr. Ripley, The (1999)', 'Chinatown (1974)']\n",
      "\n",
      " Film-Noir: ['L.A. Confidential (1997)', 'Blade Runner (1982)', 'Who Framed Roger Rabbit? (1988)', 'Chinatown (1974)', 'Maltese Falcon, The (1941)']\n",
      "\n",
      " Western: ['Dances with Wolves (1990)', 'Butch Cassidy and the Sundance Kid (1969)', 'Back to the Future Part III (1990)', 'Blazing Saddles (1974)', 'Unforgiven (1992)']\n"
     ]
    }
   ],
   "source": [
    "def Popular_Recom(fav):\n",
    "    if (fav not in genre_dic.keys()):\n",
    "        return ''\n",
    "    similar_movies = genre_dic[fav]\n",
    "    similar_movies.sort(key=lambda x: movie_rated_frq[x], reverse=True)\n",
    "    return similar_movies[:5]\n",
    "\n",
    "for genre in genre_dic.keys():\n",
    "    mids = Popular_Recom(genre)\n",
    "    titles = [id_title_mapping[i] for i in mids]\n",
    "    print('\\n', genre + ': {}'.format(titles))\n"
   ]
  },
  {
   "cell_type": "markdown",
   "metadata": {},
   "source": [
    "### Method 2: Highest Rating Recommendation"
   ]
  },
  {
   "cell_type": "markdown",
   "metadata": {},
   "source": [
    "The second genre-based recommendation method we propose is \"highest rated recommendation\". To recommend the \"top 5 highest rated movie\" for each genre, we first find all movies belonging to this genre. Then, we sort the movies by the average rating they receive, and return the top 5 movies as our recommendation results.\n",
    "\n"
   ]
  },
  {
   "cell_type": "code",
   "execution_count": 15,
   "metadata": {},
   "outputs": [
    {
     "name": "stdout",
     "output_type": "stream",
     "text": [
      "Animation: ['Close Shave, A (1995)', 'Wrong Trousers, The (1993)', 'Wallace & Gromit: The Best of Aardman Animation (1996)', 'Grand Day Out, A (1992)', 'Creature Comforts (1990)']\n",
      "\n",
      "Children's: ['Wizard of Oz, The (1939)', 'Toy Story 2 (1999)', 'Toy Story (1995)', 'Iron Giant, The (1999)', 'Winnie the Pooh and the Blustery Day (1968)']\n",
      "\n",
      "Comedy: ['Smashing Time (1967)', 'Follow the Bitch (1998)', 'One Little Indian (1973)', 'Close Shave, A (1995)', 'Wrong Trousers, The (1993)']\n",
      "\n",
      "Adventure: ['Ulysses (Ulisse) (1954)', 'Sanjuro (1962)', 'Raiders of the Lost Ark (1981)', 'Star Wars: Episode IV - A New Hope (1977)', 'Lawrence of Arabia (1962)']\n",
      "\n",
      "Fantasy: ['Star Wars: Episode IV - A New Hope (1977)', 'Hungarian Fairy Tale, A (1987)', 'E.T. the Extra-Terrestrial (1982)', 'Heavenly Creatures (1994)', 'Willy Wonka and the Chocolate Factory (1971)']\n",
      "\n",
      "Romance: ['Skipped Parts (2000)', 'Casablanca (1942)', 'City Lights (1931)', 'Princess Bride, The (1987)', 'Philadelphia Story, The (1940)']\n",
      "\n",
      "Drama: ['Schlafes Bruder (Brother of Sleep) (1995)', 'Song of Freedom (1936)', 'One Little Indian (1973)', 'I Am Cuba (Soy Cuba/Ya Kuba) (1964)', 'Lamerica (1994)']\n",
      "\n",
      "Action: ['Sanjuro (1962)', 'Seven Samurai (The Magnificent Seven) (Shichinin no samurai) (1954)', 'Godfather, The (1972)', 'Raiders of the Lost Ark (1981)', 'Star Wars: Episode IV - A New Hope (1977)']\n",
      "\n",
      "Crime: ['Lured (1947)', 'Godfather, The (1972)', 'Usual Suspects, The (1995)', 'Bells, The (1926)', 'Double Indemnity (1944)']\n",
      "\n",
      "Thriller: ['Close Shave, A (1995)', 'Usual Suspects, The (1995)', 'Rear Window (1954)', 'Third Man, The (1949)', 'Sixth Sense, The (1999)']\n",
      "\n",
      "Horror: ['Baby, The (1973)', 'Young Frankenstein (1974)', 'Psycho (1960)', 'Alien (1979)', 'Shining, The (1980)']\n",
      "\n",
      "Sci-Fi: ['Star Wars: Episode IV - A New Hope (1977)', 'Dr. Strangelove or: How I Learned to Stop Worrying and Love the Bomb (1963)', 'Matrix, The (1999)', 'Star Wars: Episode V - The Empire Strikes Back (1980)', 'Blade Runner (1982)']\n",
      "\n",
      "Documentary: ['Gate of Heavenly Peace, The (1995)', 'Bittersweet Motel (2000)', 'For All Mankind (1989)', 'Return with Honor (1998)', \"Jupiter's Wife (1994)\"]\n",
      "\n",
      "War: [\"Schindler's List (1993)\", 'Paths of Glory (1957)', 'Dr. Strangelove or: How I Learned to Stop Worrying and Love the Bomb (1963)', 'Casablanca (1942)', 'Lawrence of Arabia (1962)']\n",
      "\n",
      "Musical: [\"Singin' in the Rain (1952)\", 'Wizard of Oz, The (1939)', 'This Is Spinal Tap (1984)', 'Shall We Dance? (1937)', 'My Fair Lady (1964)']\n",
      "\n",
      "Mystery: ['Hour of the Pig, The (1993)', 'Rear Window (1954)', 'Third Man, The (1949)', 'Maltese Falcon, The (1941)', 'Chinatown (1974)']\n",
      "\n",
      "Film-Noir: ['Sunset Blvd. (a.k.a. Sunset Boulevard) (1950)', 'Double Indemnity (1944)', 'Maltese Falcon, The (1941)', 'Chinatown (1974)', 'Manchurian Candidate, The (1962)']\n",
      "\n",
      "Western: ['One Little Indian (1973)', 'Yojimbo (1961)', 'Butch Cassidy and the Sundance Kid (1969)', 'High Noon (1952)', 'Good, The Bad and The Ugly, The (1966)']\n",
      "\n"
     ]
    }
   ],
   "source": [
    "def Rating_Recom(fav):\n",
    "    if (fav not in genre_dic.keys()):\n",
    "        return ''\n",
    "    similar_movies = genre_dic[fav]\n",
    "    similar_movies.sort(key=lambda x: movie_avr_score[x], reverse=True)\n",
    "    return similar_movies[:5]\n",
    "\n",
    "for genre in genre_dic.keys():\n",
    "    mids = Rating_Recom(genre)\n",
    "    titles = [id_title_mapping[i] for i in mids]\n",
    "    print(genre + ': {}'.format(titles))\n",
    "    print()"
   ]
  },
  {
   "cell_type": "markdown",
   "metadata": {},
   "source": [
    "## Part II: UBCF and IBCF"
   ]
  },
  {
   "cell_type": "markdown",
   "metadata": {},
   "source": [
    "### User-Item Matrix"
   ]
  },
  {
   "cell_type": "markdown",
   "metadata": {},
   "source": [
    "Here, we create a index-username map to map each username to a row in the user-item rating matrix\n"
   ]
  },
  {
   "cell_type": "code",
   "execution_count": 16,
   "metadata": {},
   "outputs": [],
   "source": [
    "users_ids = sorted(list(set(ratings['UserID'].values)))\n"
   ]
  },
  {
   "cell_type": "code",
   "execution_count": 17,
   "metadata": {},
   "outputs": [],
   "source": [
    "user_index_map = {}\n",
    "index_user_map = {}\n",
    "for i in range(len(users_ids)):\n",
    "    user_index_map[users_ids[i]] = i\n",
    "    index_user_map[i] = users_ids[i]"
   ]
  },
  {
   "cell_type": "code",
   "execution_count": 18,
   "metadata": {},
   "outputs": [],
   "source": [
    "movies_ids = sorted(list(set(ratings['MovieID'].values)))\n"
   ]
  },
  {
   "cell_type": "code",
   "execution_count": 19,
   "metadata": {},
   "outputs": [],
   "source": [
    "movie_index_map = {}\n",
    "index_movie_map = {}\n",
    "for i in range(len(movies_ids)):\n",
    "    movie_index_map[movies_ids[i]] = i\n",
    "    index_movie_map[i] = movies_ids[i]"
   ]
  },
  {
   "cell_type": "markdown",
   "metadata": {},
   "source": [
    "Create the user-item grading matrix. Row: User; Col: Item\n"
   ]
  },
  {
   "cell_type": "code",
   "execution_count": 20,
   "metadata": {},
   "outputs": [],
   "source": [
    "ui_grading_matrix = np.zeros([len(users_ids), len(movies_ids)])\n",
    "\n",
    "for i in range(ui_grading_matrix.shape[0]):\n",
    "    uid = index_user_map[i]\n",
    "    user_ratings = ratings.loc[ratings['UserID'] == uid]\n",
    "    for j in range(len(user_ratings)):\n",
    "        msg = user_ratings.iloc[j]\n",
    "        mid = msg['MovieID']\n",
    "        ui_grading_matrix[i, movie_index_map[mid]] = msg['Rating']"
   ]
  },
  {
   "cell_type": "code",
   "execution_count": 21,
   "metadata": {},
   "outputs": [],
   "source": [
    "iu_grading_matrix = ui_grading_matrix.copy()\n"
   ]
  },
  {
   "cell_type": "markdown",
   "metadata": {},
   "source": [
    "Calculate the average rating for each user and normalize each row\n"
   ]
  },
  {
   "cell_type": "code",
   "execution_count": 22,
   "metadata": {},
   "outputs": [],
   "source": [
    "user_avr = {}\n",
    "for i in range(ui_grading_matrix.shape[0]):\n",
    "    count = 0\n",
    "    summation = 0\n",
    "    for rating in ui_grading_matrix[i]:\n",
    "        if (rating != 0):\n",
    "            summation += rating\n",
    "            count += 1\n",
    "    user_avr[i] = summation / count"
   ]
  },
  {
   "cell_type": "code",
   "execution_count": 23,
   "metadata": {},
   "outputs": [],
   "source": [
    "for i in range(ui_grading_matrix.shape[0]):\n",
    "    for j in range(ui_grading_matrix.shape[1]):\n",
    "        if (ui_grading_matrix[i, j] != 0):\n",
    "            ui_grading_matrix[i, j] -= user_avr[i]"
   ]
  },
  {
   "cell_type": "markdown",
   "metadata": {},
   "source": [
    "### UBCF"
   ]
  },
  {
   "cell_type": "code",
   "execution_count": 24,
   "metadata": {},
   "outputs": [],
   "source": [
    "def cosine_sim(x, y):    \n",
    "    x_adj = []\n",
    "    y_adj = []\n",
    "    for i in range(len(x)):\n",
    "        if (x[i] != 0 and y[i] != 0):\n",
    "            x_adj.append(x[i])\n",
    "            y_adj.append(y[i])\n",
    "    x = np.asarray(x_adj)\n",
    "    y = np.asarray(y_adj)\n",
    "    if (len(x) == 0 or len(y) == 0):\n",
    "        return -float('inf'), -float('inf')\n",
    "    \n",
    "    return (1 + np.dot(x, y) / (np.linalg.norm(x) * np.linalg.norm(y))) / 2, len(x)"
   ]
  },
  {
   "cell_type": "code",
   "execution_count": 25,
   "metadata": {},
   "outputs": [],
   "source": [
    "def get_similarities(training_users, test_vector, threshold):\n",
    "    similarity_heap = []\n",
    "    for i in range(training_users.shape[0]):\n",
    "        similarity, common = cosine_sim(training_users[i], test_vector)\n",
    "        similarity_heap.append((similarity, i))\n",
    "    similarity_heap.sort(key=lambda x: x[0])\n",
    "    return similarity_heap[-threshold:]"
   ]
  },
  {
   "cell_type": "code",
   "execution_count": 26,
   "metadata": {},
   "outputs": [],
   "source": [
    "def pred_rating(training_users, neighbours):\n",
    "    prediction = [np.NaN for _ in range(training_users.shape[1])]\n",
    "    for j in range(training_users.shape[1]):\n",
    "        if (test_vector[j] != 0):\n",
    "            continue\n",
    "        total_weighted_rating = 0\n",
    "        total_sim = 0\n",
    "        for neighbour in neighbours:\n",
    "            (similarity, neighbour_idx) = neighbour\n",
    "            if (training_users[neighbour_idx, j] != 0):\n",
    "                total_sim += similarity\n",
    "                total_weighted_rating += similarity * training_users[neighbour_idx, j]\n",
    "        if (total_weighted_rating != 0):\n",
    "            prediction[j] = total_weighted_rating / total_sim\n",
    "    return np.asarray(prediction)"
   ]
  },
  {
   "cell_type": "markdown",
   "metadata": {},
   "source": [
    "We use the first 500 users as the training data, and use the 501st user as the test data. For UBCF, we only consider the top 20 most similar users.\n"
   ]
  },
  {
   "cell_type": "code",
   "execution_count": 27,
   "metadata": {},
   "outputs": [],
   "source": [
    "test_user = 501\n",
    "threshold = 20\n",
    "\n",
    "test_vector = ui_grading_matrix[test_user - 1, :]"
   ]
  },
  {
   "cell_type": "code",
   "execution_count": 28,
   "metadata": {},
   "outputs": [],
   "source": [
    "training_users = ui_grading_matrix[ : test_user - 1, :]\n"
   ]
  },
  {
   "cell_type": "markdown",
   "metadata": {},
   "source": [
    "Calculate the cosine similarity between users and make prediction\n"
   ]
  },
  {
   "cell_type": "code",
   "execution_count": 29,
   "metadata": {},
   "outputs": [],
   "source": [
    "similarity = get_similarities(training_users, test_vector, threshold)\n",
    "prediction = pred_rating(training_users, similarity)"
   ]
  },
  {
   "cell_type": "markdown",
   "metadata": {},
   "source": [
    "De-normalize by adding the average rating back\n"
   ]
  },
  {
   "cell_type": "code",
   "execution_count": 30,
   "metadata": {},
   "outputs": [],
   "source": [
    "for idx, pred in enumerate(prediction):\n",
    "    if (np.isnan(pred)):\n",
    "        continue\n",
    "    else:\n",
    "        prediction[idx] += user_avr[test_user - 1]"
   ]
  },
  {
   "cell_type": "markdown",
   "metadata": {},
   "source": [
    "### IBCF"
   ]
  },
  {
   "cell_type": "code",
   "execution_count": 32,
   "metadata": {},
   "outputs": [],
   "source": [
    "new_test = iu_grading_matrix[test_user - 1, :]\n",
    "ibcf_k = 30\n"
   ]
  },
  {
   "cell_type": "code",
   "execution_count": 33,
   "metadata": {},
   "outputs": [],
   "source": [
    "def get_ibcf_similarity(training, threshold):\n",
    "    movie_similarity_dic = defaultdict(list)\n",
    "    training = training.T\n",
    "    for i in range(training.shape[0]):\n",
    "        vec1 = training[i]\n",
    "        similars = []\n",
    "        for j in range(training.shape[0]):\n",
    "            if (i == j):\n",
    "                continue\n",
    "            vec2 = training[j]\n",
    "            similarity, commons = cosine_sim(vec1, vec2)\n",
    "            similars.append((similarity, commons, j))\n",
    "        similars.sort(key=lambda x:(x[0]))\n",
    "        movie_similarity_dic[i] = similars[-threshold:]\n",
    "    return movie_similarity_dic"
   ]
  },
  {
   "cell_type": "code",
   "execution_count": 34,
   "metadata": {},
   "outputs": [],
   "source": [
    "def IBCF_rating(movie_similarity_dic, testing_user):\n",
    "    predictions = [np.NaN for _ in range(len(testing_user))]\n",
    "    for j in range(len(predictions)):\n",
    "        if (testing_user[j] != 0):\n",
    "            continue\n",
    "        total_weighted_rating = 0\n",
    "        total_sim = 0\n",
    "        for (similarity, commons, movie_idx) in movie_similarity_dic[j]:\n",
    "            if (testing_user[movie_idx] != 0 and similarity != -float('inf')):\n",
    "                total_sim += similarity\n",
    "                total_weighted_rating += similarity * testing_user[movie_idx]\n",
    "        if (total_weighted_rating != 0):\n",
    "            predictions[j] = total_weighted_rating / total_sim\n",
    "    return predictions"
   ]
  },
  {
   "cell_type": "code",
   "execution_count": 35,
   "metadata": {},
   "outputs": [],
   "source": [
    "movie_similarities = get_ibcf_similarity(training_users, ibcf_k)\n"
   ]
  },
  {
   "cell_type": "code",
   "execution_count": 36,
   "metadata": {},
   "outputs": [],
   "source": [
    "ibcf_pred = IBCF_rating(movie_similarities, new_test)\n"
   ]
  },
  {
   "cell_type": "code",
   "execution_count": null,
   "metadata": {},
   "outputs": [],
   "source": []
  }
 ],
 "metadata": {
  "kernelspec": {
   "display_name": "base",
   "language": "python",
   "name": "python3"
  },
  "language_info": {
   "codemirror_mode": {
    "name": "ipython",
    "version": 3
   },
   "file_extension": ".py",
   "mimetype": "text/x-python",
   "name": "python",
   "nbconvert_exporter": "python",
   "pygments_lexer": "ipython3",
   "version": "3.9.7"
  },
  "orig_nbformat": 4
 },
 "nbformat": 4,
 "nbformat_minor": 2
}
