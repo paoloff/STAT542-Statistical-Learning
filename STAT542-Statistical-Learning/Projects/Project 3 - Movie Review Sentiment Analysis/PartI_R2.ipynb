{
 "cells": [
  {
   "cell_type": "markdown",
   "id": "a9db5c34",
   "metadata": {},
   "source": [
    "# Project 3 - Movie Review Sentiment Analysis\n",
    "# STAT 542 Statistical Learning - Fall 2022"
   ]
  },
  {
   "cell_type": "markdown",
   "id": "c4ec7637",
   "metadata": {},
   "source": [
    "## 1. Introduction\n",
    "\n",
    "-  Sentiment analysis is a tool for classifying people's impression of a product or topic.\n",
    "-  Using sentiment analysis, an algorithm can read a text written in natural language and map it to a scale ranging from positive to negative feelings.\n",
    "-  Because it is able to interpret human language, sentiment analysis is widely used in many online platforms.\n",
    "-  For instance, companies use sentiment analysis to gain direct feedback of customers of a product."
   ]
  },
  {
   "cell_type": "markdown",
   "id": "214b7312",
   "metadata": {},
   "source": [
    "## 2. Overview of the project\n",
    "\n",
    "- In this project, we create a sentiment analysis model to interpret movie reviews in the IMDB website.\n",
    "- The data consists of 50000 reviews which have scores from 0 to 10.\n",
    "- If the score is below or equal to 4, it is classified as negative. If the score is 7 or bigger, it is classified as positive (the reviews with scores of 5 and 6 are excluded from this analysis).\n",
    "- The goal of the algorithm is to guess if the review is negative or positive directly from the text written by the reviewer."
   ]
  },
  {
   "cell_type": "markdown",
   "id": "41510cff",
   "metadata": {},
   "source": [
    "## 3. Data processing\n",
    "\n",
    "The data set, located in the file \"alldata.tsv\", is a table with 50000 rows and 4 columns. Each row represents a review, while the columns represent:\n",
    "\n",
    "1. Id, the identification number of each review\n",
    "    \n",
    "2.  Sentiment, 0 for negative and 1 for positive\n",
    "    \n",
    "3. Score, from 0 to 10 and excluding 5 and 6.\n",
    "    \n",
    "4. Review, the actual text written by the reviewer.\n",
    "    \n",
    "The data processing consists of 2 main steps: (1) removing irrelevant symbols and (2) filtering the text using a vocabulary."
   ]
  },
  {
   "cell_type": "markdown",
   "id": "6bf6f47d",
   "metadata": {},
   "source": [
    "## 4. Model \n",
    "\n",
    "We use both R and Python to build our model. R is first used to identify the meaningful terms in the reviews. The vocabulary of extracted terms is then passed to Python to build the final model.\n",
    "\n",
    "The detailed steps to build and test our classification model are:\n",
    "\n",
    "1. Clean the data by removing punctuation marks and stop words.\n",
    "    \n",
    "2. From the cleaned reviews, build a vocabulary using all appearing N-grams terms, with N varying between 1 to 4 (individual words up to 4 sequential words).\n",
    "    \n",
    "3. Vectorize the reviews using Count Vectorization of the N-grams.\n",
    "\n",
    "4. Reduce the size of the vocabulary to less than 1000 terms by using Logistic Regression with Lasso regularization **(main step done in R on this notebook)**.\n",
    "\n",
    "5. Re-vectorize all reviews using the reduced vocabulary of N-grams found by Lasso.\n",
    "    \n",
    "6. Train a Neural Network by feeding the review vectors **(main step done in Python on the next notebook)**.\n",
    "\n",
    "7. Evaluate the AUC of the Neural Network model on a test set.\n",
    "\n",
    "In the next few sessions, the walk through all the computations done in this Project.\n",
    "\n",
    "\n",
    "---\n"
   ]
  },
  {
   "cell_type": "markdown",
   "id": "13ffbe83",
   "metadata": {},
   "source": [
    "# Part I. Vocabulary Reduction using R"
   ]
  },
  {
   "cell_type": "code",
   "execution_count": 3,
   "id": "0e73ee40",
   "metadata": {},
   "outputs": [
    {
     "name": "stderr",
     "output_type": "stream",
     "text": [
      "Loading required package: Matrix\n",
      "\n",
      "Loaded glmnet 4.1-4\n",
      "\n"
     ]
    }
   ],
   "source": [
    "library(\"text2vec\")\n",
    "library(\"glmnet\")"
   ]
  },
  {
   "cell_type": "markdown",
   "id": "13d731b7",
   "metadata": {},
   "source": [
    "### Generating the vocabulary\n",
    "\n",
    "First, we extract all data and take a look at it"
   ]
  },
  {
   "cell_type": "code",
   "execution_count": 4,
   "id": "5e34d812",
   "metadata": {},
   "outputs": [
    {
     "data": {
      "text/html": [
       "<table class=\"dataframe\">\n",
       "<caption>A data.frame: 2 × 4</caption>\n",
       "<thead>\n",
       "\t<tr><th></th><th scope=col>id</th><th scope=col>sentiment</th><th scope=col>score</th><th scope=col>review</th></tr>\n",
       "\t<tr><th></th><th scope=col>&lt;int&gt;</th><th scope=col>&lt;int&gt;</th><th scope=col>&lt;int&gt;</th><th scope=col>&lt;chr&gt;</th></tr>\n",
       "</thead>\n",
       "<tbody>\n",
       "\t<tr><th scope=row>1</th><td>1</td><td>1</td><td>10</td><td>Naturally in a film who's main themes are of mortality, nostalgia, and loss of innocence it is perhaps not surprising that it is rated more highly by older viewers than younger ones. However there is a craftsmanship and completeness to the film which anyone can enjoy. The pace is steady and constant, the characters full and engaging, the relationships and interactions natural showing that you do not need floods of tears to show emotion, screams to show fear, shouting to show dispute or violence to show anger. Naturally Joyce's short story lends the film a ready made structure as perfect as a polished diamond, but the small changes Huston makes such as the inclusion of the poem fit in neatly. It is truly a masterpiece of tact, subtlety and overwhelming beauty.                                                                                                                               </td></tr>\n",
       "\t<tr><th scope=row>2</th><td>2</td><td>0</td><td> 2</td><td>This movie is a disaster within a disaster film. It is full of great action scenes, which are only meaningful if you throw away all sense of reality. Let's see, word to the wise, lava burns you; steam burns you. You can't stand next to lava. Diverting a minor lava flow is difficult, let alone a significant one. Scares me to think that some might actually believe what they saw in this movie.&lt;br /&gt;&lt;br /&gt;Even worse is the significant amount of talent that went into making this film. I mean the acting is actually very good. The effects are above average. Hard to believe somebody read the scripts for this and allowed all this talent to be wasted. I guess my suggestion would be that if this movie is about to start on TV ... look away! It is like a train wreck: it is so awful that once you know what is coming, you just have to watch. Look away and spend your time on more meaningful content.</td></tr>\n",
       "</tbody>\n",
       "</table>\n"
      ],
      "text/latex": [
       "A data.frame: 2 × 4\n",
       "\\begin{tabular}{r|llll}\n",
       "  & id & sentiment & score & review\\\\\n",
       "  & <int> & <int> & <int> & <chr>\\\\\n",
       "\\hline\n",
       "\t1 & 1 & 1 & 10 & Naturally in a film who's main themes are of mortality, nostalgia, and loss of innocence it is perhaps not surprising that it is rated more highly by older viewers than younger ones. However there is a craftsmanship and completeness to the film which anyone can enjoy. The pace is steady and constant, the characters full and engaging, the relationships and interactions natural showing that you do not need floods of tears to show emotion, screams to show fear, shouting to show dispute or violence to show anger. Naturally Joyce's short story lends the film a ready made structure as perfect as a polished diamond, but the small changes Huston makes such as the inclusion of the poem fit in neatly. It is truly a masterpiece of tact, subtlety and overwhelming beauty.                                                                                                                               \\\\\n",
       "\t2 & 2 & 0 &  2 & This movie is a disaster within a disaster film. It is full of great action scenes, which are only meaningful if you throw away all sense of reality. Let's see, word to the wise, lava burns you; steam burns you. You can't stand next to lava. Diverting a minor lava flow is difficult, let alone a significant one. Scares me to think that some might actually believe what they saw in this movie.<br /><br />Even worse is the significant amount of talent that went into making this film. I mean the acting is actually very good. The effects are above average. Hard to believe somebody read the scripts for this and allowed all this talent to be wasted. I guess my suggestion would be that if this movie is about to start on TV ... look away! It is like a train wreck: it is so awful that once you know what is coming, you just have to watch. Look away and spend your time on more meaningful content.\\\\\n",
       "\\end{tabular}\n"
      ],
      "text/markdown": [
       "\n",
       "A data.frame: 2 × 4\n",
       "\n",
       "| <!--/--> | id &lt;int&gt; | sentiment &lt;int&gt; | score &lt;int&gt; | review &lt;chr&gt; |\n",
       "|---|---|---|---|---|\n",
       "| 1 | 1 | 1 | 10 | Naturally in a film who's main themes are of mortality, nostalgia, and loss of innocence it is perhaps not surprising that it is rated more highly by older viewers than younger ones. However there is a craftsmanship and completeness to the film which anyone can enjoy. The pace is steady and constant, the characters full and engaging, the relationships and interactions natural showing that you do not need floods of tears to show emotion, screams to show fear, shouting to show dispute or violence to show anger. Naturally Joyce's short story lends the film a ready made structure as perfect as a polished diamond, but the small changes Huston makes such as the inclusion of the poem fit in neatly. It is truly a masterpiece of tact, subtlety and overwhelming beauty.                                                                                                                                |\n",
       "| 2 | 2 | 0 |  2 | This movie is a disaster within a disaster film. It is full of great action scenes, which are only meaningful if you throw away all sense of reality. Let's see, word to the wise, lava burns you; steam burns you. You can't stand next to lava. Diverting a minor lava flow is difficult, let alone a significant one. Scares me to think that some might actually believe what they saw in this movie.&lt;br /&gt;&lt;br /&gt;Even worse is the significant amount of talent that went into making this film. I mean the acting is actually very good. The effects are above average. Hard to believe somebody read the scripts for this and allowed all this talent to be wasted. I guess my suggestion would be that if this movie is about to start on TV ... look away! It is like a train wreck: it is so awful that once you know what is coming, you just have to watch. Look away and spend your time on more meaningful content. |\n",
       "\n"
      ],
      "text/plain": [
       "  id sentiment score\n",
       "1 1  1         10   \n",
       "2 2  0          2   \n",
       "  review                                                                                                                                                                                                                                                                                                                                                                                                                                                                                                                                                                                                                                                                                                                                                                                                                                                                                                                          \n",
       "1 Naturally in a film who's main themes are of mortality, nostalgia, and loss of innocence it is perhaps not surprising that it is rated more highly by older viewers than younger ones. However there is a craftsmanship and completeness to the film which anyone can enjoy. The pace is steady and constant, the characters full and engaging, the relationships and interactions natural showing that you do not need floods of tears to show emotion, screams to show fear, shouting to show dispute or violence to show anger. Naturally Joyce's short story lends the film a ready made structure as perfect as a polished diamond, but the small changes Huston makes such as the inclusion of the poem fit in neatly. It is truly a masterpiece of tact, subtlety and overwhelming beauty.                                                                                                                               \n",
       "2 This movie is a disaster within a disaster film. It is full of great action scenes, which are only meaningful if you throw away all sense of reality. Let's see, word to the wise, lava burns you; steam burns you. You can't stand next to lava. Diverting a minor lava flow is difficult, let alone a significant one. Scares me to think that some might actually believe what they saw in this movie.<br /><br />Even worse is the significant amount of talent that went into making this film. I mean the acting is actually very good. The effects are above average. Hard to believe somebody read the scripts for this and allowed all this talent to be wasted. I guess my suggestion would be that if this movie is about to start on TV ... look away! It is like a train wreck: it is so awful that once you know what is coming, you just have to watch. Look away and spend your time on more meaningful content."
      ]
     },
     "metadata": {},
     "output_type": "display_data"
    }
   ],
   "source": [
    "train = read.table(\"alldata.tsv\",\n",
    "                   stringsAsFactors = FALSE,\n",
    "                   header = TRUE)\n",
    "\n",
    "head(train,n = 2L)"
   ]
  },
  {
   "cell_type": "markdown",
   "id": "899e1701",
   "metadata": {},
   "source": [
    "Remove stop-words from the list given below"
   ]
  },
  {
   "cell_type": "code",
   "execution_count": 5,
   "id": "6422a083",
   "metadata": {},
   "outputs": [
    {
     "name": "stderr",
     "output_type": "stream",
     "text": [
      "as(<dgTMatrix>, \"dgCMatrix\") is deprecated since Matrix 1.5-0; do as(., \"CsparseMatrix\") instead\n",
      "\n"
     ]
    }
   ],
   "source": [
    "stop_words = c(\"i\", \"me\", \"my\", \"myself\", \n",
    "               \"we\", \"our\", \"ours\", \"ourselves\", \n",
    "               \"you\", \"your\", \"yours\", \n",
    "               \"their\", \"they\", \"his\", \"her\", \n",
    "               \"she\", \"he\", \"a\", \"an\", \"and\",\n",
    "               \"is\", \"was\", \"are\", \"were\", \n",
    "               \"him\", \"himself\", \"has\", \"have\", \n",
    "               \"it\", \"its\", \"the\", \"us\")\n",
    "\n",
    "it_train = itoken(train$review,\n",
    "                  preprocessor = tolower, \n",
    "                  tokenizer = word_tokenizer)\n",
    "\n",
    "tmp.vocab = create_vocabulary(it_train, \n",
    "                              stopwords = stop_words, \n",
    "                              ngram = c(1L,4L))\n",
    "\n",
    "tmp.vocab = prune_vocabulary(tmp.vocab, term_count_min = 10,\n",
    "                             doc_proportion_max = 0.5,\n",
    "                             doc_proportion_min = 0.001)\n",
    "\n",
    "dtm_train = create_dtm(it_train, vocab_vectorizer(tmp.vocab))"
   ]
  },
  {
   "cell_type": "markdown",
   "id": "5803acbf",
   "metadata": {},
   "source": [
    "Now, use Logistic Regression with Lasso Regularization to reduce the number of words in the vocabulary"
   ]
  },
  {
   "cell_type": "code",
   "execution_count": 7,
   "id": "071017fc",
   "metadata": {},
   "outputs": [
    {
     "name": "stdout",
     "output_type": "stream",
     "text": [
      "  [1]     0     1     2     3     4     4     6     7    11    15    18    22\n",
      " [13]    25    39    48    57    67    83    97   114   131   153   174   206\n",
      " [25]   238   270   303   338   389   437   489   561   643   740   859   982\n",
      " [37]  1126  1281  1471  1711  1962  2262  2585  2934  3273  3667  4087  4497\n",
      " [49]  4890  5321  5735  6158  6587  7018  7400  7747  8086  8447  8778  9054\n",
      " [61]  9376  9646  9886 10117 10354 10574 10760 10983 11150 11286 11421 11529\n",
      " [73] 11666 11776 11860 11965 12053 12142 12232 12352 12419 12495 12542 12594\n",
      " [85] 12631 12663 12705 12738 12776 12914 12882 12994 13038 13076 13115 13141\n",
      " [97] 13190 13212 13253 13270\n"
     ]
    }
   ],
   "source": [
    "set.seed(3213)\n",
    "tmpfit = glmnet(x = dtm_train, \n",
    "                y = train$sentiment, \n",
    "                alpha = 1,\n",
    "                family='binomial')\n",
    "print(tmpfit$df)"
   ]
  },
  {
   "cell_type": "markdown",
   "id": "fad365b7",
   "metadata": {},
   "source": [
    "Then, take the largest vocabulary size which is less than 2000 (position 41):"
   ]
  },
  {
   "cell_type": "code",
   "execution_count": 8,
   "id": "36023b80",
   "metadata": {},
   "outputs": [],
   "source": [
    "myvocab = colnames(dtm_train)[which(tmpfit$beta[, 41] != 0)]"
   ]
  },
  {
   "cell_type": "markdown",
   "id": "f522f79d",
   "metadata": {},
   "source": [
    "Now, use this smaller vocabulary to run another Lasso step:"
   ]
  },
  {
   "cell_type": "code",
   "execution_count": 10,
   "id": "a6698ee0",
   "metadata": {},
   "outputs": [
    {
     "name": "stdout",
     "output_type": "stream",
     "text": [
      " [1]    0    1    2    3    4    4    6    7   11   14   17   21   24   39   47\n",
      "[16]   55   66   83   97  111  127  149  169  197  225  261  287  324  367  412\n",
      "[31]  454  527  589  675  774  875 1005 1131 1287 1452 1572 1630 1659 1672 1682\n",
      "[46] 1689 1693 1698 1699 1701 1703 1706 1709 1711 1715 1720 1722 1728 1731 1733\n",
      "[61] 1736 1740 1740 1743 1743 1745 1746 1750 1750 1751 1754 1757 1758 1760 1763\n",
      "[76] 1765 1767 1768 1769 1770 1770 1773 1773 1773 1776 1776 1777 1778 1778 1780\n",
      "[91] 1782 1783 1783\n"
     ]
    }
   ],
   "source": [
    "it_train = itoken(train$review,\n",
    "                    preprocessor = tolower, \n",
    "                    tokenizer = word_tokenizer)\n",
    "\n",
    "vectorizer = vocab_vectorizer(create_vocabulary(myvocab, \n",
    "                                                  ngram = c(1L, 2L)))\n",
    "dtm_train = create_dtm(it_train, vectorizer)\n",
    "\n",
    "\n",
    "set.seed(3213)\n",
    "tmpfit = glmnet(x = dtm_train, \n",
    "                y = train$sentiment, \n",
    "                alpha = 1,\n",
    "                family='binomial')\n",
    "print(tmpfit$df)"
   ]
  },
  {
   "cell_type": "markdown",
   "id": "a1f9d5fa",
   "metadata": {},
   "source": [
    "Finally, we take the df closest to 1000 (position 37, df = 1005):"
   ]
  },
  {
   "cell_type": "code",
   "execution_count": 11,
   "id": "93742efb",
   "metadata": {},
   "outputs": [],
   "source": [
    "myvocab2 = colnames(dtm_train)[which(tmpfit$beta[, 37] != 0)]"
   ]
  },
  {
   "cell_type": "markdown",
   "id": "2cae55aa",
   "metadata": {},
   "source": [
    "Then, export the term in this vocabulary to csv:"
   ]
  },
  {
   "cell_type": "code",
   "execution_count": 12,
   "id": "786ebede",
   "metadata": {},
   "outputs": [],
   "source": [
    "write.csv(myvocab2, \"myvocab2.csv\")"
   ]
  }
 ],
 "metadata": {
  "kernelspec": {
   "display_name": "R",
   "language": "R",
   "name": "ir"
  },
  "language_info": {
   "codemirror_mode": "r",
   "file_extension": ".r",
   "mimetype": "text/x-r-source",
   "name": "R",
   "pygments_lexer": "r",
   "version": "4.2.2"
  }
 },
 "nbformat": 4,
 "nbformat_minor": 5
}
