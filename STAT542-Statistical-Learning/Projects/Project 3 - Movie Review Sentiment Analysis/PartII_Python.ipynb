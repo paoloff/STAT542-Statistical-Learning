{
 "cells": [
  {
   "cell_type": "markdown",
   "metadata": {},
   "source": [
    "# Part II. Training and Testing the Final Model in Python"
   ]
  },
  {
   "cell_type": "markdown",
   "metadata": {},
   "source": [
    "## II.a Processing the reviews and obtaining final vocabulary"
   ]
  },
  {
   "cell_type": "markdown",
   "metadata": {},
   "source": [
    "First, import all libraries"
   ]
  },
  {
   "cell_type": "code",
   "execution_count": 1,
   "metadata": {},
   "outputs": [],
   "source": [
    "import pandas as pd\n",
    "import sklearn\n",
    "import string\n",
    "from keras.models import Sequential\n",
    "from keras.layers import Dense\n",
    "from keras.layers import Dropout\n",
    "from keras import metrics\n",
    "import numpy as np\n",
    "from sklearn.metrics import roc_auc_score\n",
    "from sklearn.feature_extraction.text import CountVectorizer\n",
    "from sklearn.metrics import roc_curve\n",
    "import matplotlib.pyplot as plt"
   ]
  },
  {
   "cell_type": "markdown",
   "metadata": {},
   "source": [
    "Then, import and load the vocabulary with 1005 words to a list (the number of terms will be trimmed down to 980 later):"
   ]
  },
  {
   "cell_type": "code",
   "execution_count": 2,
   "metadata": {},
   "outputs": [],
   "source": [
    "words = pd.read_csv(\"myvocab2.csv\")\n",
    "word_list = list(words['x'])"
   ]
  },
  {
   "cell_type": "markdown",
   "metadata": {},
   "source": [
    "Now, pre-process the text: removing all punctuations and replacing underscores with blank space"
   ]
  },
  {
   "cell_type": "code",
   "execution_count": 3,
   "metadata": {},
   "outputs": [],
   "source": [
    "vocabR = []\n",
    "for word in word_list:\n",
    "    vocabR.append(word.translate(str.maketrans('_',' ','')).lower())\n",
    "vocab2R = []\n",
    "for word in vocabR:\n",
    "    vocab2R.append(word.translate(str.maketrans('','',string.punctuation)).lower())"
   ]
  },
  {
   "cell_type": "markdown",
   "metadata": {},
   "source": [
    "Now, we read all review texts from \"alldata.tsv\" and remove punctuation. We also had to remove words ending with \"br\" since it is a html code and not part of the text."
   ]
  },
  {
   "cell_type": "code",
   "execution_count": 4,
   "metadata": {},
   "outputs": [],
   "source": [
    "df = pd.read_table(\"alldata.tsv\")\n",
    "sentiment_list = list(df['sentiment'])\n",
    "corpus = []\n",
    "\n",
    "for document in df['review']:\n",
    "    clean = document.translate(str.maketrans('','',string.punctuation)).lower()\n",
    "    words = clean.split()\n",
    "    filtered = []\n",
    "    for word in words:\n",
    "        if word[len(word) - 2] == 'b' and word[len(word) - 1] == 'r':\n",
    "                word = word[0:(len(word) - 2)]\n",
    "        filtered.append(word)\n",
    "    new_string = ' '.join(filtered)\n",
    "    corpus.append(new_string)"
   ]
  },
  {
   "cell_type": "markdown",
   "metadata": {},
   "source": [
    "Now, we will vectorize all reviews, where each review will be mapped to a vector with dimension equal to the number of N-grams in the vocabulary. We will use the bag-of-words model for this step.\n",
    "\n",
    "The bag-of-words model of a text is similar to a one-hot encoding of a word, except that the value of each feature in the encoded vector is not necessarily 1 or 0, but how many times the N-gram corresponding to that feature occurs in that review."
   ]
  },
  {
   "cell_type": "code",
   "execution_count": 5,
   "metadata": {},
   "outputs": [
    {
     "name": "stdout",
     "output_type": "stream",
     "text": [
      "18613240\n"
     ]
    }
   ],
   "source": [
    "vectorizer = CountVectorizer(ngram_range = (1,4))\n",
    "Xc = vectorizer.fit_transform(corpus)\n",
    "names = vectorizer.get_feature_names_out()\n",
    "vocab_size = len(names)\n",
    "print(vocab_size)"
   ]
  },
  {
   "cell_type": "markdown",
   "metadata": {},
   "source": [
    "Thus, the vocabulary size is 18613240. Let's see some of the N-grams extracted from the reviews:"
   ]
  },
  {
   "cell_type": "code",
   "execution_count": 6,
   "metadata": {},
   "outputs": [
    {
     "name": "stdout",
     "output_type": "stream",
     "text": [
      "['00' '00 agent' '00 agent difficult' '00 agent difficult level'\n",
      " '00 agent level' '00 agent level is' '00 comes' '00 comes back'\n",
      " '00 comes back from' '00 for']\n"
     ]
    }
   ],
   "source": [
    "print(names[:10])"
   ]
  },
  {
   "cell_type": "markdown",
   "metadata": {},
   "source": [
    "Now, from these 18613240 N-grams, we will only keep the ones that are inside the vocabulary found in R:"
   ]
  },
  {
   "cell_type": "code",
   "execution_count": 7,
   "metadata": {},
   "outputs": [],
   "source": [
    "inds = []\n",
    "\n",
    "for i in range(vocab_size):\n",
    "    if names[i] in vocab2R:\n",
    "        inds.append(i)"
   ]
  },
  {
   "cell_type": "markdown",
   "metadata": {},
   "source": [
    "The number of terms of the vocabulary in Python is 980:"
   ]
  },
  {
   "cell_type": "code",
   "execution_count": 8,
   "metadata": {},
   "outputs": [
    {
     "name": "stdout",
     "output_type": "stream",
     "text": [
      "The Python dictionary has 980 terms\n"
     ]
    }
   ],
   "source": [
    "print('The Python dictionary has',len(names[inds]),'terms')\n"
   ]
  },
  {
   "cell_type": "markdown",
   "metadata": {},
   "source": [
    "Let's save the final vocabulary to a csv file:"
   ]
  },
  {
   "cell_type": "code",
   "execution_count": 9,
   "metadata": {},
   "outputs": [],
   "source": [
    "final_vocab = pd.DataFrame(names[inds])\n",
    "final_vocab.to_csv('final_vocab.cvs', index = False)"
   ]
  },
  {
   "cell_type": "markdown",
   "metadata": {},
   "source": [
    "## II.b Neural Network model"
   ]
  },
  {
   "cell_type": "markdown",
   "metadata": {},
   "source": [
    "The Python model is a neural network. To run the final model, we need the inputs X and outputs y.\n",
    "\n",
    "The inputs are the columns in the vectorized review matrix which correspond to the terms in the vocabulary. The output is the sentiment of each review. Later we split X and Y into train and test data.\n",
    "\n",
    "Both X and y are transformed to numpy arrays:"
   ]
  },
  {
   "cell_type": "code",
   "execution_count": 10,
   "metadata": {},
   "outputs": [],
   "source": [
    "X = np.array(Xc[:,inds].toarray())\n",
    "y = np.array(sentiment_list)"
   ]
  },
  {
   "cell_type": "markdown",
   "metadata": {},
   "source": [
    "Now let's separate X and y intro train and test data. Let's take the first split, which is found by taking the review indices in the first column of 'project3_splits.csv':\n"
   ]
  },
  {
   "cell_type": "code",
   "execution_count": 11,
   "metadata": {},
   "outputs": [],
   "source": [
    "train_test_df = pd.read_csv('project3_splits.csv')\n",
    "test_ind = np.array(list(train_test_df['split_1']))-1\n",
    "train_ind = np.array(list(set(list(range(0,50000)))-set(test_ind)))\n",
    "traindata = X[train_ind]\n",
    "trainlabels = y[train_ind]\n",
    "testdata = X[test_ind]\n",
    "testlabels = y[test_ind]"
   ]
  },
  {
   "cell_type": "markdown",
   "metadata": {},
   "source": [
    "Finally let's run the neural network (NN) model. It has one hidden layer with 20 inputs, with ReLU activation. The output is a single number between 0 and 1, obtained by the sigmoid function. We train all NN for 20 epochs. Each split takes only a few seconds to run."
   ]
  },
  {
   "cell_type": "code",
   "execution_count": 12,
   "metadata": {},
   "outputs": [
    {
     "name": "stdout",
     "output_type": "stream",
     "text": [
      "Epoch 1/20\n",
      "782/782 - 3s - loss: 0.3339 - auc: 0.9386 - 3s/epoch - 3ms/step\n",
      "Epoch 2/20\n",
      "782/782 - 1s - loss: 0.2453 - auc: 0.9638 - 863ms/epoch - 1ms/step\n",
      "Epoch 3/20\n",
      "782/782 - 1s - loss: 0.2354 - auc: 0.9667 - 875ms/epoch - 1ms/step\n",
      "Epoch 4/20\n",
      "782/782 - 1s - loss: 0.2292 - auc: 0.9684 - 860ms/epoch - 1ms/step\n",
      "Epoch 5/20\n",
      "782/782 - 1s - loss: 0.2250 - auc: 0.9696 - 866ms/epoch - 1ms/step\n",
      "Epoch 6/20\n",
      "782/782 - 1s - loss: 0.2215 - auc: 0.9704 - 919ms/epoch - 1ms/step\n",
      "Epoch 7/20\n",
      "782/782 - 1s - loss: 0.2186 - auc: 0.9711 - 896ms/epoch - 1ms/step\n",
      "Epoch 8/20\n",
      "782/782 - 1s - loss: 0.2167 - auc: 0.9717 - 874ms/epoch - 1ms/step\n",
      "Epoch 9/20\n",
      "782/782 - 1s - loss: 0.2137 - auc: 0.9724 - 880ms/epoch - 1ms/step\n",
      "Epoch 10/20\n",
      "782/782 - 1s - loss: 0.2121 - auc: 0.9729 - 814ms/epoch - 1ms/step\n",
      "Epoch 11/20\n",
      "782/782 - 1s - loss: 0.2105 - auc: 0.9733 - 832ms/epoch - 1ms/step\n",
      "Epoch 12/20\n",
      "782/782 - 1s - loss: 0.2083 - auc: 0.9738 - 835ms/epoch - 1ms/step\n",
      "Epoch 13/20\n",
      "782/782 - 1s - loss: 0.2065 - auc: 0.9743 - 846ms/epoch - 1ms/step\n",
      "Epoch 14/20\n",
      "782/782 - 1s - loss: 0.2044 - auc: 0.9747 - 831ms/epoch - 1ms/step\n",
      "Epoch 15/20\n",
      "782/782 - 1s - loss: 0.2033 - auc: 0.9750 - 907ms/epoch - 1ms/step\n",
      "Epoch 16/20\n",
      "782/782 - 1s - loss: 0.2017 - auc: 0.9755 - 823ms/epoch - 1ms/step\n",
      "Epoch 17/20\n",
      "782/782 - 1s - loss: 0.2004 - auc: 0.9758 - 859ms/epoch - 1ms/step\n",
      "Epoch 18/20\n",
      "782/782 - 1s - loss: 0.1990 - auc: 0.9762 - 826ms/epoch - 1ms/step\n",
      "Epoch 19/20\n",
      "782/782 - 1s - loss: 0.1976 - auc: 0.9765 - 854ms/epoch - 1ms/step\n",
      "Epoch 20/20\n",
      "782/782 - 1s - loss: 0.1962 - auc: 0.9768 - 857ms/epoch - 1ms/step\n"
     ]
    },
    {
     "data": {
      "text/plain": [
       "<keras.src.callbacks.History at 0x2c5c227f190>"
      ]
     },
     "execution_count": 12,
     "metadata": {},
     "output_type": "execute_result"
    }
   ],
   "source": [
    "model = Sequential()\n",
    "model.add(Dense(20, input_shape=(980,), activation='relu'))\n",
    "model.add(Dense(1, activation='sigmoid'))\n",
    "model.compile(loss='binary_crossentropy', metrics=[metrics.AUC()])\n",
    "model.fit(traindata, trainlabels, epochs=20, verbose=2)"
   ]
  },
  {
   "cell_type": "markdown",
   "metadata": {},
   "source": [
    "Finally, let's evaluate the AUC of the trained NN on the test data:\n"
   ]
  },
  {
   "cell_type": "code",
   "execution_count": 13,
   "metadata": {},
   "outputs": [
    {
     "name": "stdout",
     "output_type": "stream",
     "text": [
      "782/782 [==============================] - 1s 846us/step\n",
      "0.962114226440135\n"
     ]
    }
   ],
   "source": [
    "Ypred = model.predict(testdata)\n",
    "print(roc_auc_score(testlabels, Ypred))"
   ]
  },
  {
   "cell_type": "markdown",
   "metadata": {},
   "source": [
    "For all 5 splits, the AUC is bigger than 0.96. Finally, let's visualize the ROC:\n",
    "\n"
   ]
  },
  {
   "cell_type": "code",
   "execution_count": 14,
   "metadata": {},
   "outputs": [
    {
     "data": {
      "text/plain": [
       "Text(0, 0.5, 'True positive rate')"
      ]
     },
     "execution_count": 14,
     "metadata": {},
     "output_type": "execute_result"
    },
    {
     "data": {
      "image/png": "[encoded data removed]",
      "text/plain": [
       "<Figure size 640x480 with 1 Axes>"
      ]
     },
     "metadata": {},
     "output_type": "display_data"
    }
   ],
   "source": [
    "fpr_keras, tpr_keras, thresholds_keras = roc_curve(testlabels, Ypred)\n",
    "plt.plot(fpr_keras, tpr_keras)\n",
    "plt.xlabel(\"False positive rate\")\n",
    "plt.ylabel(\"True positive rate\")"
   ]
  },
  {
   "cell_type": "code",
   "execution_count": null,
   "metadata": {},
   "outputs": [],
   "source": []
  }
 ],
 "metadata": {
  "kernelspec": {
   "display_name": "Python 3 (ipykernel)",
   "language": "python",
   "name": "python3"
  },
  "language_info": {
   "codemirror_mode": {
    "name": "ipython",
    "version": 3
   },
   "file_extension": ".py",
   "mimetype": "text/x-python",
   "name": "python",
   "nbconvert_exporter": "python",
   "pygments_lexer": "ipython3",
   "version": "3.11.5"
  }
 },
 "nbformat": 4,
 "nbformat_minor": 2
}
