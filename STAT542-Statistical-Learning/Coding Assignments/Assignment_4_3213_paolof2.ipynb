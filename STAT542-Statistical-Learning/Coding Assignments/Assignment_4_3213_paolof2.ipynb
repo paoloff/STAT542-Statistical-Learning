{
 "cells": [
  {
   "cell_type": "markdown",
   "id": "3da77d75-81e8-4ad1-aeab-00848321a16b",
   "metadata": {},
   "source": [
    "**Stat 542 - Statistical Learning**\n",
    "\n",
    "**Fall 2022**\n",
    "\n",
    "**Coding Assignment #4**\n",
    "\n",
    "**Author: Paolo Furlanetto Ferrari**\n",
    "\n",
    "**Date: November 3, 2022**"
   ]
  },
  {
   "cell_type": "code",
   "execution_count": 116,
   "id": "fcd53774-7149-4f99-a901-482521ccf167",
   "metadata": {},
   "outputs": [],
   "source": [
    "import numpy as np\n",
    "import numpy.linalg as la\n",
    "import random\n",
    "import matplotlib.pyplot as plt\n",
    "import pandas as pd\n",
    "np.random.seed(3213)"
   ]
  },
  {
   "cell_type": "markdown",
   "id": "c2341d14-25f2-454f-b24d-6299b1df830d",
   "metadata": {},
   "source": [
    "# Part I"
   ]
  },
  {
   "cell_type": "markdown",
   "id": "57e9ea5b-0d69-461d-a7e8-c7933eff9173",
   "metadata": {},
   "source": [
    "## I.I Coding the EM functions"
   ]
  },
  {
   "cell_type": "markdown",
   "id": "0e3e784c-1270-472c-9397-ad3efdd9c24b",
   "metadata": {},
   "source": [
    "First I will code all the required functions for this part of the Assignment."
   ]
  },
  {
   "cell_type": "markdown",
   "id": "f45d9a5d-f307-4353-b9f4-cd1cec5002ef",
   "metadata": {},
   "source": [
    "i. Gaussian function"
   ]
  },
  {
   "cell_type": "code",
   "execution_count": 173,
   "id": "32fd1949-f2ee-4b72-8145-35cb44901035",
   "metadata": {},
   "outputs": [],
   "source": [
    "def gaussian(x, mu, sigma):\n",
    "    x = np.array(x)\n",
    "    mu = np.array(mu)\n",
    "    sigma = np.array(sigma)\n",
    "    k = 2\n",
    "    return np.exp(-0.5*np.matmul(np.matmul((x-mu).T, la.inv(sigma)), x-mu))/np.sqrt(((2*np.pi)**k)*np.abs(la.det(sigma)))"
   ]
  },
  {
   "cell_type": "markdown",
   "id": "31cadf8d-1f98-426b-858a-04ae69cf3a49",
   "metadata": {},
   "source": [
    "ii. Estep function"
   ]
  },
  {
   "cell_type": "code",
   "execution_count": 174,
   "id": "b2c6d9cd-1dfa-40da-b009-2399e5c6096a",
   "metadata": {},
   "outputs": [],
   "source": [
    "def estep(data, G, para):   \n",
    "    \n",
    "    prob = para['prob']\n",
    "    mean = para['mean']\n",
    "    sigma = para['sigma']   \n",
    "    N = data.shape[0]\n",
    "    gamma = np.zeros((N,G))\n",
    "    \n",
    "    for i in range(N):\n",
    "        sum_row = 0\n",
    "        for k in range(G):\n",
    "            gamma[i,k] = prob[k]*gaussian(data[i], mean[k], sigma)\n",
    "            sum_row += gamma[i,k]\n",
    "        gamma[i,:] = gamma[i,:]/sum_row\n",
    "    \n",
    "    return gamma"
   ]
  },
  {
   "cell_type": "markdown",
   "id": "2d788560-a3ea-48d8-bb01-77e7f4b85731",
   "metadata": {},
   "source": [
    "iii. Mstep function"
   ]
  },
  {
   "cell_type": "code",
   "execution_count": 50,
   "id": "8e0c3764-85e8-42da-871e-fc0aaf01cd2d",
   "metadata": {},
   "outputs": [],
   "source": [
    "def mstep(data, G, para, post_prob):\n",
    "    \n",
    "    N = data.shape[0]\n",
    "    n = data.shape[1]\n",
    "    mean = np.zeros((G, n))\n",
    "    sigma = np.zeros((n, n))\n",
    "    prob = np.zeros((G, 1))\n",
    "    \n",
    "    for k in range(G):\n",
    "        mean[k,:] = np.sum((post_prob[:,k].reshape(N,1)*data), axis=0)/np.sum(post_prob[:,k])\n",
    "        prob[k] = np.sum(post_prob[:,k])/N\n",
    "        for i in range(N):\n",
    "            sigma = sigma + (post_prob[i, k]*np.outer((data[i,:] - mean[k,:]),(data[i,:] - mean[k,:])))\n",
    "        \n",
    "    sigma = sigma/np.sum(post_prob)    \n",
    "        \n",
    "    para['prob'] = prob\n",
    "    para['mean'] = mean\n",
    "    para['sigma']  = sigma\n",
    "    \n",
    "    return para"
   ]
  },
  {
   "cell_type": "markdown",
   "id": "ad7e2e07-cdba-466a-8a4b-18be764a711c",
   "metadata": {},
   "source": [
    "iv. Log-likelihood function"
   ]
  },
  {
   "cell_type": "code",
   "execution_count": 53,
   "id": "dcb0df34-10bd-4c71-af0e-6a51e9329d62",
   "metadata": {},
   "outputs": [],
   "source": [
    "def loglik(data, G, para):\n",
    "    \n",
    "    N = data.shape[0]\n",
    "    prob = para['prob']\n",
    "    mean = para['mean']\n",
    "    sigma = para['sigma'] \n",
    "    prod = 1\n",
    "    \n",
    "    for i in range(N):    \n",
    "        sum_k = 0\n",
    "        for k in range(G):\n",
    "            sum_k += gaussian(data[i,:], mean[k,:], sigma)*prob[k]\n",
    "        prod = prod*sum_k\n",
    "    \n",
    "    return prod\n",
    "    \n"
   ]
  },
  {
   "cell_type": "markdown",
   "id": "95f00a44-0a8e-4e8b-b0d8-f39180431e0a",
   "metadata": {},
   "source": [
    "v. myEM function"
   ]
  },
  {
   "cell_type": "code",
   "execution_count": 93,
   "id": "0b0e496c-b0e2-4b3d-b2f3-c0bab4fc45c6",
   "metadata": {},
   "outputs": [],
   "source": [
    "def myEM(data, itmax, G, para):\n",
    "    \n",
    "    for t in range(itmax):\n",
    "        post_prob = estep(data, G, para)\n",
    "        para = mstep(data, G, para, post_prob)\n",
    "     \n",
    "    return para"
   ]
  },
  {
   "cell_type": "markdown",
   "id": "f6b33c82-0c7e-4f67-bb0a-c97981125654",
   "metadata": {},
   "source": [
    "## I.II Results of the EM code to the faithful data"
   ]
  },
  {
   "cell_type": "markdown",
   "id": "4ef00e78-015a-48dd-b3e4-93a068485b60",
   "metadata": {},
   "source": [
    "Now I will apply those functions to the \"faithful\" data.\n",
    "\n",
    "I obtained the data from R and exported it to a csv file called \"data.csv\"."
   ]
  },
  {
   "cell_type": "code",
   "execution_count": 674,
   "id": "7f5cba75-1e5b-44b1-8a1a-f79c41bb153b",
   "metadata": {},
   "outputs": [],
   "source": [
    "df = pd.read_csv(\"data.csv\")\n",
    "data = np.array(df)\n",
    "data = data[:,1:]\n",
    "\n"
   ]
  },
  {
   "cell_type": "markdown",
   "id": "69fa5443-9f40-4de0-8efd-49bfb1ec774d",
   "metadata": {},
   "source": [
    "Let's viualize the data to make sure it is correct."
   ]
  },
  {
   "cell_type": "code",
   "execution_count": 675,
   "id": "7c98e157-2221-4caf-8392-e1ddb1a5a6db",
   "metadata": {},
   "outputs": [
    {
     "data": {
      "image/png": "[encoded data removed]",
      "text/plain": [
       "<Figure size 432x288 with 1 Axes>"
      ]
     },
     "metadata": {
      "needs_background": "light"
     },
     "output_type": "display_data"
    }
   ],
   "source": [
    "for point in data:\n",
    "    plt.plot(point[0], point[1], 'bo')\n",
    "\n",
    "plt.show()"
   ]
  },
  {
   "cell_type": "markdown",
   "id": "96337a4a-4d78-4dd7-b13a-e16da5848822",
   "metadata": {},
   "source": [
    "First, let's apply the EM algorith to this data using 2 centers. To do that, let's define the initial covariance matrix, means and probability. I obtained these from running the provided R code in R using my ID seed 3213:"
   ]
  },
  {
   "cell_type": "code",
   "execution_count": 729,
   "id": "48a4d3da-6ba3-45ae-b7fd-5a71a99394e9",
   "metadata": {},
   "outputs": [],
   "source": [
    "sigma0 = [[1.2740839,13.802511], [13.802511, 183.500211]]\n",
    "G = 2\n",
    "para0 = {'prob':[0.49632353, 0.50367647], 'mean':[[3.3321926,70.0888889], [3.6411022,71.6934307]], 'sigma': sigma0}\n",
    "\n"
   ]
  },
  {
   "cell_type": "markdown",
   "id": "bcd903df-d73e-4d0b-9231-b9b309fdd06a",
   "metadata": {},
   "source": [
    "Then let's run the code for 20 iterations"
   ]
  },
  {
   "cell_type": "code",
   "execution_count": 730,
   "id": "69961dcf-0e14-4326-af73-2837ad6aa96c",
   "metadata": {},
   "outputs": [
    {
     "name": "stdout",
     "output_type": "stream",
     "text": [
      "Probability of each class:\n",
      "[[0.49332519]\n",
      " [0.50667481]]\n",
      "Mean of each class:\n",
      "[[ 3.2881073  69.71486281]\n",
      " [ 3.68219792 72.04810692]]\n",
      "Covariance matrix:\n",
      "[[  1.25911896  13.69658241]\n",
      " [ 13.69658241 182.78305041]]\n"
     ]
    }
   ],
   "source": [
    "\n",
    "para_EM = myEM(data, 20, G, para0)\n",
    "print('Probability of each class:') \n",
    "print(para_EM['prob'])\n",
    "\n",
    "print('Mean of each class:') \n",
    "print(para_EM['mean'])\n",
    "\n",
    "print('Covariance matrix:') \n",
    "print(para_EM['sigma'])\n",
    "\n"
   ]
  },
  {
   "cell_type": "markdown",
   "id": "b1a984c2-7552-4d21-9073-6fbc1f9516aa",
   "metadata": {},
   "source": [
    "The results agree with the ones obtained from R by rounding up to the 8 decimal digit."
   ]
  },
  {
   "cell_type": "markdown",
   "id": "4acefedc-0f01-4816-baef-499b249b103a",
   "metadata": {},
   "source": [
    "Now let's do the same procedure for 3 classes (G = 3). First, let's use the initial guesses from R (using seed = 3213):"
   ]
  },
  {
   "cell_type": "code",
   "execution_count": 727,
   "id": "bcf6c744-7dcc-47c0-ac00-65ac97957c37",
   "metadata": {},
   "outputs": [],
   "source": [
    "N = len(data)\n",
    "sigma0 = [[1.2714837, 13.674284], [13.674284, 181.713589]]\n",
    "G = 3\n",
    "para0 = {'prob':[0.35661765, 0.32352941, 0.31985294], 'mean':[[3.5822887,71.5979381], [3.6171818,72.3295455], [3.2515287, 68.6666667]], 'sigma': sigma0}"
   ]
  },
  {
   "cell_type": "code",
   "execution_count": 728,
   "id": "0e253ce1-c4b5-4a98-a529-dda2bf856171",
   "metadata": {},
   "outputs": [
    {
     "name": "stdout",
     "output_type": "stream",
     "text": [
      "Probability of each class:\n",
      "[[0.3562424 ]\n",
      " [0.32431578]\n",
      " [0.31944182]]\n",
      "Mean of each class:\n",
      "[[ 3.77721492 73.92543896]\n",
      " [ 3.77549978 74.2297951 ]\n",
      " [ 2.87290131 64.13621459]]\n",
      "Covariance matrix:\n",
      "[[  1.1204746   11.97522984]\n",
      " [ 11.97522984 162.67309642]]\n"
     ]
    }
   ],
   "source": [
    "para_EM = myEM(data, 20, G, para0)\n",
    "print('Probability of each class:') \n",
    "print(para_EM['prob'])\n",
    "\n",
    "print('Mean of each class:') \n",
    "print(para_EM['mean'])\n",
    "\n",
    "print('Covariance matrix:') \n",
    "print(para_EM['sigma'])\n"
   ]
  },
  {
   "cell_type": "markdown",
   "id": "6a0822bb-38ab-457f-87a6-747c3e91b1ba",
   "metadata": {},
   "source": [
    "The results agree with the ones obtained from R by rounding up to the 8 decimal digit."
   ]
  },
  {
   "cell_type": "markdown",
   "id": "ab15c9f7-ef77-4a09-b59a-d05ada3f3bda",
   "metadata": {},
   "source": [
    "## I.III EM expressions"
   ]
  },
  {
   "cell_type": "markdown",
   "id": "35558193-9fe3-4ba4-b4dc-c29382b1f1a9",
   "metadata": {},
   "source": [
    "Here I will list the expressions without derivations. I have put all derivations on a separate pdf file."
   ]
  },
  {
   "cell_type": "markdown",
   "id": "52484fba-b9c7-4bf4-88a6-08e7eccdf7fd",
   "metadata": {},
   "source": [
    "i. Marginal likelihood function:"
   ]
  },
  {
   "cell_type": "markdown",
   "id": "e1b45d6b-aeb6-4c63-ba7f-531341114120",
   "metadata": {},
   "source": [
    "$$\n",
    "L(x|p_{1:G},\\mu_{1:G},\\Sigma) = \\Pi_{i=1}^n \\Sigma_{k=1}^G p_k N(x_i, \\mu_k, \\Sigma)\n",
    "$$"
   ]
  },
  {
   "cell_type": "markdown",
   "id": "98af7300-69b6-4ec4-b6cb-3360cf7e2dc2",
   "metadata": {},
   "source": [
    "Where $N(x_i, \\mu_k, \\Sigma)$ is the normal distribution with average $\\mu_k$ and covariance matrix $\\Sigma$:"
   ]
  },
  {
   "cell_type": "markdown",
   "id": "0374d2ed-f96e-4b21-ac06-e0129030585e",
   "metadata": {},
   "source": [
    "$$\n",
    "N(x_i, \\mu_k, \\Sigma) = \\frac{1}{\\sqrt{(2\\pi)^k \\det(\\Sigma)}} \\exp[-0.5 (x_i - \\mu_k)\\Sigma^{-1} (x_i - \\mu_k)^T]\n",
    "$$ "
   ]
  },
  {
   "cell_type": "markdown",
   "id": "a895e3e8-b5d8-4faa-8437-09b13bc91341",
   "metadata": {},
   "source": [
    "ii. Complete likelihood function:"
   ]
  },
  {
   "cell_type": "markdown",
   "id": "3331b784-1442-4f7e-8c78-57ed934a0015",
   "metadata": {},
   "source": [
    "$$\n",
    "L(x, Z|p_{1:G},\\mu_{1:G},\\Sigma) = \\Pi_{i=1}^n \\Pi_{k=1}^G p_k [N(x_i, \\mu_k, \\Sigma)]^{1_{Z_i=k}}\n",
    "$$"
   ]
  },
  {
   "cell_type": "markdown",
   "id": "ae10c9ff-ca96-44a4-9b32-f91bbfe8e53b",
   "metadata": {},
   "source": [
    "iii. Distribution of Zi at the E-step:"
   ]
  },
  {
   "cell_type": "markdown",
   "id": "65d75076-f3e0-4f74-9b56-e7d0b4258222",
   "metadata": {},
   "source": [
    "$$\n",
    "w_{ik} = \\frac{p_k N(x_i, \\mu_k, \\Sigma)}{\\Sigma_{l=1}^G p_k N(x_i, \\mu_l, \\Sigma)}\n",
    "$$"
   ]
  },
  {
   "cell_type": "markdown",
   "id": "465f8d6e-ceaa-4043-91f9-865d83649bf2",
   "metadata": {},
   "source": [
    "iv. Objective function of M-step:"
   ]
  },
  {
   "cell_type": "markdown",
   "id": "2e5c4098-5169-4f74-af63-8c1553d5ea11",
   "metadata": {},
   "source": [
    "$$\n",
    "O = \\Sigma_{i=1}^n \\Sigma_{k=1}^G w_{ik} \\log{[p_k N(x_i, \\mu_k, \\Sigma)]}\n",
    "$$"
   ]
  },
  {
   "cell_type": "markdown",
   "id": "65b1dca8-83d3-4547-b579-3c65166a578e",
   "metadata": {},
   "source": [
    "v.i. Updating formula for $p_{1:G}$"
   ]
  },
  {
   "cell_type": "markdown",
   "id": "0f17d9e9-d70c-419d-89d5-3c81ce237ca3",
   "metadata": {},
   "source": [
    "$$\n",
    "p_k = \\frac{\\Sigma_{i=1}^n w_{ik}}{n}\n",
    "$$"
   ]
  },
  {
   "cell_type": "markdown",
   "id": "810568e8-af03-4c71-9ecc-b95fc60f11e5",
   "metadata": {},
   "source": [
    "v.ii. Updating formula for $\\mu_{1:G}$"
   ]
  },
  {
   "cell_type": "markdown",
   "id": "b8c6a3c8-d6ae-4c6b-8323-dc6ec5854d9f",
   "metadata": {},
   "source": [
    "$$\n",
    "\\mu_k = \\frac{\\Sigma_{i=1}^n w_{ik}x_i}{\\Sigma_{i=1}^n w_{ik}}\n",
    "$$"
   ]
  },
  {
   "cell_type": "markdown",
   "id": "f7ff3300-5b97-4771-a4f3-06a62ea88d70",
   "metadata": {},
   "source": [
    "v.iii. Updating formula for $\\Sigma$"
   ]
  },
  {
   "cell_type": "markdown",
   "id": "8888f271-f7e3-4385-911d-35c078c2c1cd",
   "metadata": {},
   "source": [
    "$$\n",
    "\\Sigma = \\frac{\\Sigma_{k=1}^G\\Sigma_{i=1}^n w_{ik}(x_i-\\mu_k)(x_i-\\mu_k)^T}{\\Sigma_{k=1}^G\\Sigma_{i=1}^n w_{ik}}\n",
    "$$"
   ]
  },
  {
   "cell_type": "markdown",
   "id": "79ba1975-1472-406c-8256-e974216e762f",
   "metadata": {},
   "source": [
    "# Part II\n"
   ]
  },
  {
   "cell_type": "markdown",
   "id": "8523c44f-6b46-4c78-b6a4-003a57cb4940",
   "metadata": {},
   "source": [
    "## II.I Baum-Welch\n"
   ]
  },
  {
   "cell_type": "markdown",
   "id": "995b6d23-4471-490b-a1bf-42816ecc1991",
   "metadata": {},
   "source": [
    "Below are the main functions used for the Baum-Welch algorith. First, the alpha coefficients:"
   ]
  },
  {
   "cell_type": "code",
   "execution_count": 631,
   "id": "656b652b-ea97-4e1d-ad66-7ac95536f0c5",
   "metadata": {},
   "outputs": [],
   "source": [
    "def alpha_forward(X, A, B, w):\n",
    "    \n",
    "    n = X.shape[0]\n",
    "    mz = A.shape[0]\n",
    "    alpha = np.zeros((n, mz))\n",
    "    \n",
    "    # First alpha\n",
    "    alpha[0,:] = w*B[:,int(X[0])]\n",
    "  \n",
    "    # Forward loop\n",
    "    for t in range(1, n):\n",
    "        for i in range(mz):\n",
    "            alpha[t, i] = (np.dot(alpha[t-1,:], A[:,i]))*B[i,int(X[t])]\n",
    " \n",
    "    return alpha"
   ]
  },
  {
   "cell_type": "markdown",
   "id": "835694d1-6bde-490f-b73f-9cc3dfcfc938",
   "metadata": {},
   "source": [
    "Then the beta coefficients"
   ]
  },
  {
   "cell_type": "code",
   "execution_count": 632,
   "id": "04412c85-5532-48b6-85e7-5f5d8c47d190",
   "metadata": {},
   "outputs": [],
   "source": [
    "def beta_backward(X, A, B):\n",
    "    \n",
    "    n = X.shape[0]\n",
    "    mz = A.shape[0]\n",
    "    beta = np.zeros((n, mz))\n",
    "\n",
    "    # Last beta\n",
    "    beta[n-1] = np.ones((mz))\n",
    "\n",
    "    # Backward loop\n",
    "    for t in range(n-2,-1,-1):\n",
    "        for i in range(mz):\n",
    "            beta[t, i] = np.dot(beta[t+1]*B[:,int(X[t+1])], A[i,:])\n",
    " \n",
    "    return beta"
   ]
  },
  {
   "cell_type": "markdown",
   "id": "8db649e2-87bb-4216-a834-efefcee01db9",
   "metadata": {},
   "source": [
    "Finally the main Baum-Welch algorithm"
   ]
  },
  {
   "cell_type": "code",
   "execution_count": 661,
   "id": "87dcf94d-735d-45b1-8176-a077f03bcb13",
   "metadata": {},
   "outputs": [],
   "source": [
    "def baum_welch(X, Ai, Bi, w, itmax):\n",
    "    \n",
    "    n = X.shape[0]\n",
    "    mz = Ai.shape[0]\n",
    "    mx = Bi.shape[1]\n",
    "    gamma = np.zeros((n-1, mz, mz))\n",
    "    gamma_t = np.zeros((n-1, mz))\n",
    "    \n",
    "    Ao = np.array(Ai)\n",
    "    Bo = np.array(Bi)\n",
    "    \n",
    "    for it in range(itmax):\n",
    "        \n",
    "        alpha = alpha_forward(X, Ao, Bo, w)\n",
    "        beta = beta_backward(X, Ao, Bo)   \n",
    "        \n",
    "        for i in range(mz):\n",
    "            for j in range(mz):\n",
    "                for t in range(n-1):\n",
    "                    gamma[t,i,j] = alpha[t,i]*Ao[i,j]*Bo[j,int(X[t+1])]*beta[t+1,j]\n",
    "        \n",
    "        for i in range(mz):\n",
    "            for t in range(n-1):\n",
    "                gamma_t[t,i] = np.sum(gamma[t,i,:])\n",
    "        \n",
    "        \n",
    "        for i in range(mz):\n",
    "            for j in range(mz):\n",
    "                Ao[i,j] = np.sum(gamma[:,i,j])\n",
    "            \n",
    "            Ao[i,:] = Ao[i,:]/np.sum(gamma_t[:,i])\n",
    "            \n",
    "        for i in range(mz):\n",
    "            for l in range(mx):\n",
    "                Bo[i,l] = 0\n",
    "                for t in range(n-1):\n",
    "                    inc = (int(X[t])==int(l))*(gamma_t[t,i])\n",
    "                    Bo[i,l] = Bo[i,l] + inc\n",
    "            Bo[i,:] = Bo[i,:]/np.sum(gamma_t[:,i])\n",
    "    \n",
    "    return Ao, Bo"
   ]
  },
  {
   "cell_type": "markdown",
   "id": "1829edd3-9002-488e-8d98-9ff88be9c188",
   "metadata": {},
   "source": [
    "Now let's import the data and define the initial variables obtained from R:"
   ]
  },
  {
   "cell_type": "code",
   "execution_count": 693,
   "id": "e6a2c788-c4e5-448d-a395-cdb125e7273e",
   "metadata": {},
   "outputs": [],
   "source": [
    "X = np.ndarray.flatten(np.array((pd.read_csv('part2.csv')))) -1\n",
    "X = np.concatenate(([1.], X))\n",
    "\n",
    "w = [0.5, 0.5]\n",
    "A = 0.5*np.ones((2,2))\n",
    "B = np.array([[0.1111111, 0.33333333, 0.55555556], [0.16666667, 0.33333333, 0.50000000]])\n"
   ]
  },
  {
   "cell_type": "markdown",
   "id": "0af0e69c-0669-4e2d-b788-16150ba0b61b",
   "metadata": {},
   "source": [
    "Let's the run the Baum-Welch code for 1 iteration:"
   ]
  },
  {
   "cell_type": "code",
   "execution_count": 697,
   "id": "0c8d95d3-1ff5-4eae-8f5b-b6c17f032609",
   "metadata": {},
   "outputs": [
    {
     "name": "stdout",
     "output_type": "stream",
     "text": [
      "A matrix\n",
      "[[0.48546499 0.51453501]\n",
      " [0.48503178 0.51496822]]\n",
      "B matrix\n",
      "[[0.23611488 0.19158446 0.57230066]\n",
      " [0.33386427 0.18059908 0.48553665]]\n"
     ]
    }
   ],
   "source": [
    "A1, B1 = baum_welch(X, A, B, w, 1)\n",
    "print('A matrix')\n",
    "print(A1)\n",
    "\n",
    "print('B matrix')\n",
    "print(B1)"
   ]
  },
  {
   "cell_type": "markdown",
   "id": "265c7466-d649-41eb-af72-5ff41f5d19c1",
   "metadata": {},
   "source": [
    "For 1 iteration, the output agrees exactly with the one generated from R.\n",
    "\n",
    "However, for larger steps, my code deviates from the one in R. After 100 iterations, the matrices are slightly different. The results are shown below."
   ]
  },
  {
   "cell_type": "code",
   "execution_count": 714,
   "id": "e3280a98-d00e-47d2-8173-29cdceb5e402",
   "metadata": {},
   "outputs": [
    {
     "name": "stdout",
     "output_type": "stream",
     "text": [
      "A matrix\n",
      "[[0.51302636 0.48697364]\n",
      " [0.45845992 0.54154008]]\n",
      "B matrix\n",
      "[[0.2248657  0.19189372 0.58324058]\n",
      " [0.34441473 0.18031276 0.47527252]]\n"
     ]
    }
   ],
   "source": [
    "A100, B100 = baum_welch(X, A, B, w, 100)\n",
    "print('A matrix')\n",
    "print(A100)\n",
    "\n",
    "print('B matrix')\n",
    "print(B100)"
   ]
  },
  {
   "cell_type": "markdown",
   "id": "7d7865c1-ade4-447f-9d83-dca2d6ff98a6",
   "metadata": {},
   "source": [
    "I think the reason for this discrepancy is some numerical approximation done differently in Python and in R."
   ]
  },
  {
   "cell_type": "code",
   "execution_count": 701,
   "id": "0e7bec2b-8a8d-4da5-8480-d0712699a5a3",
   "metadata": {},
   "outputs": [],
   "source": [
    "Br = np.array([[0.22159897, 0.20266127, 0.57573976],\n",
    "     [0.34175148, 0.17866665, 0.47958186]])\n",
    "\n",
    "Ar = np.array([[0.49793938, 0.50206062],\n",
    "    [0.44883431, 0.55116569]])"
   ]
  },
  {
   "cell_type": "markdown",
   "id": "2e84c151-3cdc-417f-9862-f42fac1db5dd",
   "metadata": {},
   "source": [
    "## II.II Viterbi algorithm"
   ]
  },
  {
   "cell_type": "markdown",
   "id": "a344fff2-9a26-4ddd-b186-61857f8bf9ec",
   "metadata": {},
   "source": [
    "First, let's define the delta coefficients"
   ]
  },
  {
   "cell_type": "code",
   "execution_count": 706,
   "id": "08cc4ca8-7e88-4753-855a-c95a6bb91f13",
   "metadata": {},
   "outputs": [],
   "source": [
    "def delta_viterbi(X, A, B, w):\n",
    "    \n",
    "    n = X.shape[0]\n",
    "    mz = A.shape[0]\n",
    "    delta = np.zeros((n, mz))\n",
    "\n",
    "    # First delta\n",
    "    delta[0,:] = w*B[:, int(X[0])]\n",
    "\n",
    "    # Loop forward\n",
    "    for t in range(1, n):\n",
    "        for i in range(mz):\n",
    "            delta[t,i] = np.max(delta[t-1,:]*A[:,i])*B[i,int(X[t])]\n",
    "\n",
    "    return delta\n"
   ]
  },
  {
   "cell_type": "markdown",
   "id": "4ac3fa51-f16f-46bb-9b5e-d7d4b91b041a",
   "metadata": {},
   "source": [
    "And the main Viterbi algorithm"
   ]
  },
  {
   "cell_type": "code",
   "execution_count": 709,
   "id": "3e74c981-aba0-46cb-9303-dbae47a25403",
   "metadata": {},
   "outputs": [],
   "source": [
    "def viterbi(X, A, B, w):\n",
    "    \n",
    "    n = X.shape[0]\n",
    "    mz = A.shape[0]\n",
    "    Z = np.zeros((n))\n",
    "\n",
    "    delta = delta_viterbi(X, A, B, w) \n",
    "\n",
    "    Z[n-1] = np.argmax(delta[n-1,:])\n",
    "\n",
    "    \n",
    "    for t in range(n-2,-1,-1):\n",
    "        Z[t] = np.argmax(delta[t,:]*A[:, int(Z[t+1])])\n",
    "\n",
    "    return Z"
   ]
  },
  {
   "cell_type": "markdown",
   "id": "0394e097-79af-407d-9531-d29536208dff",
   "metadata": {},
   "source": [
    "Let's first run the Viterbi algorithm using the obtained A and B from R:"
   ]
  },
  {
   "cell_type": "code",
   "execution_count": 716,
   "id": "a5bed1a3-4fbb-40cd-a601-2e26ed9bde2f",
   "metadata": {},
   "outputs": [
    {
     "name": "stdout",
     "output_type": "stream",
     "text": [
      "[0. 0. 0. 0. 0. 0. 0. 1. 0. 0. 0. 0. 0. 1. 1. 0. 0. 0. 0. 0. 0. 0. 1. 1.\n",
      " 1. 1. 1. 0. 0. 0. 0. 0. 0. 0. 1. 0. 0. 0. 0. 0. 0. 0. 0. 1. 1. 0. 0. 0.\n",
      " 0. 0. 0. 1. 1. 1. 0. 0. 0. 0. 1. 1. 1. 1. 0. 0. 0. 0. 0. 0. 0. 0. 1. 1.\n",
      " 1. 1. 1. 1. 1. 1. 1. 1. 1. 1. 1. 1. 1. 1. 1. 1. 1. 1. 1. 0. 0. 0. 0. 1.\n",
      " 0. 0. 0. 0. 0. 0. 0. 0. 0. 0. 0. 0. 0. 1. 0. 0. 0. 0. 1. 0. 0. 0. 0. 0.\n",
      " 0. 1. 1. 1. 1. 1. 1. 1. 1. 1. 1. 1. 1. 0. 0. 0. 0. 0. 0. 0. 1. 1. 1. 1.\n",
      " 1. 1. 1. 1. 1. 1. 1. 0. 0. 0. 1. 1. 1. 1. 1. 1. 0. 0. 0. 0. 0. 1. 1. 1.\n",
      " 1. 1. 1. 1. 1. 1. 0. 0. 0. 1. 1. 1. 0. 0. 0. 0. 0. 0. 0. 0. 1. 1. 1. 1.\n",
      " 1. 0. 0. 0. 0. 0. 0. 0.]\n"
     ]
    }
   ],
   "source": [
    "Zr = viterbi(X, Ar, Br, w)\n",
    "print(Zr)\n"
   ]
  },
  {
   "cell_type": "markdown",
   "id": "0983d1fc-dd1c-4b0e-8e9a-753715371c00",
   "metadata": {},
   "source": [
    "The sequence agrees exactly with the one from R by the coding A = 0 and B = 1.\n",
    "\n",
    "Now let's run the Viterbi algorithm on the A and B on my code:"
   ]
  },
  {
   "cell_type": "code",
   "execution_count": 717,
   "id": "926e8110-d8a5-4e8d-9918-cffebe84289b",
   "metadata": {},
   "outputs": [
    {
     "name": "stdout",
     "output_type": "stream",
     "text": [
      "[0. 0. 0. 0. 0. 0. 0. 1. 0. 0. 0. 0. 0. 1. 1. 0. 0. 0. 0. 0. 0. 0. 1. 1.\n",
      " 1. 1. 1. 0. 0. 0. 0. 0. 0. 0. 1. 0. 0. 0. 0. 0. 0. 0. 0. 1. 1. 0. 0. 0.\n",
      " 0. 0. 0. 1. 1. 1. 0. 0. 0. 0. 1. 1. 1. 1. 0. 0. 0. 0. 0. 0. 0. 0. 1. 1.\n",
      " 1. 0. 0. 1. 1. 1. 1. 1. 1. 1. 1. 1. 1. 1. 1. 1. 1. 1. 1. 0. 0. 0. 0. 1.\n",
      " 0. 0. 0. 0. 0. 0. 0. 0. 0. 0. 0. 0. 0. 1. 0. 0. 0. 0. 1. 0. 0. 0. 0. 0.\n",
      " 0. 1. 1. 1. 1. 1. 1. 1. 1. 1. 1. 1. 1. 0. 0. 0. 0. 0. 0. 0. 1. 1. 1. 1.\n",
      " 1. 1. 1. 1. 1. 1. 1. 0. 0. 0. 1. 1. 0. 0. 0. 1. 0. 0. 0. 0. 0. 1. 1. 1.\n",
      " 1. 1. 1. 1. 1. 1. 0. 0. 0. 1. 1. 1. 0. 0. 0. 0. 0. 0. 0. 0. 1. 1. 1. 1.\n",
      " 1. 0. 0. 0. 0. 0. 0. 0.]\n"
     ]
    }
   ],
   "source": [
    "Zp = viterbi(X, A100, B100, w)\n",
    "print(Zp)"
   ]
  },
  {
   "cell_type": "markdown",
   "id": "63f4e152-596c-433a-9d7c-2ff740492ccd",
   "metadata": {},
   "source": [
    "Even though the A and B matrices are slighlty different, the reconstructed sequences are almost the same!\n",
    "\n",
    "The fraction of same Z in both sequences is 97.5%!"
   ]
  },
  {
   "cell_type": "code",
   "execution_count": 722,
   "id": "ab204ccd-df47-4fcc-9ffa-d47dcd97c478",
   "metadata": {},
   "outputs": [
    {
     "name": "stdout",
     "output_type": "stream",
     "text": [
      "Fraction of same Z = 0.975\n"
     ]
    }
   ],
   "source": [
    "print('Fraction of same Z =', np.sum(Zr==Zp)/len(Zp))"
   ]
  }
 ],
 "metadata": {
  "kernelspec": {
   "display_name": "Python 3 (ipykernel)",
   "language": "python",
   "name": "python3"
  },
  "language_info": {
   "codemirror_mode": {
    "name": "ipython",
    "version": 3
   },
   "file_extension": ".py",
   "mimetype": "text/x-python",
   "name": "python",
   "nbconvert_exporter": "python",
   "pygments_lexer": "ipython3",
   "version": "3.9.7"
  }
 },
 "nbformat": 4,
 "nbformat_minor": 5
}
